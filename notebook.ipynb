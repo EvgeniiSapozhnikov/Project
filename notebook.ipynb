{
 "cells": [
  {
   "cell_type": "markdown",
   "metadata": {
    "toc": true
   },
   "source": [
    "<h1>Содержание<span class=\"tocSkip\"></span></h1>\n",
    "<div class=\"toc\"><ul class=\"toc-item\"><li><span><a href=\"#Определение-цели-и-задач-исследования\" data-toc-modified-id=\"Определение-цели-и-задач-исследования-1\"><span class=\"toc-item-num\">1&nbsp;&nbsp;</span>Определение цели и задач исследования</a></span></li><li><span><a href=\"#Подготовка-данных\" data-toc-modified-id=\"Подготовка-данных-2\"><span class=\"toc-item-num\">2&nbsp;&nbsp;</span>Подготовка данных</a></span><ul class=\"toc-item\"><li><span><a href=\"#Предварительный-просмотр-данных\" data-toc-modified-id=\"Предварительный-просмотр-данных-2.1\"><span class=\"toc-item-num\">2.1&nbsp;&nbsp;</span>Предварительный просмотр данных</a></span></li><li><span><a href=\"#Прямое-кодирование-признаков\" data-toc-modified-id=\"Прямое-кодирование-признаков-2.2\"><span class=\"toc-item-num\">2.2&nbsp;&nbsp;</span>Прямое кодирование признаков</a></span></li><li><span><a href=\"#Масштабирование-признаков\" data-toc-modified-id=\"Масштабирование-признаков-2.3\"><span class=\"toc-item-num\">2.3&nbsp;&nbsp;</span>Масштабирование признаков</a></span></li><li><span><a href=\"#Выводы-по-результатам-подготовки-данных\" data-toc-modified-id=\"Выводы-по-результатам-подготовки-данных-2.4\"><span class=\"toc-item-num\">2.4&nbsp;&nbsp;</span>Выводы по результатам подготовки данных</a></span></li></ul></li><li><span><a href=\"#Исследование-задачи\" data-toc-modified-id=\"Исследование-задачи-3\"><span class=\"toc-item-num\">3&nbsp;&nbsp;</span>Исследование задачи</a></span><ul class=\"toc-item\"><li><span><a href=\"#Решающее-дерево\" data-toc-modified-id=\"Решающее-дерево-3.1\"><span class=\"toc-item-num\">3.1&nbsp;&nbsp;</span>Решающее дерево</a></span></li><li><span><a href=\"#Случайный-лес\" data-toc-modified-id=\"Случайный-лес-3.2\"><span class=\"toc-item-num\">3.2&nbsp;&nbsp;</span>Случайный лес</a></span></li><li><span><a href=\"#Логистическая-регрессия\" data-toc-modified-id=\"Логистическая-регрессия-3.3\"><span class=\"toc-item-num\">3.3&nbsp;&nbsp;</span>Логистическая регрессия</a></span></li><li><span><a href=\"#Выводы-по-результатам-исследования-задачи\" data-toc-modified-id=\"Выводы-по-результатам-исследования-задачи-3.4\"><span class=\"toc-item-num\">3.4&nbsp;&nbsp;</span>Выводы по результатам исследования задачи</a></span></li></ul></li><li><span><a href=\"#Борьба-с-дисбалансом\" data-toc-modified-id=\"Борьба-с-дисбалансом-4\"><span class=\"toc-item-num\">4&nbsp;&nbsp;</span>Борьба с дисбалансом</a></span><ul class=\"toc-item\"><li><span><a href=\"#Исследование-баланска-классов\" data-toc-modified-id=\"Исследование-баланска-классов-4.1\"><span class=\"toc-item-num\">4.1&nbsp;&nbsp;</span>Исследование баланска классов</a></span></li><li><span><a href=\"#Взвешивание-классов\" data-toc-modified-id=\"Взвешивание-классов-4.2\"><span class=\"toc-item-num\">4.2&nbsp;&nbsp;</span>Взвешивание классов</a></span><ul class=\"toc-item\"><li><span><a href=\"#Решающее-дерево\" data-toc-modified-id=\"Решающее-дерево-4.2.1\"><span class=\"toc-item-num\">4.2.1&nbsp;&nbsp;</span>Решающее дерево</a></span></li><li><span><a href=\"#Случайный-лес\" data-toc-modified-id=\"Случайный-лес-4.2.2\"><span class=\"toc-item-num\">4.2.2&nbsp;&nbsp;</span>Случайный лес</a></span></li><li><span><a href=\"#Логистическая-регрессия\" data-toc-modified-id=\"Логистическая-регрессия-4.2.3\"><span class=\"toc-item-num\">4.2.3&nbsp;&nbsp;</span>Логистическая регрессия</a></span></li></ul></li><li><span><a href=\"#Увеличение-выборки\" data-toc-modified-id=\"Увеличение-выборки-4.3\"><span class=\"toc-item-num\">4.3&nbsp;&nbsp;</span>Увеличение выборки</a></span><ul class=\"toc-item\"><li><span><a href=\"#Решающее-дерево\" data-toc-modified-id=\"Решающее-дерево-4.3.1\"><span class=\"toc-item-num\">4.3.1&nbsp;&nbsp;</span>Решающее дерево</a></span></li><li><span><a href=\"#Случайный-лес\" data-toc-modified-id=\"Случайный-лес-4.3.2\"><span class=\"toc-item-num\">4.3.2&nbsp;&nbsp;</span>Случайный лес</a></span></li><li><span><a href=\"#Логистическая-регрессия\" data-toc-modified-id=\"Логистическая-регрессия-4.3.3\"><span class=\"toc-item-num\">4.3.3&nbsp;&nbsp;</span>Логистическая регрессия</a></span></li></ul></li><li><span><a href=\"#Изменение-порога-классификации\" data-toc-modified-id=\"Изменение-порога-классификации-4.4\"><span class=\"toc-item-num\">4.4&nbsp;&nbsp;</span>Изменение порога классификации</a></span><ul class=\"toc-item\"><li><span><a href=\"#Решающее-дерево\" data-toc-modified-id=\"Решающее-дерево-4.4.1\"><span class=\"toc-item-num\">4.4.1&nbsp;&nbsp;</span>Решающее дерево</a></span></li><li><span><a href=\"#Случайный-лес\" data-toc-modified-id=\"Случайный-лес-4.4.2\"><span class=\"toc-item-num\">4.4.2&nbsp;&nbsp;</span>Случайный лес</a></span></li><li><span><a href=\"#Логистическая-регрессия\" data-toc-modified-id=\"Логистическая-регрессия-4.4.3\"><span class=\"toc-item-num\">4.4.3&nbsp;&nbsp;</span>Логистическая регрессия</a></span></li></ul></li><li><span><a href=\"#Вывод-по-результатам-борьбы-с-дисбалансом\" data-toc-modified-id=\"Вывод-по-результатам-борьбы-с-дисбалансом-4.5\"><span class=\"toc-item-num\">4.5&nbsp;&nbsp;</span>Вывод по результатам борьбы с дисбалансом</a></span></li></ul></li><li><span><a href=\"#Тестирование-модели\" data-toc-modified-id=\"Тестирование-модели-5\"><span class=\"toc-item-num\">5&nbsp;&nbsp;</span>Тестирование модели</a></span><ul class=\"toc-item\"><li><span><a href=\"#Заключение-по-результатам-тестирования-модели\" data-toc-modified-id=\"Заключение-по-результатам-тестирования-модели-5.1\"><span class=\"toc-item-num\">5.1&nbsp;&nbsp;</span>Заключение по результатам тестирования модели</a></span></li></ul></li><li><span><a href=\"#Заключение-по-результатам-исследования\" data-toc-modified-id=\"Заключение-по-результатам-исследования-6\"><span class=\"toc-item-num\">6&nbsp;&nbsp;</span>Заключение по результатам исследования</a></span></li><li><span><a href=\"#Чек-лист-готовности-проекта\" data-toc-modified-id=\"Чек-лист-готовности-проекта-7\"><span class=\"toc-item-num\">7&nbsp;&nbsp;</span>Чек-лист готовности проекта</a></span></li></ul></div>"
   ]
  },
  {
   "cell_type": "markdown",
   "metadata": {},
   "source": [
    "# Отток клиентов"
   ]
  },
  {
   "cell_type": "markdown",
   "metadata": {},
   "source": [
    "Из «Бета-Банка» стали уходить клиенты. Каждый месяц. Немного, но заметно. Банковские маркетологи посчитали: сохранять текущих клиентов дешевле, чем привлекать новых.\n",
    "\n",
    "Нужно спрогнозировать, уйдёт клиент из банка в ближайшее время или нет. Вам предоставлены исторические данные о поведении клиентов и расторжении договоров с банком. \n",
    "\n",
    "Постройте модель с предельно большим значением *F1*-меры. Чтобы сдать проект успешно, нужно довести метрику до 0.59. Проверьте *F1*-меру на тестовой выборке самостоятельно.\n",
    "\n",
    "Дополнительно измеряйте *AUC-ROC*, сравнивайте её значение с *F1*-мерой.\n",
    "\n",
    "Источник данных: [https://www.kaggle.com/barelydedicated/bank-customer-churn-modeling](https://www.kaggle.com/barelydedicated/bank-customer-churn-modeling)"
   ]
  },
  {
   "cell_type": "markdown",
   "metadata": {},
   "source": [
    "## Определение цели и задач исследования"
   ]
  },
  {
   "cell_type": "markdown",
   "metadata": {},
   "source": [
    "Исходя из описания задания, сформируем цель и задачи исследования. \n",
    "\n",
    "Цель исследования - формирование модели, позволяющей прогнозировать отток клиентов из банка с предельно большим значением F1-меры (не менее 0.59). \n",
    "\n",
    "Для достижения поставленной цели необходимо выполнить следующие задачи:\n",
    "1. Провести предварительный анализ и подготовку данных. \n",
    "2. Обучить модели и проанализировать их на адекватность (без учета дисбаланса данных). \n",
    "3. Рассмотреть, как влияют разные способы борьбы с дисбалансом на адекватность моделей (рассмотреть полноту, точность и F1-меру).\n",
    "4. Дополнительно рассмотреть значение AUC-ROC для модели с наибольшим значением F1-меры."
   ]
  },
  {
   "cell_type": "markdown",
   "metadata": {},
   "source": [
    "## Подготовка данных"
   ]
  },
  {
   "cell_type": "markdown",
   "metadata": {},
   "source": [
    "### Предварительный просмотр данных"
   ]
  },
  {
   "cell_type": "markdown",
   "metadata": {},
   "source": [
    "Сохраним исходный датасет в переменной `data_initial`.\n",
    "Также импортируем необходимые для работы библиотеки и модули. "
   ]
  },
  {
   "cell_type": "code",
   "execution_count": 40,
   "metadata": {
    "scrolled": true
   },
   "outputs": [
    {
     "data": {
      "text/html": [
       "<div>\n",
       "<style scoped>\n",
       "    .dataframe tbody tr th:only-of-type {\n",
       "        vertical-align: middle;\n",
       "    }\n",
       "\n",
       "    .dataframe tbody tr th {\n",
       "        vertical-align: top;\n",
       "    }\n",
       "\n",
       "    .dataframe thead th {\n",
       "        text-align: right;\n",
       "    }\n",
       "</style>\n",
       "<table border=\"1\" class=\"dataframe\">\n",
       "  <thead>\n",
       "    <tr style=\"text-align: right;\">\n",
       "      <th></th>\n",
       "      <th>RowNumber</th>\n",
       "      <th>CustomerId</th>\n",
       "      <th>Surname</th>\n",
       "      <th>CreditScore</th>\n",
       "      <th>Geography</th>\n",
       "      <th>Gender</th>\n",
       "      <th>Age</th>\n",
       "      <th>Tenure</th>\n",
       "      <th>Balance</th>\n",
       "      <th>NumOfProducts</th>\n",
       "      <th>HasCrCard</th>\n",
       "      <th>IsActiveMember</th>\n",
       "      <th>EstimatedSalary</th>\n",
       "      <th>Exited</th>\n",
       "    </tr>\n",
       "  </thead>\n",
       "  <tbody>\n",
       "    <tr>\n",
       "      <th>0</th>\n",
       "      <td>1</td>\n",
       "      <td>15634602</td>\n",
       "      <td>Hargrave</td>\n",
       "      <td>619</td>\n",
       "      <td>France</td>\n",
       "      <td>Female</td>\n",
       "      <td>42</td>\n",
       "      <td>2.0</td>\n",
       "      <td>0.00</td>\n",
       "      <td>1</td>\n",
       "      <td>1</td>\n",
       "      <td>1</td>\n",
       "      <td>101348.88</td>\n",
       "      <td>1</td>\n",
       "    </tr>\n",
       "    <tr>\n",
       "      <th>1</th>\n",
       "      <td>2</td>\n",
       "      <td>15647311</td>\n",
       "      <td>Hill</td>\n",
       "      <td>608</td>\n",
       "      <td>Spain</td>\n",
       "      <td>Female</td>\n",
       "      <td>41</td>\n",
       "      <td>1.0</td>\n",
       "      <td>83807.86</td>\n",
       "      <td>1</td>\n",
       "      <td>0</td>\n",
       "      <td>1</td>\n",
       "      <td>112542.58</td>\n",
       "      <td>0</td>\n",
       "    </tr>\n",
       "    <tr>\n",
       "      <th>2</th>\n",
       "      <td>3</td>\n",
       "      <td>15619304</td>\n",
       "      <td>Onio</td>\n",
       "      <td>502</td>\n",
       "      <td>France</td>\n",
       "      <td>Female</td>\n",
       "      <td>42</td>\n",
       "      <td>8.0</td>\n",
       "      <td>159660.80</td>\n",
       "      <td>3</td>\n",
       "      <td>1</td>\n",
       "      <td>0</td>\n",
       "      <td>113931.57</td>\n",
       "      <td>1</td>\n",
       "    </tr>\n",
       "    <tr>\n",
       "      <th>3</th>\n",
       "      <td>4</td>\n",
       "      <td>15701354</td>\n",
       "      <td>Boni</td>\n",
       "      <td>699</td>\n",
       "      <td>France</td>\n",
       "      <td>Female</td>\n",
       "      <td>39</td>\n",
       "      <td>1.0</td>\n",
       "      <td>0.00</td>\n",
       "      <td>2</td>\n",
       "      <td>0</td>\n",
       "      <td>0</td>\n",
       "      <td>93826.63</td>\n",
       "      <td>0</td>\n",
       "    </tr>\n",
       "    <tr>\n",
       "      <th>4</th>\n",
       "      <td>5</td>\n",
       "      <td>15737888</td>\n",
       "      <td>Mitchell</td>\n",
       "      <td>850</td>\n",
       "      <td>Spain</td>\n",
       "      <td>Female</td>\n",
       "      <td>43</td>\n",
       "      <td>2.0</td>\n",
       "      <td>125510.82</td>\n",
       "      <td>1</td>\n",
       "      <td>1</td>\n",
       "      <td>1</td>\n",
       "      <td>79084.10</td>\n",
       "      <td>0</td>\n",
       "    </tr>\n",
       "  </tbody>\n",
       "</table>\n",
       "</div>"
      ],
      "text/plain": [
       "   RowNumber  CustomerId   Surname  CreditScore Geography  Gender  Age  \\\n",
       "0          1    15634602  Hargrave          619    France  Female   42   \n",
       "1          2    15647311      Hill          608     Spain  Female   41   \n",
       "2          3    15619304      Onio          502    France  Female   42   \n",
       "3          4    15701354      Boni          699    France  Female   39   \n",
       "4          5    15737888  Mitchell          850     Spain  Female   43   \n",
       "\n",
       "   Tenure    Balance  NumOfProducts  HasCrCard  IsActiveMember  \\\n",
       "0     2.0       0.00              1          1               1   \n",
       "1     1.0   83807.86              1          0               1   \n",
       "2     8.0  159660.80              3          1               0   \n",
       "3     1.0       0.00              2          0               0   \n",
       "4     2.0  125510.82              1          1               1   \n",
       "\n",
       "   EstimatedSalary  Exited  \n",
       "0        101348.88       1  \n",
       "1        112542.58       0  \n",
       "2        113931.57       1  \n",
       "3         93826.63       0  \n",
       "4         79084.10       0  "
      ]
     },
     "execution_count": 40,
     "metadata": {},
     "output_type": "execute_result"
    }
   ],
   "source": [
    "import pandas as pd\n",
    "import matplotlib.pyplot as plt\n",
    "import seaborn as sns\n",
    "import numpy as np\n",
    "from sklearn.model_selection import train_test_split\n",
    "from sklearn.tree import DecisionTreeClassifier\n",
    "from sklearn.ensemble import RandomForestClassifier\n",
    "from sklearn.linear_model import LogisticRegression\n",
    "from sklearn.metrics import accuracy_score\n",
    "from sklearn.metrics import confusion_matrix\n",
    "from sklearn.metrics import plot_confusion_matrix\n",
    "from sklearn.metrics import classification_report\n",
    "from sklearn.preprocessing import StandardScaler\n",
    "from sklearn.utils import shuffle\n",
    "from sklearn.metrics import precision_score, recall_score, f1_score, roc_auc_score, roc_curve\n",
    "\n",
    "data_initial = pd.read_csv('datasets/Churn.csv')\n",
    "\n",
    "data_initial.head()"
   ]
  },
  {
   "cell_type": "markdown",
   "metadata": {},
   "source": [
    "Напишем функцию, которая покажет основную информацию о датафрейме (показывает, какие столбцы есть в датафрейме, считает для них количество пропусков, определяет, содержит ли столбец булев тип данных или нет, а также корреляционную матрицу выводит в конце)"
   ]
  },
  {
   "cell_type": "code",
   "execution_count": 41,
   "metadata": {},
   "outputs": [],
   "source": [
    "def introduction_to_data(df):\n",
    "    parameters = dict()\n",
    "    parameters['column name'] = list(df.columns)\n",
    "    parameters['type'] = list(df.dtypes)\n",
    "    parameters['non-null'] = list(df.count() - df.isna().sum())\n",
    "    parameters['null_quantity'] = list(df.isna().sum())\n",
    "    parameters['null_percentage'] = list((df.isna().sum()/df.count())*100)\n",
    "    parameters['min'] = list(df.min())\n",
    "    parameters['max'] = list(df.max())\n",
    "    \n",
    "    info = pd.DataFrame(parameters)\n",
    "    info.loc[(info['max'] == 1) & (info['min'] == 0), 'is_bool'] = 'bool'\n",
    "    info = info.drop(columns=['min', 'max'])\n",
    "    \n",
    "    plt.figure(figsize=(16,5))\n",
    "\n",
    "    fig = sns.heatmap(df.corr(), xticklabels=df.corr().columns, yticklabels=df.corr().columns, cmap='RdYlGn', center=0, annot=True)\n",
    "\n",
    "    return  display(info), fig"
   ]
  },
  {
   "cell_type": "code",
   "execution_count": 42,
   "metadata": {},
   "outputs": [
    {
     "data": {
      "text/html": [
       "<div>\n",
       "<style scoped>\n",
       "    .dataframe tbody tr th:only-of-type {\n",
       "        vertical-align: middle;\n",
       "    }\n",
       "\n",
       "    .dataframe tbody tr th {\n",
       "        vertical-align: top;\n",
       "    }\n",
       "\n",
       "    .dataframe thead th {\n",
       "        text-align: right;\n",
       "    }\n",
       "</style>\n",
       "<table border=\"1\" class=\"dataframe\">\n",
       "  <thead>\n",
       "    <tr style=\"text-align: right;\">\n",
       "      <th></th>\n",
       "      <th>column name</th>\n",
       "      <th>type</th>\n",
       "      <th>non-null</th>\n",
       "      <th>null_quantity</th>\n",
       "      <th>null_percentage</th>\n",
       "      <th>is_bool</th>\n",
       "    </tr>\n",
       "  </thead>\n",
       "  <tbody>\n",
       "    <tr>\n",
       "      <th>0</th>\n",
       "      <td>RowNumber</td>\n",
       "      <td>int64</td>\n",
       "      <td>10000</td>\n",
       "      <td>0</td>\n",
       "      <td>0.0000</td>\n",
       "      <td>NaN</td>\n",
       "    </tr>\n",
       "    <tr>\n",
       "      <th>1</th>\n",
       "      <td>CustomerId</td>\n",
       "      <td>int64</td>\n",
       "      <td>10000</td>\n",
       "      <td>0</td>\n",
       "      <td>0.0000</td>\n",
       "      <td>NaN</td>\n",
       "    </tr>\n",
       "    <tr>\n",
       "      <th>2</th>\n",
       "      <td>Surname</td>\n",
       "      <td>object</td>\n",
       "      <td>10000</td>\n",
       "      <td>0</td>\n",
       "      <td>0.0000</td>\n",
       "      <td>NaN</td>\n",
       "    </tr>\n",
       "    <tr>\n",
       "      <th>3</th>\n",
       "      <td>CreditScore</td>\n",
       "      <td>int64</td>\n",
       "      <td>10000</td>\n",
       "      <td>0</td>\n",
       "      <td>0.0000</td>\n",
       "      <td>NaN</td>\n",
       "    </tr>\n",
       "    <tr>\n",
       "      <th>4</th>\n",
       "      <td>Geography</td>\n",
       "      <td>object</td>\n",
       "      <td>10000</td>\n",
       "      <td>0</td>\n",
       "      <td>0.0000</td>\n",
       "      <td>NaN</td>\n",
       "    </tr>\n",
       "    <tr>\n",
       "      <th>5</th>\n",
       "      <td>Gender</td>\n",
       "      <td>object</td>\n",
       "      <td>10000</td>\n",
       "      <td>0</td>\n",
       "      <td>0.0000</td>\n",
       "      <td>NaN</td>\n",
       "    </tr>\n",
       "    <tr>\n",
       "      <th>6</th>\n",
       "      <td>Age</td>\n",
       "      <td>int64</td>\n",
       "      <td>10000</td>\n",
       "      <td>0</td>\n",
       "      <td>0.0000</td>\n",
       "      <td>NaN</td>\n",
       "    </tr>\n",
       "    <tr>\n",
       "      <th>7</th>\n",
       "      <td>Tenure</td>\n",
       "      <td>float64</td>\n",
       "      <td>8182</td>\n",
       "      <td>909</td>\n",
       "      <td>9.9989</td>\n",
       "      <td>NaN</td>\n",
       "    </tr>\n",
       "    <tr>\n",
       "      <th>8</th>\n",
       "      <td>Balance</td>\n",
       "      <td>float64</td>\n",
       "      <td>10000</td>\n",
       "      <td>0</td>\n",
       "      <td>0.0000</td>\n",
       "      <td>NaN</td>\n",
       "    </tr>\n",
       "    <tr>\n",
       "      <th>9</th>\n",
       "      <td>NumOfProducts</td>\n",
       "      <td>int64</td>\n",
       "      <td>10000</td>\n",
       "      <td>0</td>\n",
       "      <td>0.0000</td>\n",
       "      <td>NaN</td>\n",
       "    </tr>\n",
       "    <tr>\n",
       "      <th>10</th>\n",
       "      <td>HasCrCard</td>\n",
       "      <td>int64</td>\n",
       "      <td>10000</td>\n",
       "      <td>0</td>\n",
       "      <td>0.0000</td>\n",
       "      <td>bool</td>\n",
       "    </tr>\n",
       "    <tr>\n",
       "      <th>11</th>\n",
       "      <td>IsActiveMember</td>\n",
       "      <td>int64</td>\n",
       "      <td>10000</td>\n",
       "      <td>0</td>\n",
       "      <td>0.0000</td>\n",
       "      <td>bool</td>\n",
       "    </tr>\n",
       "    <tr>\n",
       "      <th>12</th>\n",
       "      <td>EstimatedSalary</td>\n",
       "      <td>float64</td>\n",
       "      <td>10000</td>\n",
       "      <td>0</td>\n",
       "      <td>0.0000</td>\n",
       "      <td>NaN</td>\n",
       "    </tr>\n",
       "    <tr>\n",
       "      <th>13</th>\n",
       "      <td>Exited</td>\n",
       "      <td>int64</td>\n",
       "      <td>10000</td>\n",
       "      <td>0</td>\n",
       "      <td>0.0000</td>\n",
       "      <td>bool</td>\n",
       "    </tr>\n",
       "  </tbody>\n",
       "</table>\n",
       "</div>"
      ],
      "text/plain": [
       "        column name     type  non-null  null_quantity  null_percentage is_bool\n",
       "0         RowNumber    int64     10000              0           0.0000     NaN\n",
       "1        CustomerId    int64     10000              0           0.0000     NaN\n",
       "2           Surname   object     10000              0           0.0000     NaN\n",
       "3       CreditScore    int64     10000              0           0.0000     NaN\n",
       "4         Geography   object     10000              0           0.0000     NaN\n",
       "5            Gender   object     10000              0           0.0000     NaN\n",
       "6               Age    int64     10000              0           0.0000     NaN\n",
       "7            Tenure  float64      8182            909           9.9989     NaN\n",
       "8           Balance  float64     10000              0           0.0000     NaN\n",
       "9     NumOfProducts    int64     10000              0           0.0000     NaN\n",
       "10        HasCrCard    int64     10000              0           0.0000    bool\n",
       "11   IsActiveMember    int64     10000              0           0.0000    bool\n",
       "12  EstimatedSalary  float64     10000              0           0.0000     NaN\n",
       "13           Exited    int64     10000              0           0.0000    bool"
      ]
     },
     "metadata": {},
     "output_type": "display_data"
    },
    {
     "data": {
      "text/plain": [
       "(None, <AxesSubplot:>)"
      ]
     },
     "execution_count": 42,
     "metadata": {},
     "output_type": "execute_result"
    },
    {
     "data": {
      "image/png": "[encoded data removed]",
      "text/plain": [
       "<Figure size 1152x360 with 2 Axes>"
      ]
     },
     "metadata": {
      "needs_background": "light"
     },
     "output_type": "display_data"
    }
   ],
   "source": [
    "info = introduction_to_data(data_initial)\n",
    "\n",
    "info"
   ]
  },
  {
   "cell_type": "markdown",
   "metadata": {},
   "source": [
    "По полученным данным можно заключить следующее:\n",
    "1. В полученном датафрейме пропуски содержатся только в столбце `Tenure`, однако их доля составляет почти 10%, следовательно, мы не можем исключить данные пропуски. Заменим пропуски на медианные значения. \n",
    "2. Кроме того, матрица корреляции показывает, что между столбцами `Age` и `Exited` может быть связь, при этом значение составляет около 0.3, так что. данная зависимость (если она и существует) не является линейной. \n",
    "3. Не все признаки в модели являются количественными, встречаются и категориальные. Такие признаки нужно будет перевести в также в количественные перед обучением модели. \n",
    "\n",
    "Для перевода признаков применим прямое кодирование, так как результаты прямого кодирования могут быть применены как при обучении моделей решающего дерева и случайного леса, так и для логистической регрессии.\n",
    "\n",
    "Кроме того, разброс значений в количественных признаках может сказаться на результатах работы модели. Проведем масштабирование признаков для следующих столбцов:\n",
    "1. `Age`.\n",
    "2. `Tenure`.\n",
    "3. `Balance`.\n",
    "4. `NumOfProducts`.\n",
    "5. `EstimatedSalary`."
   ]
  },
  {
   "cell_type": "code",
   "execution_count": 43,
   "metadata": {},
   "outputs": [],
   "source": [
    "data_initial = data_initial.fillna(value=data_initial['Tenure'].median())"
   ]
  },
  {
   "cell_type": "markdown",
   "metadata": {},
   "source": [
    "### Прямое кодирование признаков"
   ]
  },
  {
   "cell_type": "markdown",
   "metadata": {},
   "source": [
    "Для прямого кодирования признаков воспользуемся функцией библиотеки Pandas `.get_dummies()`. При вызове функции также укажем аргумент `drop_first=True`, что позовлит избежать т.н. дамми-ловушки. "
   ]
  },
  {
   "cell_type": "code",
   "execution_count": 44,
   "metadata": {},
   "outputs": [
    {
     "data": {
      "text/html": [
       "<div>\n",
       "<style scoped>\n",
       "    .dataframe tbody tr th:only-of-type {\n",
       "        vertical-align: middle;\n",
       "    }\n",
       "\n",
       "    .dataframe tbody tr th {\n",
       "        vertical-align: top;\n",
       "    }\n",
       "\n",
       "    .dataframe thead th {\n",
       "        text-align: right;\n",
       "    }\n",
       "</style>\n",
       "<table border=\"1\" class=\"dataframe\">\n",
       "  <thead>\n",
       "    <tr style=\"text-align: right;\">\n",
       "      <th></th>\n",
       "      <th>RowNumber</th>\n",
       "      <th>CustomerId</th>\n",
       "      <th>CreditScore</th>\n",
       "      <th>Age</th>\n",
       "      <th>Tenure</th>\n",
       "      <th>Balance</th>\n",
       "      <th>NumOfProducts</th>\n",
       "      <th>HasCrCard</th>\n",
       "      <th>IsActiveMember</th>\n",
       "      <th>EstimatedSalary</th>\n",
       "      <th>...</th>\n",
       "      <th>Surname_Zotova</th>\n",
       "      <th>Surname_Zox</th>\n",
       "      <th>Surname_Zubarev</th>\n",
       "      <th>Surname_Zubareva</th>\n",
       "      <th>Surname_Zuev</th>\n",
       "      <th>Surname_Zuyev</th>\n",
       "      <th>Surname_Zuyeva</th>\n",
       "      <th>Geography_Germany</th>\n",
       "      <th>Geography_Spain</th>\n",
       "      <th>Gender_Male</th>\n",
       "    </tr>\n",
       "  </thead>\n",
       "  <tbody>\n",
       "    <tr>\n",
       "      <th>0</th>\n",
       "      <td>1</td>\n",
       "      <td>15634602</td>\n",
       "      <td>619</td>\n",
       "      <td>42</td>\n",
       "      <td>2.0</td>\n",
       "      <td>0.00</td>\n",
       "      <td>1</td>\n",
       "      <td>1</td>\n",
       "      <td>1</td>\n",
       "      <td>101348.88</td>\n",
       "      <td>...</td>\n",
       "      <td>0</td>\n",
       "      <td>0</td>\n",
       "      <td>0</td>\n",
       "      <td>0</td>\n",
       "      <td>0</td>\n",
       "      <td>0</td>\n",
       "      <td>0</td>\n",
       "      <td>0</td>\n",
       "      <td>0</td>\n",
       "      <td>0</td>\n",
       "    </tr>\n",
       "    <tr>\n",
       "      <th>1</th>\n",
       "      <td>2</td>\n",
       "      <td>15647311</td>\n",
       "      <td>608</td>\n",
       "      <td>41</td>\n",
       "      <td>1.0</td>\n",
       "      <td>83807.86</td>\n",
       "      <td>1</td>\n",
       "      <td>0</td>\n",
       "      <td>1</td>\n",
       "      <td>112542.58</td>\n",
       "      <td>...</td>\n",
       "      <td>0</td>\n",
       "      <td>0</td>\n",
       "      <td>0</td>\n",
       "      <td>0</td>\n",
       "      <td>0</td>\n",
       "      <td>0</td>\n",
       "      <td>0</td>\n",
       "      <td>0</td>\n",
       "      <td>1</td>\n",
       "      <td>0</td>\n",
       "    </tr>\n",
       "    <tr>\n",
       "      <th>2</th>\n",
       "      <td>3</td>\n",
       "      <td>15619304</td>\n",
       "      <td>502</td>\n",
       "      <td>42</td>\n",
       "      <td>8.0</td>\n",
       "      <td>159660.80</td>\n",
       "      <td>3</td>\n",
       "      <td>1</td>\n",
       "      <td>0</td>\n",
       "      <td>113931.57</td>\n",
       "      <td>...</td>\n",
       "      <td>0</td>\n",
       "      <td>0</td>\n",
       "      <td>0</td>\n",
       "      <td>0</td>\n",
       "      <td>0</td>\n",
       "      <td>0</td>\n",
       "      <td>0</td>\n",
       "      <td>0</td>\n",
       "      <td>0</td>\n",
       "      <td>0</td>\n",
       "    </tr>\n",
       "  </tbody>\n",
       "</table>\n",
       "<p>3 rows × 2945 columns</p>\n",
       "</div>"
      ],
      "text/plain": [
       "   RowNumber  CustomerId  CreditScore  Age  Tenure    Balance  NumOfProducts  \\\n",
       "0          1    15634602          619   42     2.0       0.00              1   \n",
       "1          2    15647311          608   41     1.0   83807.86              1   \n",
       "2          3    15619304          502   42     8.0  159660.80              3   \n",
       "\n",
       "   HasCrCard  IsActiveMember  EstimatedSalary  ...  Surname_Zotova  \\\n",
       "0          1               1        101348.88  ...               0   \n",
       "1          0               1        112542.58  ...               0   \n",
       "2          1               0        113931.57  ...               0   \n",
       "\n",
       "   Surname_Zox  Surname_Zubarev  Surname_Zubareva  Surname_Zuev  \\\n",
       "0            0                0                 0             0   \n",
       "1            0                0                 0             0   \n",
       "2            0                0                 0             0   \n",
       "\n",
       "   Surname_Zuyev  Surname_Zuyeva  Geography_Germany  Geography_Spain  \\\n",
       "0              0               0                  0                0   \n",
       "1              0               0                  0                1   \n",
       "2              0               0                  0                0   \n",
       "\n",
       "   Gender_Male  \n",
       "0            0  \n",
       "1            0  \n",
       "2            0  \n",
       "\n",
       "[3 rows x 2945 columns]"
      ]
     },
     "execution_count": 44,
     "metadata": {},
     "output_type": "execute_result"
    }
   ],
   "source": [
    "data_ohe=pd.get_dummies(data_initial, drop_first=True)\n",
    "\n",
    "data_ohe.head(3)"
   ]
  },
  {
   "cell_type": "markdown",
   "metadata": {},
   "source": [
    "### Масштабирование признаков"
   ]
  },
  {
   "cell_type": "markdown",
   "metadata": {},
   "source": [
    "Для масштабирования признаков воспользуемся структурой `StandardScaler`, но для этого разделим выборку на обучающую и валидационную, а также выделим целевой признак. \n",
    "\n",
    "Ранее указанные для масштабирования столбцы сохраним в переменной `scale`."
   ]
  },
  {
   "cell_type": "code",
   "execution_count": 45,
   "metadata": {},
   "outputs": [],
   "source": [
    "target = data_ohe['Exited']\n",
    "features = data_ohe.drop('Exited', axis=1)\n",
    "features_train, features_valid, target_train, target_valid = train_test_split(\n",
    "    features, target, test_size=0.4, random_state=42, stratify=data_ohe['Exited'])\n",
    "\n",
    "features_valid, features_test, target_valid, target_test = train_test_split(\n",
    "    features_valid, target_valid, test_size=0.5, random_state=42, stratify=target_valid)\n",
    "\n",
    "scale = ['Age', 'Tenure', 'Balance', 'NumOfProducts', 'EstimatedSalary']\n",
    "\n",
    "scaler = StandardScaler()\n",
    "scaler.fit(features_train[scale])\n",
    "\n",
    "features_train[scale] = scaler.transform(features_train[scale])\n",
    "features_valid[scale] = scaler.transform(features_valid[scale])\n",
    "features_test[scale] = scaler.transform(features_test[scale])"
   ]
  },
  {
   "cell_type": "markdown",
   "metadata": {},
   "source": [
    "### Выводы по результатам подготовки данных"
   ]
  },
  {
   "cell_type": "markdown",
   "metadata": {},
   "source": [
    "На данном этапе были выполнены следующие операции над данными:\n",
    "1. Предварительно рассмотрены содержащиеся в исходном датасете данные, включая тип, наличие пропусков и их колическтво, а также воззможная корреляция между признаками. \n",
    "2. Категориальные признаки заменены на количественные при помощи прямого кодирования. \n",
    "3. Выполнено масштабирование признаков. \n",
    "4. Данные разделены на обучающую и валидационную выборку, определен целевой признак - столбец `Exited`, показывающий, отказался ли пользователь от услуг провайдера или нет. "
   ]
  },
  {
   "cell_type": "markdown",
   "metadata": {},
   "source": [
    "## Исследование задачи"
   ]
  },
  {
   "cell_type": "markdown",
   "metadata": {},
   "source": [
    "Для анализа оттока клиентов применим следующие модели:\n",
    "<b>\n",
    "1. Решающее дерево.\n",
    "2. Случайный лес.\n",
    "3. Логистическая регрессия.\n",
    "</b>\n",
    "\n",
    "Для проверки моделей на адекватность воспользуемся матрицей ошибок, а также рассмотрим значения метрик `precision`, `recall` и `f1-score`."
   ]
  },
  {
   "cell_type": "markdown",
   "metadata": {},
   "source": [
    "### Решающее дерево"
   ]
  },
  {
   "cell_type": "code",
   "execution_count": 46,
   "metadata": {},
   "outputs": [
    {
     "data": {
      "text/html": [
       "<style>#sk-container-id-10 {color: black;background-color: white;}#sk-container-id-10 pre{padding: 0;}#sk-container-id-10 div.sk-toggleable {background-color: white;}#sk-container-id-10 label.sk-toggleable__label {cursor: pointer;display: block;width: 100%;margin-bottom: 0;padding: 0.3em;box-sizing: border-box;text-align: center;}#sk-container-id-10 label.sk-toggleable__label-arrow:before {content: \"▸\";float: left;margin-right: 0.25em;color: #696969;}#sk-container-id-10 label.sk-toggleable__label-arrow:hover:before {color: black;}#sk-container-id-10 div.sk-estimator:hover label.sk-toggleable__label-arrow:before {color: black;}#sk-container-id-10 div.sk-toggleable__content {max-height: 0;max-width: 0;overflow: hidden;text-align: left;background-color: #f0f8ff;}#sk-container-id-10 div.sk-toggleable__content pre {margin: 0.2em;color: black;border-radius: 0.25em;background-color: #f0f8ff;}#sk-container-id-10 input.sk-toggleable__control:checked~div.sk-toggleable__content {max-height: 200px;max-width: 100%;overflow: auto;}#sk-container-id-10 input.sk-toggleable__control:checked~label.sk-toggleable__label-arrow:before {content: \"▾\";}#sk-container-id-10 div.sk-estimator input.sk-toggleable__control:checked~label.sk-toggleable__label {background-color: #d4ebff;}#sk-container-id-10 div.sk-label input.sk-toggleable__control:checked~label.sk-toggleable__label {background-color: #d4ebff;}#sk-container-id-10 input.sk-hidden--visually {border: 0;clip: rect(1px 1px 1px 1px);clip: rect(1px, 1px, 1px, 1px);height: 1px;margin: -1px;overflow: hidden;padding: 0;position: absolute;width: 1px;}#sk-container-id-10 div.sk-estimator {font-family: monospace;background-color: #f0f8ff;border: 1px dotted black;border-radius: 0.25em;box-sizing: border-box;margin-bottom: 0.5em;}#sk-container-id-10 div.sk-estimator:hover {background-color: #d4ebff;}#sk-container-id-10 div.sk-parallel-item::after {content: \"\";width: 100%;border-bottom: 1px solid gray;flex-grow: 1;}#sk-container-id-10 div.sk-label:hover label.sk-toggleable__label {background-color: #d4ebff;}#sk-container-id-10 div.sk-serial::before {content: \"\";position: absolute;border-left: 1px solid gray;box-sizing: border-box;top: 0;bottom: 0;left: 50%;z-index: 0;}#sk-container-id-10 div.sk-serial {display: flex;flex-direction: column;align-items: center;background-color: white;padding-right: 0.2em;padding-left: 0.2em;position: relative;}#sk-container-id-10 div.sk-item {position: relative;z-index: 1;}#sk-container-id-10 div.sk-parallel {display: flex;align-items: stretch;justify-content: center;background-color: white;position: relative;}#sk-container-id-10 div.sk-item::before, #sk-container-id-10 div.sk-parallel-item::before {content: \"\";position: absolute;border-left: 1px solid gray;box-sizing: border-box;top: 0;bottom: 0;left: 50%;z-index: -1;}#sk-container-id-10 div.sk-parallel-item {display: flex;flex-direction: column;z-index: 1;position: relative;background-color: white;}#sk-container-id-10 div.sk-parallel-item:first-child::after {align-self: flex-end;width: 50%;}#sk-container-id-10 div.sk-parallel-item:last-child::after {align-self: flex-start;width: 50%;}#sk-container-id-10 div.sk-parallel-item:only-child::after {width: 0;}#sk-container-id-10 div.sk-dashed-wrapped {border: 1px dashed gray;margin: 0 0.4em 0.5em 0.4em;box-sizing: border-box;padding-bottom: 0.4em;background-color: white;}#sk-container-id-10 div.sk-label label {font-family: monospace;font-weight: bold;display: inline-block;line-height: 1.2em;}#sk-container-id-10 div.sk-label-container {text-align: center;}#sk-container-id-10 div.sk-container {/* jupyter's `normalize.less` sets `[hidden] { display: none; }` but bootstrap.min.css set `[hidden] { display: none !important; }` so we also need the `!important` here to be able to override the default hidden behavior on the sphinx rendered scikit-learn.org. See: https://github.com/scikit-learn/scikit-learn/issues/21755 */display: inline-block !important;position: relative;}#sk-container-id-10 div.sk-text-repr-fallback {display: none;}</style><div id=\"sk-container-id-10\" class=\"sk-top-container\"><div class=\"sk-text-repr-fallback\"><pre>DecisionTreeClassifier(random_state=12345)</pre><b>In a Jupyter environment, please rerun this cell to show the HTML representation or trust the notebook. <br />On GitHub, the HTML representation is unable to render, please try loading this page with nbviewer.org.</b></div><div class=\"sk-container\" hidden><div class=\"sk-item\"><div class=\"sk-estimator sk-toggleable\"><input class=\"sk-toggleable__control sk-hidden--visually\" id=\"sk-estimator-id-10\" type=\"checkbox\" checked><label for=\"sk-estimator-id-10\" class=\"sk-toggleable__label sk-toggleable__label-arrow\">DecisionTreeClassifier</label><div class=\"sk-toggleable__content\"><pre>DecisionTreeClassifier(random_state=12345)</pre></div></div></div></div></div>"
      ],
      "text/plain": [
       "DecisionTreeClassifier(random_state=12345)"
      ]
     },
     "execution_count": 46,
     "metadata": {},
     "output_type": "execute_result"
    }
   ],
   "source": [
    "model_1=DecisionTreeClassifier(random_state=12345)\n",
    "model_1.fit(features_train, target_train)"
   ]
  },
  {
   "cell_type": "code",
   "execution_count": 47,
   "metadata": {},
   "outputs": [
    {
     "name": "stderr",
     "output_type": "stream",
     "text": [
      "/Library/Frameworks/Python.framework/Versions/3.10/lib/python3.10/site-packages/sklearn/utils/deprecation.py:87: FutureWarning: Function plot_confusion_matrix is deprecated; Function `plot_confusion_matrix` is deprecated in 1.0 and will be removed in 1.2. Use one of the class methods: ConfusionMatrixDisplay.from_predictions or ConfusionMatrixDisplay.from_estimator.\n",
      "  warnings.warn(msg, category=FutureWarning)\n"
     ]
    },
    {
     "data": {
      "image/png": "[encoded data removed]",
      "text/plain": [
       "<Figure size 432x288 with 2 Axes>"
      ]
     },
     "metadata": {
      "needs_background": "light"
     },
     "output_type": "display_data"
    }
   ],
   "source": [
    "plot_confusion_matrix(model_1, features_valid, target_valid, display_labels=['Not_Exited', 'Exited'])\n",
    "plt.title('Матрица ошибок для модели \"Решающее дерево\"\\n')\n",
    "plt.show()"
   ]
  },
  {
   "cell_type": "code",
   "execution_count": 48,
   "metadata": {},
   "outputs": [
    {
     "name": "stdout",
     "output_type": "stream",
     "text": [
      "F1-мера = 0.563 | AUC-ROC = 0.721\n"
     ]
    }
   ],
   "source": [
    "predicted_valid = model_1.predict(features_valid)\n",
    "probabilities_valid = model_1.predict_proba(features_valid)\n",
    "probabilities_one_valid = probabilities_valid[:, 1]\n",
    "f1 = f1_score(target_valid, predicted_valid)\n",
    "auc_roc = roc_auc_score(target_valid, probabilities_one_valid)\n",
    "\n",
    "print(\"F1-мера = {:.3f} | AUC-ROC = {:.3f}\".format(f1, auc_roc))"
   ]
  },
  {
   "cell_type": "markdown",
   "metadata": {},
   "source": [
    "### Случайный лес"
   ]
  },
  {
   "cell_type": "code",
   "execution_count": 49,
   "metadata": {},
   "outputs": [
    {
     "data": {
      "text/html": [
       "<style>#sk-container-id-11 {color: black;background-color: white;}#sk-container-id-11 pre{padding: 0;}#sk-container-id-11 div.sk-toggleable {background-color: white;}#sk-container-id-11 label.sk-toggleable__label {cursor: pointer;display: block;width: 100%;margin-bottom: 0;padding: 0.3em;box-sizing: border-box;text-align: center;}#sk-container-id-11 label.sk-toggleable__label-arrow:before {content: \"▸\";float: left;margin-right: 0.25em;color: #696969;}#sk-container-id-11 label.sk-toggleable__label-arrow:hover:before {color: black;}#sk-container-id-11 div.sk-estimator:hover label.sk-toggleable__label-arrow:before {color: black;}#sk-container-id-11 div.sk-toggleable__content {max-height: 0;max-width: 0;overflow: hidden;text-align: left;background-color: #f0f8ff;}#sk-container-id-11 div.sk-toggleable__content pre {margin: 0.2em;color: black;border-radius: 0.25em;background-color: #f0f8ff;}#sk-container-id-11 input.sk-toggleable__control:checked~div.sk-toggleable__content {max-height: 200px;max-width: 100%;overflow: auto;}#sk-container-id-11 input.sk-toggleable__control:checked~label.sk-toggleable__label-arrow:before {content: \"▾\";}#sk-container-id-11 div.sk-estimator input.sk-toggleable__control:checked~label.sk-toggleable__label {background-color: #d4ebff;}#sk-container-id-11 div.sk-label input.sk-toggleable__control:checked~label.sk-toggleable__label {background-color: #d4ebff;}#sk-container-id-11 input.sk-hidden--visually {border: 0;clip: rect(1px 1px 1px 1px);clip: rect(1px, 1px, 1px, 1px);height: 1px;margin: -1px;overflow: hidden;padding: 0;position: absolute;width: 1px;}#sk-container-id-11 div.sk-estimator {font-family: monospace;background-color: #f0f8ff;border: 1px dotted black;border-radius: 0.25em;box-sizing: border-box;margin-bottom: 0.5em;}#sk-container-id-11 div.sk-estimator:hover {background-color: #d4ebff;}#sk-container-id-11 div.sk-parallel-item::after {content: \"\";width: 100%;border-bottom: 1px solid gray;flex-grow: 1;}#sk-container-id-11 div.sk-label:hover label.sk-toggleable__label {background-color: #d4ebff;}#sk-container-id-11 div.sk-serial::before {content: \"\";position: absolute;border-left: 1px solid gray;box-sizing: border-box;top: 0;bottom: 0;left: 50%;z-index: 0;}#sk-container-id-11 div.sk-serial {display: flex;flex-direction: column;align-items: center;background-color: white;padding-right: 0.2em;padding-left: 0.2em;position: relative;}#sk-container-id-11 div.sk-item {position: relative;z-index: 1;}#sk-container-id-11 div.sk-parallel {display: flex;align-items: stretch;justify-content: center;background-color: white;position: relative;}#sk-container-id-11 div.sk-item::before, #sk-container-id-11 div.sk-parallel-item::before {content: \"\";position: absolute;border-left: 1px solid gray;box-sizing: border-box;top: 0;bottom: 0;left: 50%;z-index: -1;}#sk-container-id-11 div.sk-parallel-item {display: flex;flex-direction: column;z-index: 1;position: relative;background-color: white;}#sk-container-id-11 div.sk-parallel-item:first-child::after {align-self: flex-end;width: 50%;}#sk-container-id-11 div.sk-parallel-item:last-child::after {align-self: flex-start;width: 50%;}#sk-container-id-11 div.sk-parallel-item:only-child::after {width: 0;}#sk-container-id-11 div.sk-dashed-wrapped {border: 1px dashed gray;margin: 0 0.4em 0.5em 0.4em;box-sizing: border-box;padding-bottom: 0.4em;background-color: white;}#sk-container-id-11 div.sk-label label {font-family: monospace;font-weight: bold;display: inline-block;line-height: 1.2em;}#sk-container-id-11 div.sk-label-container {text-align: center;}#sk-container-id-11 div.sk-container {/* jupyter's `normalize.less` sets `[hidden] { display: none; }` but bootstrap.min.css set `[hidden] { display: none !important; }` so we also need the `!important` here to be able to override the default hidden behavior on the sphinx rendered scikit-learn.org. See: https://github.com/scikit-learn/scikit-learn/issues/21755 */display: inline-block !important;position: relative;}#sk-container-id-11 div.sk-text-repr-fallback {display: none;}</style><div id=\"sk-container-id-11\" class=\"sk-top-container\"><div class=\"sk-text-repr-fallback\"><pre>RandomForestClassifier(random_state=12345)</pre><b>In a Jupyter environment, please rerun this cell to show the HTML representation or trust the notebook. <br />On GitHub, the HTML representation is unable to render, please try loading this page with nbviewer.org.</b></div><div class=\"sk-container\" hidden><div class=\"sk-item\"><div class=\"sk-estimator sk-toggleable\"><input class=\"sk-toggleable__control sk-hidden--visually\" id=\"sk-estimator-id-11\" type=\"checkbox\" checked><label for=\"sk-estimator-id-11\" class=\"sk-toggleable__label sk-toggleable__label-arrow\">RandomForestClassifier</label><div class=\"sk-toggleable__content\"><pre>RandomForestClassifier(random_state=12345)</pre></div></div></div></div></div>"
      ],
      "text/plain": [
       "RandomForestClassifier(random_state=12345)"
      ]
     },
     "execution_count": 49,
     "metadata": {},
     "output_type": "execute_result"
    }
   ],
   "source": [
    "model_2 = RandomForestClassifier(random_state=12345)\n",
    "model_2.fit(features_train, target_train)"
   ]
  },
  {
   "cell_type": "code",
   "execution_count": 50,
   "metadata": {},
   "outputs": [
    {
     "name": "stderr",
     "output_type": "stream",
     "text": [
      "/Library/Frameworks/Python.framework/Versions/3.10/lib/python3.10/site-packages/sklearn/utils/deprecation.py:87: FutureWarning: Function plot_confusion_matrix is deprecated; Function `plot_confusion_matrix` is deprecated in 1.0 and will be removed in 1.2. Use one of the class methods: ConfusionMatrixDisplay.from_predictions or ConfusionMatrixDisplay.from_estimator.\n",
      "  warnings.warn(msg, category=FutureWarning)\n"
     ]
    },
    {
     "data": {
      "image/png": "[encoded data removed]",
      "text/plain": [
       "<Figure size 432x288 with 2 Axes>"
      ]
     },
     "metadata": {
      "needs_background": "light"
     },
     "output_type": "display_data"
    }
   ],
   "source": [
    "plot_confusion_matrix(model_2, features_valid, target_valid, display_labels=['Not_Exited', 'Exited'])\n",
    "plt.title('Матрица ошибок для модели \"Случайный лес\"\\n')\n",
    "plt.show()"
   ]
  },
  {
   "cell_type": "code",
   "execution_count": 51,
   "metadata": {},
   "outputs": [
    {
     "name": "stdout",
     "output_type": "stream",
     "text": [
      "F1-мера = 0.498 | AUC-ROC = 0.854\n"
     ]
    }
   ],
   "source": [
    "predicted_valid = model_2.predict(features_valid)\n",
    "probabilities_valid = model_2.predict_proba(features_valid)\n",
    "probabilities_one_valid = probabilities_valid[:, 1]\n",
    "f1 = f1_score(target_valid, predicted_valid)\n",
    "auc_roc = roc_auc_score(target_valid, probabilities_one_valid)\n",
    "\n",
    "print(\"F1-мера = {:.3f} | AUC-ROC = {:.3f}\".format(f1, auc_roc))"
   ]
  },
  {
   "cell_type": "markdown",
   "metadata": {},
   "source": [
    "### Логистическая регрессия"
   ]
  },
  {
   "cell_type": "code",
   "execution_count": 52,
   "metadata": {},
   "outputs": [
    {
     "data": {
      "text/html": [
       "<style>#sk-container-id-12 {color: black;background-color: white;}#sk-container-id-12 pre{padding: 0;}#sk-container-id-12 div.sk-toggleable {background-color: white;}#sk-container-id-12 label.sk-toggleable__label {cursor: pointer;display: block;width: 100%;margin-bottom: 0;padding: 0.3em;box-sizing: border-box;text-align: center;}#sk-container-id-12 label.sk-toggleable__label-arrow:before {content: \"▸\";float: left;margin-right: 0.25em;color: #696969;}#sk-container-id-12 label.sk-toggleable__label-arrow:hover:before {color: black;}#sk-container-id-12 div.sk-estimator:hover label.sk-toggleable__label-arrow:before {color: black;}#sk-container-id-12 div.sk-toggleable__content {max-height: 0;max-width: 0;overflow: hidden;text-align: left;background-color: #f0f8ff;}#sk-container-id-12 div.sk-toggleable__content pre {margin: 0.2em;color: black;border-radius: 0.25em;background-color: #f0f8ff;}#sk-container-id-12 input.sk-toggleable__control:checked~div.sk-toggleable__content {max-height: 200px;max-width: 100%;overflow: auto;}#sk-container-id-12 input.sk-toggleable__control:checked~label.sk-toggleable__label-arrow:before {content: \"▾\";}#sk-container-id-12 div.sk-estimator input.sk-toggleable__control:checked~label.sk-toggleable__label {background-color: #d4ebff;}#sk-container-id-12 div.sk-label input.sk-toggleable__control:checked~label.sk-toggleable__label {background-color: #d4ebff;}#sk-container-id-12 input.sk-hidden--visually {border: 0;clip: rect(1px 1px 1px 1px);clip: rect(1px, 1px, 1px, 1px);height: 1px;margin: -1px;overflow: hidden;padding: 0;position: absolute;width: 1px;}#sk-container-id-12 div.sk-estimator {font-family: monospace;background-color: #f0f8ff;border: 1px dotted black;border-radius: 0.25em;box-sizing: border-box;margin-bottom: 0.5em;}#sk-container-id-12 div.sk-estimator:hover {background-color: #d4ebff;}#sk-container-id-12 div.sk-parallel-item::after {content: \"\";width: 100%;border-bottom: 1px solid gray;flex-grow: 1;}#sk-container-id-12 div.sk-label:hover label.sk-toggleable__label {background-color: #d4ebff;}#sk-container-id-12 div.sk-serial::before {content: \"\";position: absolute;border-left: 1px solid gray;box-sizing: border-box;top: 0;bottom: 0;left: 50%;z-index: 0;}#sk-container-id-12 div.sk-serial {display: flex;flex-direction: column;align-items: center;background-color: white;padding-right: 0.2em;padding-left: 0.2em;position: relative;}#sk-container-id-12 div.sk-item {position: relative;z-index: 1;}#sk-container-id-12 div.sk-parallel {display: flex;align-items: stretch;justify-content: center;background-color: white;position: relative;}#sk-container-id-12 div.sk-item::before, #sk-container-id-12 div.sk-parallel-item::before {content: \"\";position: absolute;border-left: 1px solid gray;box-sizing: border-box;top: 0;bottom: 0;left: 50%;z-index: -1;}#sk-container-id-12 div.sk-parallel-item {display: flex;flex-direction: column;z-index: 1;position: relative;background-color: white;}#sk-container-id-12 div.sk-parallel-item:first-child::after {align-self: flex-end;width: 50%;}#sk-container-id-12 div.sk-parallel-item:last-child::after {align-self: flex-start;width: 50%;}#sk-container-id-12 div.sk-parallel-item:only-child::after {width: 0;}#sk-container-id-12 div.sk-dashed-wrapped {border: 1px dashed gray;margin: 0 0.4em 0.5em 0.4em;box-sizing: border-box;padding-bottom: 0.4em;background-color: white;}#sk-container-id-12 div.sk-label label {font-family: monospace;font-weight: bold;display: inline-block;line-height: 1.2em;}#sk-container-id-12 div.sk-label-container {text-align: center;}#sk-container-id-12 div.sk-container {/* jupyter's `normalize.less` sets `[hidden] { display: none; }` but bootstrap.min.css set `[hidden] { display: none !important; }` so we also need the `!important` here to be able to override the default hidden behavior on the sphinx rendered scikit-learn.org. See: https://github.com/scikit-learn/scikit-learn/issues/21755 */display: inline-block !important;position: relative;}#sk-container-id-12 div.sk-text-repr-fallback {display: none;}</style><div id=\"sk-container-id-12\" class=\"sk-top-container\"><div class=\"sk-text-repr-fallback\"><pre>LogisticRegression(random_state=12345, solver=&#x27;liblinear&#x27;)</pre><b>In a Jupyter environment, please rerun this cell to show the HTML representation or trust the notebook. <br />On GitHub, the HTML representation is unable to render, please try loading this page with nbviewer.org.</b></div><div class=\"sk-container\" hidden><div class=\"sk-item\"><div class=\"sk-estimator sk-toggleable\"><input class=\"sk-toggleable__control sk-hidden--visually\" id=\"sk-estimator-id-12\" type=\"checkbox\" checked><label for=\"sk-estimator-id-12\" class=\"sk-toggleable__label sk-toggleable__label-arrow\">LogisticRegression</label><div class=\"sk-toggleable__content\"><pre>LogisticRegression(random_state=12345, solver=&#x27;liblinear&#x27;)</pre></div></div></div></div></div>"
      ],
      "text/plain": [
       "LogisticRegression(random_state=12345, solver='liblinear')"
      ]
     },
     "execution_count": 52,
     "metadata": {},
     "output_type": "execute_result"
    }
   ],
   "source": [
    "model_3 = LogisticRegression(random_state=12345, solver='liblinear')\n",
    "model_3.fit(features_train, target_train)"
   ]
  },
  {
   "cell_type": "code",
   "execution_count": 53,
   "metadata": {},
   "outputs": [
    {
     "name": "stderr",
     "output_type": "stream",
     "text": [
      "/Library/Frameworks/Python.framework/Versions/3.10/lib/python3.10/site-packages/sklearn/utils/deprecation.py:87: FutureWarning: Function plot_confusion_matrix is deprecated; Function `plot_confusion_matrix` is deprecated in 1.0 and will be removed in 1.2. Use one of the class methods: ConfusionMatrixDisplay.from_predictions or ConfusionMatrixDisplay.from_estimator.\n",
      "  warnings.warn(msg, category=FutureWarning)\n"
     ]
    },
    {
     "data": {
      "image/png": "[encoded data removed]",
      "text/plain": [
       "<Figure size 432x288 with 2 Axes>"
      ]
     },
     "metadata": {
      "needs_background": "light"
     },
     "output_type": "display_data"
    }
   ],
   "source": [
    "plot_confusion_matrix(model_3, features_valid, target_valid, display_labels=['Not_Exited', 'Exited'])\n",
    "plt.title('Матрица ошибок для модели \"Логистическая регрессия\"\\n')\n",
    "plt.show()"
   ]
  },
  {
   "cell_type": "code",
   "execution_count": 54,
   "metadata": {},
   "outputs": [
    {
     "name": "stdout",
     "output_type": "stream",
     "text": [
      "F1-мера = 0.000 | AUC-ROC = 0.522\n"
     ]
    }
   ],
   "source": [
    "predicted_valid = model_3.predict(features_valid)\n",
    "probabilities_valid = model_3.predict_proba(features_valid)\n",
    "probabilities_one_valid = probabilities_valid[:, 1]\n",
    "f1 = f1_score(target_valid, predicted_valid)\n",
    "auc_roc = roc_auc_score(target_valid, probabilities_one_valid)\n",
    "\n",
    "print(\"F1-мера = {:.3f} | AUC-ROC = {:.3f}\".format(f1, auc_roc))"
   ]
  },
  {
   "cell_type": "markdown",
   "metadata": {},
   "source": [
    "### Выводы по результатам исследования задачи"
   ]
  },
  {
   "cell_type": "markdown",
   "metadata": {},
   "source": [
    "Проверка моделей на адекватность показала следующие результаты:\n",
    "1. Наиболшее значение F1-меры наблюдается для модели \"Решающее дерево\" (0.563), при этом наибоьшее значение метрики AUC-ROC у модели \"Случайный лес\" (0.854). \n",
    "2. Значение метрики F1-мера для модели \"Логистическая регрессия\" установились на значении 0.\n",
    "3. Значение метрики F1-мера для всех трех моделей ниже требуемого по заданию (0.59)\n",
    "\n",
    "Возможно, причина таких низких результатов кроется в дисбалансе классов - проверим данное предположение на следующем шаге. "
   ]
  },
  {
   "cell_type": "markdown",
   "metadata": {},
   "source": [
    "## Борьба с дисбалансом"
   ]
  },
  {
   "cell_type": "markdown",
   "metadata": {},
   "source": [
    "### Исследование баланска классов"
   ]
  },
  {
   "cell_type": "markdown",
   "metadata": {},
   "source": [
    "Разделим обучающую выборку на положительные и отрицательные значения и сохраним данные в соответствующих переменных (отдельно разделим целевой признак и отдельно все остальные). "
   ]
  },
  {
   "cell_type": "code",
   "execution_count": 55,
   "metadata": {},
   "outputs": [],
   "source": [
    "features_zeros = features_train[target_train == 0]\n",
    "features_ones = features_train[target_train == 1]\n",
    "target_zeros = target_train[target_train == 0]\n",
    "target_ones = target_train[target_train == 1]"
   ]
  },
  {
   "cell_type": "code",
   "execution_count": 56,
   "metadata": {},
   "outputs": [
    {
     "name": "stdout",
     "output_type": "stream",
     "text": [
      "(4778, 2944)\n",
      "(1222, 2944)\n",
      "(4778,)\n",
      "(1222,)\n"
     ]
    }
   ],
   "source": [
    "print(features_zeros.shape)\n",
    "print(features_ones.shape)\n",
    "print(target_zeros.shape)\n",
    "print(target_ones.shape)"
   ]
  },
  {
   "cell_type": "code",
   "execution_count": 57,
   "metadata": {},
   "outputs": [
    {
     "data": {
      "image/png": "[encoded data removed]",
      "text/plain": [
       "<Figure size 432x288 with 1 Axes>"
      ]
     },
     "metadata": {
      "needs_background": "light"
     },
     "output_type": "display_data"
    }
   ],
   "source": [
    "plt.figure()\n",
    "plt.bar(['0','1'], [len(target_zeros),len(target_ones)])\n",
    "plt.xlabel('Результат')\n",
    "plt.ylabel('Количество')\n",
    "plt.title('Анализ баланса классов')\n",
    "plt.show()"
   ]
  },
  {
   "cell_type": "markdown",
   "metadata": {},
   "source": [
    "Как видно из графика, в выборке наблюдается <b>дисбаланс классов примерно 4:1</b>.\n",
    "\n",
    "Для борьбы с дисбалансом применим следующие методы:\n",
    "1. Взвешивание классов. \n",
    "2. Увеличение выборки.\n",
    "3. Изменение порога классификации. "
   ]
  },
  {
   "cell_type": "markdown",
   "metadata": {},
   "source": [
    "### Взвешивание классов"
   ]
  },
  {
   "cell_type": "markdown",
   "metadata": {},
   "source": [
    "При обучении моделей укажем для каждой из них аргумент `class_weight='balanced'`."
   ]
  },
  {
   "cell_type": "markdown",
   "metadata": {},
   "source": [
    "#### Решающее дерево"
   ]
  },
  {
   "cell_type": "code",
   "execution_count": 58,
   "metadata": {},
   "outputs": [
    {
     "data": {
      "text/html": [
       "<style>#sk-container-id-13 {color: black;background-color: white;}#sk-container-id-13 pre{padding: 0;}#sk-container-id-13 div.sk-toggleable {background-color: white;}#sk-container-id-13 label.sk-toggleable__label {cursor: pointer;display: block;width: 100%;margin-bottom: 0;padding: 0.3em;box-sizing: border-box;text-align: center;}#sk-container-id-13 label.sk-toggleable__label-arrow:before {content: \"▸\";float: left;margin-right: 0.25em;color: #696969;}#sk-container-id-13 label.sk-toggleable__label-arrow:hover:before {color: black;}#sk-container-id-13 div.sk-estimator:hover label.sk-toggleable__label-arrow:before {color: black;}#sk-container-id-13 div.sk-toggleable__content {max-height: 0;max-width: 0;overflow: hidden;text-align: left;background-color: #f0f8ff;}#sk-container-id-13 div.sk-toggleable__content pre {margin: 0.2em;color: black;border-radius: 0.25em;background-color: #f0f8ff;}#sk-container-id-13 input.sk-toggleable__control:checked~div.sk-toggleable__content {max-height: 200px;max-width: 100%;overflow: auto;}#sk-container-id-13 input.sk-toggleable__control:checked~label.sk-toggleable__label-arrow:before {content: \"▾\";}#sk-container-id-13 div.sk-estimator input.sk-toggleable__control:checked~label.sk-toggleable__label {background-color: #d4ebff;}#sk-container-id-13 div.sk-label input.sk-toggleable__control:checked~label.sk-toggleable__label {background-color: #d4ebff;}#sk-container-id-13 input.sk-hidden--visually {border: 0;clip: rect(1px 1px 1px 1px);clip: rect(1px, 1px, 1px, 1px);height: 1px;margin: -1px;overflow: hidden;padding: 0;position: absolute;width: 1px;}#sk-container-id-13 div.sk-estimator {font-family: monospace;background-color: #f0f8ff;border: 1px dotted black;border-radius: 0.25em;box-sizing: border-box;margin-bottom: 0.5em;}#sk-container-id-13 div.sk-estimator:hover {background-color: #d4ebff;}#sk-container-id-13 div.sk-parallel-item::after {content: \"\";width: 100%;border-bottom: 1px solid gray;flex-grow: 1;}#sk-container-id-13 div.sk-label:hover label.sk-toggleable__label {background-color: #d4ebff;}#sk-container-id-13 div.sk-serial::before {content: \"\";position: absolute;border-left: 1px solid gray;box-sizing: border-box;top: 0;bottom: 0;left: 50%;z-index: 0;}#sk-container-id-13 div.sk-serial {display: flex;flex-direction: column;align-items: center;background-color: white;padding-right: 0.2em;padding-left: 0.2em;position: relative;}#sk-container-id-13 div.sk-item {position: relative;z-index: 1;}#sk-container-id-13 div.sk-parallel {display: flex;align-items: stretch;justify-content: center;background-color: white;position: relative;}#sk-container-id-13 div.sk-item::before, #sk-container-id-13 div.sk-parallel-item::before {content: \"\";position: absolute;border-left: 1px solid gray;box-sizing: border-box;top: 0;bottom: 0;left: 50%;z-index: -1;}#sk-container-id-13 div.sk-parallel-item {display: flex;flex-direction: column;z-index: 1;position: relative;background-color: white;}#sk-container-id-13 div.sk-parallel-item:first-child::after {align-self: flex-end;width: 50%;}#sk-container-id-13 div.sk-parallel-item:last-child::after {align-self: flex-start;width: 50%;}#sk-container-id-13 div.sk-parallel-item:only-child::after {width: 0;}#sk-container-id-13 div.sk-dashed-wrapped {border: 1px dashed gray;margin: 0 0.4em 0.5em 0.4em;box-sizing: border-box;padding-bottom: 0.4em;background-color: white;}#sk-container-id-13 div.sk-label label {font-family: monospace;font-weight: bold;display: inline-block;line-height: 1.2em;}#sk-container-id-13 div.sk-label-container {text-align: center;}#sk-container-id-13 div.sk-container {/* jupyter's `normalize.less` sets `[hidden] { display: none; }` but bootstrap.min.css set `[hidden] { display: none !important; }` so we also need the `!important` here to be able to override the default hidden behavior on the sphinx rendered scikit-learn.org. See: https://github.com/scikit-learn/scikit-learn/issues/21755 */display: inline-block !important;position: relative;}#sk-container-id-13 div.sk-text-repr-fallback {display: none;}</style><div id=\"sk-container-id-13\" class=\"sk-top-container\"><div class=\"sk-text-repr-fallback\"><pre>DecisionTreeClassifier(class_weight=&#x27;balanced&#x27;, random_state=12345)</pre><b>In a Jupyter environment, please rerun this cell to show the HTML representation or trust the notebook. <br />On GitHub, the HTML representation is unable to render, please try loading this page with nbviewer.org.</b></div><div class=\"sk-container\" hidden><div class=\"sk-item\"><div class=\"sk-estimator sk-toggleable\"><input class=\"sk-toggleable__control sk-hidden--visually\" id=\"sk-estimator-id-13\" type=\"checkbox\" checked><label for=\"sk-estimator-id-13\" class=\"sk-toggleable__label sk-toggleable__label-arrow\">DecisionTreeClassifier</label><div class=\"sk-toggleable__content\"><pre>DecisionTreeClassifier(class_weight=&#x27;balanced&#x27;, random_state=12345)</pre></div></div></div></div></div>"
      ],
      "text/plain": [
       "DecisionTreeClassifier(class_weight='balanced', random_state=12345)"
      ]
     },
     "execution_count": 58,
     "metadata": {},
     "output_type": "execute_result"
    }
   ],
   "source": [
    "model_1=DecisionTreeClassifier(random_state=12345, class_weight='balanced')\n",
    "model_1.fit(features_train, target_train)"
   ]
  },
  {
   "cell_type": "code",
   "execution_count": 59,
   "metadata": {},
   "outputs": [
    {
     "name": "stdout",
     "output_type": "stream",
     "text": [
      "F1-мера = 0.565 | AUC-ROC = 0.730\n"
     ]
    }
   ],
   "source": [
    "predicted_valid = model_1.predict(features_valid)\n",
    "probabilities_valid = model_1.predict_proba(features_valid)\n",
    "probabilities_one_valid = probabilities_valid[:, 1]\n",
    "f1 = f1_score(target_valid, predicted_valid)\n",
    "auc_roc = roc_auc_score(target_valid, probabilities_one_valid)\n",
    "\n",
    "print(\"F1-мера = {:.3f} | AUC-ROC = {:.3f}\".format(f1, auc_roc))"
   ]
  },
  {
   "cell_type": "markdown",
   "metadata": {},
   "source": [
    "Значение метрик F1-мера и AUC-ROC стало больше, чем на предыдущем этапе. "
   ]
  },
  {
   "cell_type": "markdown",
   "metadata": {},
   "source": [
    "#### Случайный лес"
   ]
  },
  {
   "cell_type": "code",
   "execution_count": 60,
   "metadata": {},
   "outputs": [
    {
     "data": {
      "text/html": [
       "<style>#sk-container-id-14 {color: black;background-color: white;}#sk-container-id-14 pre{padding: 0;}#sk-container-id-14 div.sk-toggleable {background-color: white;}#sk-container-id-14 label.sk-toggleable__label {cursor: pointer;display: block;width: 100%;margin-bottom: 0;padding: 0.3em;box-sizing: border-box;text-align: center;}#sk-container-id-14 label.sk-toggleable__label-arrow:before {content: \"▸\";float: left;margin-right: 0.25em;color: #696969;}#sk-container-id-14 label.sk-toggleable__label-arrow:hover:before {color: black;}#sk-container-id-14 div.sk-estimator:hover label.sk-toggleable__label-arrow:before {color: black;}#sk-container-id-14 div.sk-toggleable__content {max-height: 0;max-width: 0;overflow: hidden;text-align: left;background-color: #f0f8ff;}#sk-container-id-14 div.sk-toggleable__content pre {margin: 0.2em;color: black;border-radius: 0.25em;background-color: #f0f8ff;}#sk-container-id-14 input.sk-toggleable__control:checked~div.sk-toggleable__content {max-height: 200px;max-width: 100%;overflow: auto;}#sk-container-id-14 input.sk-toggleable__control:checked~label.sk-toggleable__label-arrow:before {content: \"▾\";}#sk-container-id-14 div.sk-estimator input.sk-toggleable__control:checked~label.sk-toggleable__label {background-color: #d4ebff;}#sk-container-id-14 div.sk-label input.sk-toggleable__control:checked~label.sk-toggleable__label {background-color: #d4ebff;}#sk-container-id-14 input.sk-hidden--visually {border: 0;clip: rect(1px 1px 1px 1px);clip: rect(1px, 1px, 1px, 1px);height: 1px;margin: -1px;overflow: hidden;padding: 0;position: absolute;width: 1px;}#sk-container-id-14 div.sk-estimator {font-family: monospace;background-color: #f0f8ff;border: 1px dotted black;border-radius: 0.25em;box-sizing: border-box;margin-bottom: 0.5em;}#sk-container-id-14 div.sk-estimator:hover {background-color: #d4ebff;}#sk-container-id-14 div.sk-parallel-item::after {content: \"\";width: 100%;border-bottom: 1px solid gray;flex-grow: 1;}#sk-container-id-14 div.sk-label:hover label.sk-toggleable__label {background-color: #d4ebff;}#sk-container-id-14 div.sk-serial::before {content: \"\";position: absolute;border-left: 1px solid gray;box-sizing: border-box;top: 0;bottom: 0;left: 50%;z-index: 0;}#sk-container-id-14 div.sk-serial {display: flex;flex-direction: column;align-items: center;background-color: white;padding-right: 0.2em;padding-left: 0.2em;position: relative;}#sk-container-id-14 div.sk-item {position: relative;z-index: 1;}#sk-container-id-14 div.sk-parallel {display: flex;align-items: stretch;justify-content: center;background-color: white;position: relative;}#sk-container-id-14 div.sk-item::before, #sk-container-id-14 div.sk-parallel-item::before {content: \"\";position: absolute;border-left: 1px solid gray;box-sizing: border-box;top: 0;bottom: 0;left: 50%;z-index: -1;}#sk-container-id-14 div.sk-parallel-item {display: flex;flex-direction: column;z-index: 1;position: relative;background-color: white;}#sk-container-id-14 div.sk-parallel-item:first-child::after {align-self: flex-end;width: 50%;}#sk-container-id-14 div.sk-parallel-item:last-child::after {align-self: flex-start;width: 50%;}#sk-container-id-14 div.sk-parallel-item:only-child::after {width: 0;}#sk-container-id-14 div.sk-dashed-wrapped {border: 1px dashed gray;margin: 0 0.4em 0.5em 0.4em;box-sizing: border-box;padding-bottom: 0.4em;background-color: white;}#sk-container-id-14 div.sk-label label {font-family: monospace;font-weight: bold;display: inline-block;line-height: 1.2em;}#sk-container-id-14 div.sk-label-container {text-align: center;}#sk-container-id-14 div.sk-container {/* jupyter's `normalize.less` sets `[hidden] { display: none; }` but bootstrap.min.css set `[hidden] { display: none !important; }` so we also need the `!important` here to be able to override the default hidden behavior on the sphinx rendered scikit-learn.org. See: https://github.com/scikit-learn/scikit-learn/issues/21755 */display: inline-block !important;position: relative;}#sk-container-id-14 div.sk-text-repr-fallback {display: none;}</style><div id=\"sk-container-id-14\" class=\"sk-top-container\"><div class=\"sk-text-repr-fallback\"><pre>RandomForestClassifier(class_weight=&#x27;balanced&#x27;, random_state=12345)</pre><b>In a Jupyter environment, please rerun this cell to show the HTML representation or trust the notebook. <br />On GitHub, the HTML representation is unable to render, please try loading this page with nbviewer.org.</b></div><div class=\"sk-container\" hidden><div class=\"sk-item\"><div class=\"sk-estimator sk-toggleable\"><input class=\"sk-toggleable__control sk-hidden--visually\" id=\"sk-estimator-id-14\" type=\"checkbox\" checked><label for=\"sk-estimator-id-14\" class=\"sk-toggleable__label sk-toggleable__label-arrow\">RandomForestClassifier</label><div class=\"sk-toggleable__content\"><pre>RandomForestClassifier(class_weight=&#x27;balanced&#x27;, random_state=12345)</pre></div></div></div></div></div>"
      ],
      "text/plain": [
       "RandomForestClassifier(class_weight='balanced', random_state=12345)"
      ]
     },
     "execution_count": 60,
     "metadata": {},
     "output_type": "execute_result"
    }
   ],
   "source": [
    "model_2 = RandomForestClassifier(random_state=12345, class_weight='balanced')\n",
    "model_2.fit(features_train, target_train)"
   ]
  },
  {
   "cell_type": "code",
   "execution_count": 61,
   "metadata": {},
   "outputs": [
    {
     "name": "stdout",
     "output_type": "stream",
     "text": [
      "F1-мера = 0.478 | AUC-ROC = 0.862\n"
     ]
    }
   ],
   "source": [
    "predicted_valid = model_2.predict(features_valid)\n",
    "probabilities_valid = model_2.predict_proba(features_valid)\n",
    "probabilities_one_valid = probabilities_valid[:, 1]\n",
    "f1 = f1_score(target_valid, predicted_valid)\n",
    "auc_roc = roc_auc_score(target_valid, probabilities_one_valid)\n",
    "\n",
    "print(\"F1-мера = {:.3f} | AUC-ROC = {:.3f}\".format(f1, auc_roc))"
   ]
  },
  {
   "cell_type": "markdown",
   "metadata": {},
   "source": [
    "Значение метрики F1-мера стало меньше, чем на предыдущем этапе. "
   ]
  },
  {
   "cell_type": "markdown",
   "metadata": {},
   "source": [
    "#### Логистическая регрессия"
   ]
  },
  {
   "cell_type": "code",
   "execution_count": 62,
   "metadata": {},
   "outputs": [
    {
     "data": {
      "text/html": [
       "<style>#sk-container-id-15 {color: black;background-color: white;}#sk-container-id-15 pre{padding: 0;}#sk-container-id-15 div.sk-toggleable {background-color: white;}#sk-container-id-15 label.sk-toggleable__label {cursor: pointer;display: block;width: 100%;margin-bottom: 0;padding: 0.3em;box-sizing: border-box;text-align: center;}#sk-container-id-15 label.sk-toggleable__label-arrow:before {content: \"▸\";float: left;margin-right: 0.25em;color: #696969;}#sk-container-id-15 label.sk-toggleable__label-arrow:hover:before {color: black;}#sk-container-id-15 div.sk-estimator:hover label.sk-toggleable__label-arrow:before {color: black;}#sk-container-id-15 div.sk-toggleable__content {max-height: 0;max-width: 0;overflow: hidden;text-align: left;background-color: #f0f8ff;}#sk-container-id-15 div.sk-toggleable__content pre {margin: 0.2em;color: black;border-radius: 0.25em;background-color: #f0f8ff;}#sk-container-id-15 input.sk-toggleable__control:checked~div.sk-toggleable__content {max-height: 200px;max-width: 100%;overflow: auto;}#sk-container-id-15 input.sk-toggleable__control:checked~label.sk-toggleable__label-arrow:before {content: \"▾\";}#sk-container-id-15 div.sk-estimator input.sk-toggleable__control:checked~label.sk-toggleable__label {background-color: #d4ebff;}#sk-container-id-15 div.sk-label input.sk-toggleable__control:checked~label.sk-toggleable__label {background-color: #d4ebff;}#sk-container-id-15 input.sk-hidden--visually {border: 0;clip: rect(1px 1px 1px 1px);clip: rect(1px, 1px, 1px, 1px);height: 1px;margin: -1px;overflow: hidden;padding: 0;position: absolute;width: 1px;}#sk-container-id-15 div.sk-estimator {font-family: monospace;background-color: #f0f8ff;border: 1px dotted black;border-radius: 0.25em;box-sizing: border-box;margin-bottom: 0.5em;}#sk-container-id-15 div.sk-estimator:hover {background-color: #d4ebff;}#sk-container-id-15 div.sk-parallel-item::after {content: \"\";width: 100%;border-bottom: 1px solid gray;flex-grow: 1;}#sk-container-id-15 div.sk-label:hover label.sk-toggleable__label {background-color: #d4ebff;}#sk-container-id-15 div.sk-serial::before {content: \"\";position: absolute;border-left: 1px solid gray;box-sizing: border-box;top: 0;bottom: 0;left: 50%;z-index: 0;}#sk-container-id-15 div.sk-serial {display: flex;flex-direction: column;align-items: center;background-color: white;padding-right: 0.2em;padding-left: 0.2em;position: relative;}#sk-container-id-15 div.sk-item {position: relative;z-index: 1;}#sk-container-id-15 div.sk-parallel {display: flex;align-items: stretch;justify-content: center;background-color: white;position: relative;}#sk-container-id-15 div.sk-item::before, #sk-container-id-15 div.sk-parallel-item::before {content: \"\";position: absolute;border-left: 1px solid gray;box-sizing: border-box;top: 0;bottom: 0;left: 50%;z-index: -1;}#sk-container-id-15 div.sk-parallel-item {display: flex;flex-direction: column;z-index: 1;position: relative;background-color: white;}#sk-container-id-15 div.sk-parallel-item:first-child::after {align-self: flex-end;width: 50%;}#sk-container-id-15 div.sk-parallel-item:last-child::after {align-self: flex-start;width: 50%;}#sk-container-id-15 div.sk-parallel-item:only-child::after {width: 0;}#sk-container-id-15 div.sk-dashed-wrapped {border: 1px dashed gray;margin: 0 0.4em 0.5em 0.4em;box-sizing: border-box;padding-bottom: 0.4em;background-color: white;}#sk-container-id-15 div.sk-label label {font-family: monospace;font-weight: bold;display: inline-block;line-height: 1.2em;}#sk-container-id-15 div.sk-label-container {text-align: center;}#sk-container-id-15 div.sk-container {/* jupyter's `normalize.less` sets `[hidden] { display: none; }` but bootstrap.min.css set `[hidden] { display: none !important; }` so we also need the `!important` here to be able to override the default hidden behavior on the sphinx rendered scikit-learn.org. See: https://github.com/scikit-learn/scikit-learn/issues/21755 */display: inline-block !important;position: relative;}#sk-container-id-15 div.sk-text-repr-fallback {display: none;}</style><div id=\"sk-container-id-15\" class=\"sk-top-container\"><div class=\"sk-text-repr-fallback\"><pre>LogisticRegression(class_weight=&#x27;balanced&#x27;, random_state=12345,\n",
       "                   solver=&#x27;liblinear&#x27;)</pre><b>In a Jupyter environment, please rerun this cell to show the HTML representation or trust the notebook. <br />On GitHub, the HTML representation is unable to render, please try loading this page with nbviewer.org.</b></div><div class=\"sk-container\" hidden><div class=\"sk-item\"><div class=\"sk-estimator sk-toggleable\"><input class=\"sk-toggleable__control sk-hidden--visually\" id=\"sk-estimator-id-15\" type=\"checkbox\" checked><label for=\"sk-estimator-id-15\" class=\"sk-toggleable__label sk-toggleable__label-arrow\">LogisticRegression</label><div class=\"sk-toggleable__content\"><pre>LogisticRegression(class_weight=&#x27;balanced&#x27;, random_state=12345,\n",
       "                   solver=&#x27;liblinear&#x27;)</pre></div></div></div></div></div>"
      ],
      "text/plain": [
       "LogisticRegression(class_weight='balanced', random_state=12345,\n",
       "                   solver='liblinear')"
      ]
     },
     "execution_count": 62,
     "metadata": {},
     "output_type": "execute_result"
    }
   ],
   "source": [
    "model_3 = LogisticRegression(random_state=12345, solver='liblinear', class_weight='balanced')\n",
    "model_3.fit(features_train, target_train)"
   ]
  },
  {
   "cell_type": "code",
   "execution_count": 63,
   "metadata": {},
   "outputs": [
    {
     "name": "stdout",
     "output_type": "stream",
     "text": [
      "F1-мера = 0.520 | AUC-ROC = 0.792\n"
     ]
    }
   ],
   "source": [
    "predicted_valid = model_3.predict(features_valid)\n",
    "probabilities_valid = model_3.predict_proba(features_valid)\n",
    "probabilities_one_valid = probabilities_valid[:, 1]\n",
    "f1 = f1_score(target_valid, predicted_valid)\n",
    "auc_roc = roc_auc_score(target_valid, probabilities_one_valid)\n",
    "\n",
    "print(\"F1-мера = {:.3f} | AUC-ROC = {:.3f}\".format(f1, auc_roc))"
   ]
  },
  {
   "cell_type": "markdown",
   "metadata": {},
   "source": [
    "Значение метрики F1-мера и AUC-ROC стало больше, чем на предыдущем этапе. "
   ]
  },
  {
   "cell_type": "markdown",
   "metadata": {},
   "source": [
    "### Увеличение выборки"
   ]
  },
  {
   "cell_type": "markdown",
   "metadata": {},
   "source": [
    "Напишем функцию, увеличивающую размер выборки в N раз, где N задается пользователем. "
   ]
  },
  {
   "cell_type": "code",
   "execution_count": 64,
   "metadata": {},
   "outputs": [],
   "source": [
    "def upsample(features, target, repeat):\n",
    "    features_zeros = features[target == 0]\n",
    "    features_ones = features[target == 1]\n",
    "    target_zeros = target[target == 0]\n",
    "    target_ones = target[target == 1]\n",
    "\n",
    "    features_upsampled = pd.concat([features_zeros] + [features_ones] * repeat)\n",
    "    target_upsampled = pd.concat([target_zeros] + [target_ones] * repeat)\n",
    "    \n",
    "    features_upsampled, target_upsampled = shuffle(\n",
    "        features_upsampled, target_upsampled, random_state=12345)\n",
    "    \n",
    "    return features_upsampled, target_upsampled"
   ]
  },
  {
   "cell_type": "code",
   "execution_count": 65,
   "metadata": {},
   "outputs": [],
   "source": [
    "features_upsampled, target_upsampled = upsample(features_train, target_train, 4)"
   ]
  },
  {
   "cell_type": "markdown",
   "metadata": {},
   "source": [
    "#### Решающее дерево"
   ]
  },
  {
   "cell_type": "code",
   "execution_count": 66,
   "metadata": {},
   "outputs": [
    {
     "data": {
      "text/html": [
       "<style>#sk-container-id-16 {color: black;background-color: white;}#sk-container-id-16 pre{padding: 0;}#sk-container-id-16 div.sk-toggleable {background-color: white;}#sk-container-id-16 label.sk-toggleable__label {cursor: pointer;display: block;width: 100%;margin-bottom: 0;padding: 0.3em;box-sizing: border-box;text-align: center;}#sk-container-id-16 label.sk-toggleable__label-arrow:before {content: \"▸\";float: left;margin-right: 0.25em;color: #696969;}#sk-container-id-16 label.sk-toggleable__label-arrow:hover:before {color: black;}#sk-container-id-16 div.sk-estimator:hover label.sk-toggleable__label-arrow:before {color: black;}#sk-container-id-16 div.sk-toggleable__content {max-height: 0;max-width: 0;overflow: hidden;text-align: left;background-color: #f0f8ff;}#sk-container-id-16 div.sk-toggleable__content pre {margin: 0.2em;color: black;border-radius: 0.25em;background-color: #f0f8ff;}#sk-container-id-16 input.sk-toggleable__control:checked~div.sk-toggleable__content {max-height: 200px;max-width: 100%;overflow: auto;}#sk-container-id-16 input.sk-toggleable__control:checked~label.sk-toggleable__label-arrow:before {content: \"▾\";}#sk-container-id-16 div.sk-estimator input.sk-toggleable__control:checked~label.sk-toggleable__label {background-color: #d4ebff;}#sk-container-id-16 div.sk-label input.sk-toggleable__control:checked~label.sk-toggleable__label {background-color: #d4ebff;}#sk-container-id-16 input.sk-hidden--visually {border: 0;clip: rect(1px 1px 1px 1px);clip: rect(1px, 1px, 1px, 1px);height: 1px;margin: -1px;overflow: hidden;padding: 0;position: absolute;width: 1px;}#sk-container-id-16 div.sk-estimator {font-family: monospace;background-color: #f0f8ff;border: 1px dotted black;border-radius: 0.25em;box-sizing: border-box;margin-bottom: 0.5em;}#sk-container-id-16 div.sk-estimator:hover {background-color: #d4ebff;}#sk-container-id-16 div.sk-parallel-item::after {content: \"\";width: 100%;border-bottom: 1px solid gray;flex-grow: 1;}#sk-container-id-16 div.sk-label:hover label.sk-toggleable__label {background-color: #d4ebff;}#sk-container-id-16 div.sk-serial::before {content: \"\";position: absolute;border-left: 1px solid gray;box-sizing: border-box;top: 0;bottom: 0;left: 50%;z-index: 0;}#sk-container-id-16 div.sk-serial {display: flex;flex-direction: column;align-items: center;background-color: white;padding-right: 0.2em;padding-left: 0.2em;position: relative;}#sk-container-id-16 div.sk-item {position: relative;z-index: 1;}#sk-container-id-16 div.sk-parallel {display: flex;align-items: stretch;justify-content: center;background-color: white;position: relative;}#sk-container-id-16 div.sk-item::before, #sk-container-id-16 div.sk-parallel-item::before {content: \"\";position: absolute;border-left: 1px solid gray;box-sizing: border-box;top: 0;bottom: 0;left: 50%;z-index: -1;}#sk-container-id-16 div.sk-parallel-item {display: flex;flex-direction: column;z-index: 1;position: relative;background-color: white;}#sk-container-id-16 div.sk-parallel-item:first-child::after {align-self: flex-end;width: 50%;}#sk-container-id-16 div.sk-parallel-item:last-child::after {align-self: flex-start;width: 50%;}#sk-container-id-16 div.sk-parallel-item:only-child::after {width: 0;}#sk-container-id-16 div.sk-dashed-wrapped {border: 1px dashed gray;margin: 0 0.4em 0.5em 0.4em;box-sizing: border-box;padding-bottom: 0.4em;background-color: white;}#sk-container-id-16 div.sk-label label {font-family: monospace;font-weight: bold;display: inline-block;line-height: 1.2em;}#sk-container-id-16 div.sk-label-container {text-align: center;}#sk-container-id-16 div.sk-container {/* jupyter's `normalize.less` sets `[hidden] { display: none; }` but bootstrap.min.css set `[hidden] { display: none !important; }` so we also need the `!important` here to be able to override the default hidden behavior on the sphinx rendered scikit-learn.org. See: https://github.com/scikit-learn/scikit-learn/issues/21755 */display: inline-block !important;position: relative;}#sk-container-id-16 div.sk-text-repr-fallback {display: none;}</style><div id=\"sk-container-id-16\" class=\"sk-top-container\"><div class=\"sk-text-repr-fallback\"><pre>DecisionTreeClassifier(random_state=12345)</pre><b>In a Jupyter environment, please rerun this cell to show the HTML representation or trust the notebook. <br />On GitHub, the HTML representation is unable to render, please try loading this page with nbviewer.org.</b></div><div class=\"sk-container\" hidden><div class=\"sk-item\"><div class=\"sk-estimator sk-toggleable\"><input class=\"sk-toggleable__control sk-hidden--visually\" id=\"sk-estimator-id-16\" type=\"checkbox\" checked><label for=\"sk-estimator-id-16\" class=\"sk-toggleable__label sk-toggleable__label-arrow\">DecisionTreeClassifier</label><div class=\"sk-toggleable__content\"><pre>DecisionTreeClassifier(random_state=12345)</pre></div></div></div></div></div>"
      ],
      "text/plain": [
       "DecisionTreeClassifier(random_state=12345)"
      ]
     },
     "execution_count": 66,
     "metadata": {},
     "output_type": "execute_result"
    }
   ],
   "source": [
    "model_1=DecisionTreeClassifier(random_state=12345)\n",
    "model_1.fit(features_upsampled, target_upsampled)"
   ]
  },
  {
   "cell_type": "code",
   "execution_count": 67,
   "metadata": {},
   "outputs": [
    {
     "name": "stdout",
     "output_type": "stream",
     "text": [
      "F1-мера = 0.564 | AUC-ROC = 0.732\n"
     ]
    }
   ],
   "source": [
    "predicted_valid = model_1.predict(features_valid)\n",
    "probabilities_valid = model_1.predict_proba(features_valid)\n",
    "probabilities_one_valid = probabilities_valid[:, 1]\n",
    "f1 = f1_score(target_valid, predicted_valid)\n",
    "auc_roc = roc_auc_score(target_valid, probabilities_one_valid)\n",
    "\n",
    "print(\"F1-мера = {:.3f} | AUC-ROC = {:.3f}\".format(f1, auc_roc))"
   ]
  },
  {
   "cell_type": "markdown",
   "metadata": {},
   "source": [
    "Значение метрик F1-мера и AUC-ROC стало немного меньше, чем на предыдущем этапе. "
   ]
  },
  {
   "cell_type": "markdown",
   "metadata": {},
   "source": [
    "#### Случайный лес"
   ]
  },
  {
   "cell_type": "code",
   "execution_count": 68,
   "metadata": {},
   "outputs": [
    {
     "data": {
      "text/html": [
       "<style>#sk-container-id-17 {color: black;background-color: white;}#sk-container-id-17 pre{padding: 0;}#sk-container-id-17 div.sk-toggleable {background-color: white;}#sk-container-id-17 label.sk-toggleable__label {cursor: pointer;display: block;width: 100%;margin-bottom: 0;padding: 0.3em;box-sizing: border-box;text-align: center;}#sk-container-id-17 label.sk-toggleable__label-arrow:before {content: \"▸\";float: left;margin-right: 0.25em;color: #696969;}#sk-container-id-17 label.sk-toggleable__label-arrow:hover:before {color: black;}#sk-container-id-17 div.sk-estimator:hover label.sk-toggleable__label-arrow:before {color: black;}#sk-container-id-17 div.sk-toggleable__content {max-height: 0;max-width: 0;overflow: hidden;text-align: left;background-color: #f0f8ff;}#sk-container-id-17 div.sk-toggleable__content pre {margin: 0.2em;color: black;border-radius: 0.25em;background-color: #f0f8ff;}#sk-container-id-17 input.sk-toggleable__control:checked~div.sk-toggleable__content {max-height: 200px;max-width: 100%;overflow: auto;}#sk-container-id-17 input.sk-toggleable__control:checked~label.sk-toggleable__label-arrow:before {content: \"▾\";}#sk-container-id-17 div.sk-estimator input.sk-toggleable__control:checked~label.sk-toggleable__label {background-color: #d4ebff;}#sk-container-id-17 div.sk-label input.sk-toggleable__control:checked~label.sk-toggleable__label {background-color: #d4ebff;}#sk-container-id-17 input.sk-hidden--visually {border: 0;clip: rect(1px 1px 1px 1px);clip: rect(1px, 1px, 1px, 1px);height: 1px;margin: -1px;overflow: hidden;padding: 0;position: absolute;width: 1px;}#sk-container-id-17 div.sk-estimator {font-family: monospace;background-color: #f0f8ff;border: 1px dotted black;border-radius: 0.25em;box-sizing: border-box;margin-bottom: 0.5em;}#sk-container-id-17 div.sk-estimator:hover {background-color: #d4ebff;}#sk-container-id-17 div.sk-parallel-item::after {content: \"\";width: 100%;border-bottom: 1px solid gray;flex-grow: 1;}#sk-container-id-17 div.sk-label:hover label.sk-toggleable__label {background-color: #d4ebff;}#sk-container-id-17 div.sk-serial::before {content: \"\";position: absolute;border-left: 1px solid gray;box-sizing: border-box;top: 0;bottom: 0;left: 50%;z-index: 0;}#sk-container-id-17 div.sk-serial {display: flex;flex-direction: column;align-items: center;background-color: white;padding-right: 0.2em;padding-left: 0.2em;position: relative;}#sk-container-id-17 div.sk-item {position: relative;z-index: 1;}#sk-container-id-17 div.sk-parallel {display: flex;align-items: stretch;justify-content: center;background-color: white;position: relative;}#sk-container-id-17 div.sk-item::before, #sk-container-id-17 div.sk-parallel-item::before {content: \"\";position: absolute;border-left: 1px solid gray;box-sizing: border-box;top: 0;bottom: 0;left: 50%;z-index: -1;}#sk-container-id-17 div.sk-parallel-item {display: flex;flex-direction: column;z-index: 1;position: relative;background-color: white;}#sk-container-id-17 div.sk-parallel-item:first-child::after {align-self: flex-end;width: 50%;}#sk-container-id-17 div.sk-parallel-item:last-child::after {align-self: flex-start;width: 50%;}#sk-container-id-17 div.sk-parallel-item:only-child::after {width: 0;}#sk-container-id-17 div.sk-dashed-wrapped {border: 1px dashed gray;margin: 0 0.4em 0.5em 0.4em;box-sizing: border-box;padding-bottom: 0.4em;background-color: white;}#sk-container-id-17 div.sk-label label {font-family: monospace;font-weight: bold;display: inline-block;line-height: 1.2em;}#sk-container-id-17 div.sk-label-container {text-align: center;}#sk-container-id-17 div.sk-container {/* jupyter's `normalize.less` sets `[hidden] { display: none; }` but bootstrap.min.css set `[hidden] { display: none !important; }` so we also need the `!important` here to be able to override the default hidden behavior on the sphinx rendered scikit-learn.org. See: https://github.com/scikit-learn/scikit-learn/issues/21755 */display: inline-block !important;position: relative;}#sk-container-id-17 div.sk-text-repr-fallback {display: none;}</style><div id=\"sk-container-id-17\" class=\"sk-top-container\"><div class=\"sk-text-repr-fallback\"><pre>RandomForestClassifier(random_state=12345)</pre><b>In a Jupyter environment, please rerun this cell to show the HTML representation or trust the notebook. <br />On GitHub, the HTML representation is unable to render, please try loading this page with nbviewer.org.</b></div><div class=\"sk-container\" hidden><div class=\"sk-item\"><div class=\"sk-estimator sk-toggleable\"><input class=\"sk-toggleable__control sk-hidden--visually\" id=\"sk-estimator-id-17\" type=\"checkbox\" checked><label for=\"sk-estimator-id-17\" class=\"sk-toggleable__label sk-toggleable__label-arrow\">RandomForestClassifier</label><div class=\"sk-toggleable__content\"><pre>RandomForestClassifier(random_state=12345)</pre></div></div></div></div></div>"
      ],
      "text/plain": [
       "RandomForestClassifier(random_state=12345)"
      ]
     },
     "execution_count": 68,
     "metadata": {},
     "output_type": "execute_result"
    }
   ],
   "source": [
    "model_2 = RandomForestClassifier(random_state=12345)\n",
    "model_2.fit(features_upsampled, target_upsampled)"
   ]
  },
  {
   "cell_type": "code",
   "execution_count": 69,
   "metadata": {},
   "outputs": [
    {
     "name": "stdout",
     "output_type": "stream",
     "text": [
      "F1-мера = 0.604 | AUC-ROC = 0.857\n"
     ]
    }
   ],
   "source": [
    "predicted_valid = model_2.predict(features_valid)\n",
    "probabilities_valid = model_2.predict_proba(features_valid)\n",
    "probabilities_one_valid = probabilities_valid[:, 1]\n",
    "f1 = f1_score(target_valid, predicted_valid)\n",
    "auc_roc = roc_auc_score(target_valid, probabilities_one_valid)\n",
    "\n",
    "print(\"F1-мера = {:.3f} | AUC-ROC = {:.3f}\".format(f1, auc_roc))"
   ]
  },
  {
   "cell_type": "markdown",
   "metadata": {},
   "source": [
    "Значение метрики F1-мера стало больше, чем на предыдущем этапе. "
   ]
  },
  {
   "cell_type": "markdown",
   "metadata": {},
   "source": [
    "#### Логистическая регрессия"
   ]
  },
  {
   "cell_type": "code",
   "execution_count": 70,
   "metadata": {},
   "outputs": [
    {
     "data": {
      "text/html": [
       "<style>#sk-container-id-18 {color: black;background-color: white;}#sk-container-id-18 pre{padding: 0;}#sk-container-id-18 div.sk-toggleable {background-color: white;}#sk-container-id-18 label.sk-toggleable__label {cursor: pointer;display: block;width: 100%;margin-bottom: 0;padding: 0.3em;box-sizing: border-box;text-align: center;}#sk-container-id-18 label.sk-toggleable__label-arrow:before {content: \"▸\";float: left;margin-right: 0.25em;color: #696969;}#sk-container-id-18 label.sk-toggleable__label-arrow:hover:before {color: black;}#sk-container-id-18 div.sk-estimator:hover label.sk-toggleable__label-arrow:before {color: black;}#sk-container-id-18 div.sk-toggleable__content {max-height: 0;max-width: 0;overflow: hidden;text-align: left;background-color: #f0f8ff;}#sk-container-id-18 div.sk-toggleable__content pre {margin: 0.2em;color: black;border-radius: 0.25em;background-color: #f0f8ff;}#sk-container-id-18 input.sk-toggleable__control:checked~div.sk-toggleable__content {max-height: 200px;max-width: 100%;overflow: auto;}#sk-container-id-18 input.sk-toggleable__control:checked~label.sk-toggleable__label-arrow:before {content: \"▾\";}#sk-container-id-18 div.sk-estimator input.sk-toggleable__control:checked~label.sk-toggleable__label {background-color: #d4ebff;}#sk-container-id-18 div.sk-label input.sk-toggleable__control:checked~label.sk-toggleable__label {background-color: #d4ebff;}#sk-container-id-18 input.sk-hidden--visually {border: 0;clip: rect(1px 1px 1px 1px);clip: rect(1px, 1px, 1px, 1px);height: 1px;margin: -1px;overflow: hidden;padding: 0;position: absolute;width: 1px;}#sk-container-id-18 div.sk-estimator {font-family: monospace;background-color: #f0f8ff;border: 1px dotted black;border-radius: 0.25em;box-sizing: border-box;margin-bottom: 0.5em;}#sk-container-id-18 div.sk-estimator:hover {background-color: #d4ebff;}#sk-container-id-18 div.sk-parallel-item::after {content: \"\";width: 100%;border-bottom: 1px solid gray;flex-grow: 1;}#sk-container-id-18 div.sk-label:hover label.sk-toggleable__label {background-color: #d4ebff;}#sk-container-id-18 div.sk-serial::before {content: \"\";position: absolute;border-left: 1px solid gray;box-sizing: border-box;top: 0;bottom: 0;left: 50%;z-index: 0;}#sk-container-id-18 div.sk-serial {display: flex;flex-direction: column;align-items: center;background-color: white;padding-right: 0.2em;padding-left: 0.2em;position: relative;}#sk-container-id-18 div.sk-item {position: relative;z-index: 1;}#sk-container-id-18 div.sk-parallel {display: flex;align-items: stretch;justify-content: center;background-color: white;position: relative;}#sk-container-id-18 div.sk-item::before, #sk-container-id-18 div.sk-parallel-item::before {content: \"\";position: absolute;border-left: 1px solid gray;box-sizing: border-box;top: 0;bottom: 0;left: 50%;z-index: -1;}#sk-container-id-18 div.sk-parallel-item {display: flex;flex-direction: column;z-index: 1;position: relative;background-color: white;}#sk-container-id-18 div.sk-parallel-item:first-child::after {align-self: flex-end;width: 50%;}#sk-container-id-18 div.sk-parallel-item:last-child::after {align-self: flex-start;width: 50%;}#sk-container-id-18 div.sk-parallel-item:only-child::after {width: 0;}#sk-container-id-18 div.sk-dashed-wrapped {border: 1px dashed gray;margin: 0 0.4em 0.5em 0.4em;box-sizing: border-box;padding-bottom: 0.4em;background-color: white;}#sk-container-id-18 div.sk-label label {font-family: monospace;font-weight: bold;display: inline-block;line-height: 1.2em;}#sk-container-id-18 div.sk-label-container {text-align: center;}#sk-container-id-18 div.sk-container {/* jupyter's `normalize.less` sets `[hidden] { display: none; }` but bootstrap.min.css set `[hidden] { display: none !important; }` so we also need the `!important` here to be able to override the default hidden behavior on the sphinx rendered scikit-learn.org. See: https://github.com/scikit-learn/scikit-learn/issues/21755 */display: inline-block !important;position: relative;}#sk-container-id-18 div.sk-text-repr-fallback {display: none;}</style><div id=\"sk-container-id-18\" class=\"sk-top-container\"><div class=\"sk-text-repr-fallback\"><pre>LogisticRegression(random_state=12345, solver=&#x27;liblinear&#x27;)</pre><b>In a Jupyter environment, please rerun this cell to show the HTML representation or trust the notebook. <br />On GitHub, the HTML representation is unable to render, please try loading this page with nbviewer.org.</b></div><div class=\"sk-container\" hidden><div class=\"sk-item\"><div class=\"sk-estimator sk-toggleable\"><input class=\"sk-toggleable__control sk-hidden--visually\" id=\"sk-estimator-id-18\" type=\"checkbox\" checked><label for=\"sk-estimator-id-18\" class=\"sk-toggleable__label sk-toggleable__label-arrow\">LogisticRegression</label><div class=\"sk-toggleable__content\"><pre>LogisticRegression(random_state=12345, solver=&#x27;liblinear&#x27;)</pre></div></div></div></div></div>"
      ],
      "text/plain": [
       "LogisticRegression(random_state=12345, solver='liblinear')"
      ]
     },
     "execution_count": 70,
     "metadata": {},
     "output_type": "execute_result"
    }
   ],
   "source": [
    "model_3 = LogisticRegression(random_state=12345, solver='liblinear')\n",
    "model_3.fit(features_upsampled, target_upsampled)"
   ]
  },
  {
   "cell_type": "code",
   "execution_count": 71,
   "metadata": {},
   "outputs": [
    {
     "name": "stdout",
     "output_type": "stream",
     "text": [
      "F1-мера = 0.321 | AUC-ROC = 0.509\n"
     ]
    }
   ],
   "source": [
    "predicted_valid = model_3.predict(features_valid)\n",
    "probabilities_valid = model_3.predict_proba(features_valid)\n",
    "probabilities_one_valid = probabilities_valid[:, 1]\n",
    "f1 = f1_score(target_valid, predicted_valid)\n",
    "auc_roc = roc_auc_score(target_valid, probabilities_one_valid)\n",
    "\n",
    "print(\"F1-мера = {:.3f} | AUC-ROC = {:.3f}\".format(f1, auc_roc))"
   ]
  },
  {
   "cell_type": "markdown",
   "metadata": {},
   "source": [
    "Значение метрик F1-мера стало больше, чем на предыдущем этапе. "
   ]
  },
  {
   "cell_type": "markdown",
   "metadata": {},
   "source": [
    "### Изменение порога классификации"
   ]
  },
  {
   "cell_type": "markdown",
   "metadata": {},
   "source": [
    "Для изменения порога классификации зададим диапазон от 0 до 0.5 с шагом 0.02."
   ]
  },
  {
   "cell_type": "markdown",
   "metadata": {},
   "source": [
    "#### Решающее дерево"
   ]
  },
  {
   "cell_type": "code",
   "execution_count": 72,
   "metadata": {},
   "outputs": [
    {
     "name": "stdout",
     "output_type": "stream",
     "text": [
      "Порог = 0.00 | Точность = 0.588, Полнота = 0.539, F1-мера = 0.563\n",
      "Порог = 0.02 | Точность = 0.588, Полнота = 0.539, F1-мера = 0.563\n",
      "Порог = 0.04 | Точность = 0.588, Полнота = 0.539, F1-мера = 0.563\n",
      "Порог = 0.06 | Точность = 0.588, Полнота = 0.539, F1-мера = 0.563\n",
      "Порог = 0.08 | Точность = 0.588, Полнота = 0.539, F1-мера = 0.563\n",
      "Порог = 0.10 | Точность = 0.588, Полнота = 0.539, F1-мера = 0.563\n",
      "Порог = 0.12 | Точность = 0.588, Полнота = 0.539, F1-мера = 0.563\n",
      "Порог = 0.14 | Точность = 0.588, Полнота = 0.539, F1-мера = 0.563\n",
      "Порог = 0.16 | Точность = 0.588, Полнота = 0.539, F1-мера = 0.563\n",
      "Порог = 0.18 | Точность = 0.588, Полнота = 0.539, F1-мера = 0.563\n",
      "Порог = 0.20 | Точность = 0.588, Полнота = 0.539, F1-мера = 0.563\n",
      "Порог = 0.22 | Точность = 0.588, Полнота = 0.539, F1-мера = 0.563\n",
      "Порог = 0.24 | Точность = 0.588, Полнота = 0.539, F1-мера = 0.563\n",
      "Порог = 0.26 | Точность = 0.588, Полнота = 0.539, F1-мера = 0.563\n",
      "Порог = 0.28 | Точность = 0.588, Полнота = 0.539, F1-мера = 0.563\n",
      "Порог = 0.30 | Точность = 0.588, Полнота = 0.539, F1-мера = 0.563\n",
      "Порог = 0.32 | Точность = 0.588, Полнота = 0.539, F1-мера = 0.563\n",
      "Порог = 0.34 | Точность = 0.588, Полнота = 0.539, F1-мера = 0.563\n",
      "Порог = 0.36 | Точность = 0.588, Полнота = 0.539, F1-мера = 0.563\n",
      "Порог = 0.38 | Точность = 0.588, Полнота = 0.539, F1-мера = 0.563\n",
      "Порог = 0.40 | Точность = 0.588, Полнота = 0.539, F1-мера = 0.563\n",
      "Порог = 0.42 | Точность = 0.588, Полнота = 0.539, F1-мера = 0.563\n",
      "Порог = 0.44 | Точность = 0.588, Полнота = 0.539, F1-мера = 0.563\n",
      "Порог = 0.46 | Точность = 0.588, Полнота = 0.539, F1-мера = 0.563\n",
      "Порог = 0.48 | Точность = 0.588, Полнота = 0.539, F1-мера = 0.563\n",
      "Порог = 0.50 | Точность = 0.588, Полнота = 0.539, F1-мера = 0.563\n",
      "Порог = 0.52 | Точность = 0.588, Полнота = 0.539, F1-мера = 0.563\n",
      "Порог = 0.54 | Точность = 0.588, Полнота = 0.539, F1-мера = 0.563\n",
      "Порог = 0.56 | Точность = 0.588, Полнота = 0.539, F1-мера = 0.563\n",
      "Порог = 0.58 | Точность = 0.588, Полнота = 0.539, F1-мера = 0.563\n"
     ]
    }
   ],
   "source": [
    "model_1=DecisionTreeClassifier(random_state=12345)\n",
    "model_1.fit(features_train, target_train)\n",
    "probabilities_valid = model_1.predict_proba(features_valid)\n",
    "probabilities_one_valid = probabilities_valid[:, 1]\n",
    "\n",
    "for threshold in np.arange(0, 0.6, 0.02):\n",
    "    predicted_valid = probabilities_one_valid > threshold\n",
    "    precision = precision_score(target_valid, predicted_valid)\n",
    "    recall = recall_score(target_valid, predicted_valid)\n",
    "    f1 = f1_score(target_valid, predicted_valid)\n",
    "\n",
    "    print(\"Порог = {:.2f} | Точность = {:.3f}, Полнота = {:.3f}, F1-мера = {:.3f}\".format(\n",
    "        threshold, precision, recall, f1))"
   ]
  },
  {
   "cell_type": "markdown",
   "metadata": {},
   "source": [
    "Как мы видим, значение всех трех метрик не меняется при переборе параметров. "
   ]
  },
  {
   "cell_type": "markdown",
   "metadata": {},
   "source": [
    "#### Случайный лес"
   ]
  },
  {
   "cell_type": "code",
   "execution_count": 73,
   "metadata": {},
   "outputs": [
    {
     "name": "stdout",
     "output_type": "stream",
     "text": [
      "Порог = 0.00 | Точность = 0.207, Полнота = 1.000, F1-мера = 0.343\n",
      "Порог = 0.02 | Точность = 0.220, Полнота = 0.995, F1-мера = 0.360\n",
      "Порог = 0.04 | Точность = 0.239, Полнота = 0.978, F1-мера = 0.384\n",
      "Порог = 0.06 | Точность = 0.262, Полнота = 0.963, F1-мера = 0.412\n",
      "Порог = 0.08 | Точность = 0.290, Полнота = 0.949, F1-мера = 0.444\n",
      "Порог = 0.10 | Точность = 0.316, Полнота = 0.917, F1-мера = 0.470\n",
      "Порог = 0.12 | Точность = 0.343, Полнота = 0.890, F1-мера = 0.495\n",
      "Порог = 0.14 | Точность = 0.373, Полнота = 0.860, F1-мера = 0.520\n",
      "Порог = 0.16 | Точность = 0.413, Полнота = 0.831, F1-мера = 0.552\n",
      "Порог = 0.18 | Точность = 0.440, Полнота = 0.775, F1-мера = 0.561\n",
      "Порог = 0.20 | Точность = 0.476, Полнота = 0.745, F1-мера = 0.581\n",
      "Порог = 0.22 | Точность = 0.506, Полнота = 0.703, F1-мера = 0.589\n",
      "Порог = 0.24 | Точность = 0.545, Полнота = 0.679, F1-мера = 0.605\n",
      "Порог = 0.26 | Точность = 0.584, Полнота = 0.662, F1-мера = 0.621\n",
      "Порог = 0.28 | Точность = 0.615, Полнота = 0.654, F1-мера = 0.634\n",
      "Порог = 0.30 | Точность = 0.642, Полнота = 0.632, F1-мера = 0.637\n",
      "Порог = 0.32 | Точность = 0.660, Полнота = 0.603, F1-мера = 0.630\n",
      "Порог = 0.34 | Точность = 0.690, Полнота = 0.566, F1-мера = 0.622\n",
      "Порог = 0.36 | Точность = 0.725, Полнота = 0.542, F1-мера = 0.620\n",
      "Порог = 0.38 | Точность = 0.733, Полнота = 0.525, F1-мера = 0.611\n",
      "Порог = 0.40 | Точность = 0.755, Полнота = 0.498, F1-мера = 0.600\n",
      "Порог = 0.42 | Точность = 0.785, Полнота = 0.466, F1-мера = 0.585\n",
      "Порог = 0.44 | Точность = 0.814, Полнота = 0.439, F1-мера = 0.570\n",
      "Порог = 0.46 | Точность = 0.822, Полнота = 0.407, F1-мера = 0.544\n",
      "Порог = 0.48 | Точность = 0.832, Полнота = 0.377, F1-мера = 0.519\n",
      "Порог = 0.50 | Точность = 0.847, Полнота = 0.353, F1-мера = 0.498\n",
      "Порог = 0.52 | Точность = 0.862, Полнота = 0.336, F1-мера = 0.483\n",
      "Порог = 0.54 | Точность = 0.868, Полнота = 0.306, F1-мера = 0.453\n",
      "Порог = 0.56 | Точность = 0.881, Полнота = 0.272, F1-мера = 0.416\n",
      "Порог = 0.58 | Точность = 0.883, Полнота = 0.223, F1-мера = 0.356\n"
     ]
    }
   ],
   "source": [
    "model_2=RandomForestClassifier(random_state=12345)\n",
    "model_2.fit(features_train, target_train)\n",
    "probabilities_valid = model_2.predict_proba(features_valid)\n",
    "probabilities_one_valid = probabilities_valid[:, 1]\n",
    "\n",
    "for threshold in np.arange(0, 0.6, 0.02):\n",
    "    predicted_valid = probabilities_one_valid > threshold\n",
    "    precision = precision_score(target_valid, predicted_valid)\n",
    "    recall = recall_score(target_valid, predicted_valid)\n",
    "    f1 = f1_score(target_valid, predicted_valid)\n",
    "\n",
    "    print(\"Порог = {:.2f} | Точность = {:.3f}, Полнота = {:.3f}, F1-мера = {:.3f}\".format(\n",
    "        threshold, precision, recall, f1))"
   ]
  },
  {
   "cell_type": "markdown",
   "metadata": {},
   "source": [
    "Как мы видим, наибольшее значение метрики f1-мера наблюдается при значении порога, равном 0.30. "
   ]
  },
  {
   "cell_type": "markdown",
   "metadata": {},
   "source": [
    "#### Логистическая регрессия"
   ]
  },
  {
   "cell_type": "code",
   "execution_count": 74,
   "metadata": {},
   "outputs": [
    {
     "name": "stdout",
     "output_type": "stream",
     "text": [
      "Порог = 0.00 | Точность = 0.204, Полнота = 1.000, F1-мера = 0.339\n",
      "Порог = 0.02 | Точность = 0.204, Полнота = 1.000, F1-мера = 0.339\n",
      "Порог = 0.04 | Точность = 0.204, Полнота = 1.000, F1-мера = 0.339\n",
      "Порог = 0.06 | Точность = 0.204, Полнота = 1.000, F1-мера = 0.339\n",
      "Порог = 0.08 | Точность = 0.204, Полнота = 1.000, F1-мера = 0.339\n",
      "Порог = 0.10 | Точность = 0.204, Полнота = 1.000, F1-мера = 0.339\n",
      "Порог = 0.12 | Точность = 0.204, Полнота = 1.000, F1-мера = 0.339\n",
      "Порог = 0.14 | Точность = 0.204, Полнота = 1.000, F1-мера = 0.339\n",
      "Порог = 0.16 | Точность = 0.204, Полнота = 1.000, F1-мера = 0.339\n",
      "Порог = 0.18 | Точность = 0.204, Полнота = 1.000, F1-мера = 0.339\n",
      "Порог = 0.20 | Точность = 0.204, Полнота = 1.000, F1-мера = 0.339\n",
      "Порог = 0.22 | Точность = 0.000, Полнота = 0.000, F1-мера = 0.000\n",
      "Порог = 0.24 | Точность = 0.000, Полнота = 0.000, F1-мера = 0.000\n",
      "Порог = 0.26 | Точность = 0.000, Полнота = 0.000, F1-мера = 0.000\n",
      "Порог = 0.28 | Точность = 0.000, Полнота = 0.000, F1-мера = 0.000\n",
      "Порог = 0.30 | Точность = 0.000, Полнота = 0.000, F1-мера = 0.000\n",
      "Порог = 0.32 | Точность = 0.000, Полнота = 0.000, F1-мера = 0.000\n",
      "Порог = 0.34 | Точность = 0.000, Полнота = 0.000, F1-мера = 0.000\n",
      "Порог = 0.36 | Точность = 0.000, Полнота = 0.000, F1-мера = 0.000\n",
      "Порог = 0.38 | Точность = 0.000, Полнота = 0.000, F1-мера = 0.000\n",
      "Порог = 0.40 | Точность = 0.000, Полнота = 0.000, F1-мера = 0.000\n",
      "Порог = 0.42 | Точность = 0.000, Полнота = 0.000, F1-мера = 0.000\n",
      "Порог = 0.44 | Точность = 0.000, Полнота = 0.000, F1-мера = 0.000\n",
      "Порог = 0.46 | Точность = 0.000, Полнота = 0.000, F1-мера = 0.000\n",
      "Порог = 0.48 | Точность = 0.000, Полнота = 0.000, F1-мера = 0.000\n",
      "Порог = 0.50 | Точность = 0.000, Полнота = 0.000, F1-мера = 0.000\n",
      "Порог = 0.52 | Точность = 0.000, Полнота = 0.000, F1-мера = 0.000\n",
      "Порог = 0.54 | Точность = 0.000, Полнота = 0.000, F1-мера = 0.000\n",
      "Порог = 0.56 | Точность = 0.000, Полнота = 0.000, F1-мера = 0.000\n",
      "Порог = 0.58 | Точность = 0.000, Полнота = 0.000, F1-мера = 0.000\n"
     ]
    },
    {
     "name": "stderr",
     "output_type": "stream",
     "text": [
      "/Library/Frameworks/Python.framework/Versions/3.10/lib/python3.10/site-packages/sklearn/metrics/_classification.py:1327: UndefinedMetricWarning: Precision is ill-defined and being set to 0.0 due to no predicted samples. Use `zero_division` parameter to control this behavior.\n",
      "  _warn_prf(average, modifier, msg_start, len(result))\n",
      "/Library/Frameworks/Python.framework/Versions/3.10/lib/python3.10/site-packages/sklearn/metrics/_classification.py:1327: UndefinedMetricWarning: Precision is ill-defined and being set to 0.0 due to no predicted samples. Use `zero_division` parameter to control this behavior.\n",
      "  _warn_prf(average, modifier, msg_start, len(result))\n",
      "/Library/Frameworks/Python.framework/Versions/3.10/lib/python3.10/site-packages/sklearn/metrics/_classification.py:1327: UndefinedMetricWarning: Precision is ill-defined and being set to 0.0 due to no predicted samples. Use `zero_division` parameter to control this behavior.\n",
      "  _warn_prf(average, modifier, msg_start, len(result))\n",
      "/Library/Frameworks/Python.framework/Versions/3.10/lib/python3.10/site-packages/sklearn/metrics/_classification.py:1327: UndefinedMetricWarning: Precision is ill-defined and being set to 0.0 due to no predicted samples. Use `zero_division` parameter to control this behavior.\n",
      "  _warn_prf(average, modifier, msg_start, len(result))\n",
      "/Library/Frameworks/Python.framework/Versions/3.10/lib/python3.10/site-packages/sklearn/metrics/_classification.py:1327: UndefinedMetricWarning: Precision is ill-defined and being set to 0.0 due to no predicted samples. Use `zero_division` parameter to control this behavior.\n",
      "  _warn_prf(average, modifier, msg_start, len(result))\n",
      "/Library/Frameworks/Python.framework/Versions/3.10/lib/python3.10/site-packages/sklearn/metrics/_classification.py:1327: UndefinedMetricWarning: Precision is ill-defined and being set to 0.0 due to no predicted samples. Use `zero_division` parameter to control this behavior.\n",
      "  _warn_prf(average, modifier, msg_start, len(result))\n",
      "/Library/Frameworks/Python.framework/Versions/3.10/lib/python3.10/site-packages/sklearn/metrics/_classification.py:1327: UndefinedMetricWarning: Precision is ill-defined and being set to 0.0 due to no predicted samples. Use `zero_division` parameter to control this behavior.\n",
      "  _warn_prf(average, modifier, msg_start, len(result))\n",
      "/Library/Frameworks/Python.framework/Versions/3.10/lib/python3.10/site-packages/sklearn/metrics/_classification.py:1327: UndefinedMetricWarning: Precision is ill-defined and being set to 0.0 due to no predicted samples. Use `zero_division` parameter to control this behavior.\n",
      "  _warn_prf(average, modifier, msg_start, len(result))\n",
      "/Library/Frameworks/Python.framework/Versions/3.10/lib/python3.10/site-packages/sklearn/metrics/_classification.py:1327: UndefinedMetricWarning: Precision is ill-defined and being set to 0.0 due to no predicted samples. Use `zero_division` parameter to control this behavior.\n",
      "  _warn_prf(average, modifier, msg_start, len(result))\n",
      "/Library/Frameworks/Python.framework/Versions/3.10/lib/python3.10/site-packages/sklearn/metrics/_classification.py:1327: UndefinedMetricWarning: Precision is ill-defined and being set to 0.0 due to no predicted samples. Use `zero_division` parameter to control this behavior.\n",
      "  _warn_prf(average, modifier, msg_start, len(result))\n",
      "/Library/Frameworks/Python.framework/Versions/3.10/lib/python3.10/site-packages/sklearn/metrics/_classification.py:1327: UndefinedMetricWarning: Precision is ill-defined and being set to 0.0 due to no predicted samples. Use `zero_division` parameter to control this behavior.\n",
      "  _warn_prf(average, modifier, msg_start, len(result))\n",
      "/Library/Frameworks/Python.framework/Versions/3.10/lib/python3.10/site-packages/sklearn/metrics/_classification.py:1327: UndefinedMetricWarning: Precision is ill-defined and being set to 0.0 due to no predicted samples. Use `zero_division` parameter to control this behavior.\n",
      "  _warn_prf(average, modifier, msg_start, len(result))\n",
      "/Library/Frameworks/Python.framework/Versions/3.10/lib/python3.10/site-packages/sklearn/metrics/_classification.py:1327: UndefinedMetricWarning: Precision is ill-defined and being set to 0.0 due to no predicted samples. Use `zero_division` parameter to control this behavior.\n",
      "  _warn_prf(average, modifier, msg_start, len(result))\n",
      "/Library/Frameworks/Python.framework/Versions/3.10/lib/python3.10/site-packages/sklearn/metrics/_classification.py:1327: UndefinedMetricWarning: Precision is ill-defined and being set to 0.0 due to no predicted samples. Use `zero_division` parameter to control this behavior.\n",
      "  _warn_prf(average, modifier, msg_start, len(result))\n",
      "/Library/Frameworks/Python.framework/Versions/3.10/lib/python3.10/site-packages/sklearn/metrics/_classification.py:1327: UndefinedMetricWarning: Precision is ill-defined and being set to 0.0 due to no predicted samples. Use `zero_division` parameter to control this behavior.\n",
      "  _warn_prf(average, modifier, msg_start, len(result))\n",
      "/Library/Frameworks/Python.framework/Versions/3.10/lib/python3.10/site-packages/sklearn/metrics/_classification.py:1327: UndefinedMetricWarning: Precision is ill-defined and being set to 0.0 due to no predicted samples. Use `zero_division` parameter to control this behavior.\n",
      "  _warn_prf(average, modifier, msg_start, len(result))\n",
      "/Library/Frameworks/Python.framework/Versions/3.10/lib/python3.10/site-packages/sklearn/metrics/_classification.py:1327: UndefinedMetricWarning: Precision is ill-defined and being set to 0.0 due to no predicted samples. Use `zero_division` parameter to control this behavior.\n",
      "  _warn_prf(average, modifier, msg_start, len(result))\n",
      "/Library/Frameworks/Python.framework/Versions/3.10/lib/python3.10/site-packages/sklearn/metrics/_classification.py:1327: UndefinedMetricWarning: Precision is ill-defined and being set to 0.0 due to no predicted samples. Use `zero_division` parameter to control this behavior.\n",
      "  _warn_prf(average, modifier, msg_start, len(result))\n",
      "/Library/Frameworks/Python.framework/Versions/3.10/lib/python3.10/site-packages/sklearn/metrics/_classification.py:1327: UndefinedMetricWarning: Precision is ill-defined and being set to 0.0 due to no predicted samples. Use `zero_division` parameter to control this behavior.\n",
      "  _warn_prf(average, modifier, msg_start, len(result))\n"
     ]
    }
   ],
   "source": [
    "model_3=LogisticRegression(random_state=12345, solver='liblinear')\n",
    "model_3.fit(features_train, target_train)\n",
    "probabilities_valid = model_3.predict_proba(features_valid)\n",
    "probabilities_one_valid = probabilities_valid[:, 1]\n",
    "\n",
    "for threshold in np.arange(0, 0.6, 0.02):\n",
    "    predicted_valid = probabilities_one_valid > threshold\n",
    "    precision = precision_score(target_valid, predicted_valid)\n",
    "    recall = recall_score(target_valid, predicted_valid)\n",
    "    f1 = f1_score(target_valid, predicted_valid)\n",
    "\n",
    "    print(\"Порог = {:.2f} | Точность = {:.3f}, Полнота = {:.3f}, F1-мера = {:.3f}\".format(\n",
    "        threshold, precision, recall, f1))"
   ]
  },
  {
   "cell_type": "markdown",
   "metadata": {},
   "source": [
    "Как мы видим, значение всех трех метрик не меняется вплоть до порога 0.20, после этого значения становятся равными 0. "
   ]
  },
  {
   "cell_type": "markdown",
   "metadata": {},
   "source": [
    "### Вывод по результатам борьбы с дисбалансом"
   ]
  },
  {
   "cell_type": "markdown",
   "metadata": {},
   "source": [
    "По результатам борбы с дисбалансом можно заключить, что наибольшее значение метрики f1-мера достигуто при изменении порога классификации для модели \"Случайный лес\" (0.637). \n",
    "При этом изменение порога классификации не сказалось на той же метрике для моделей \"Решающее дерево\" и \"Логистическая регрессия\". "
   ]
  },
  {
   "cell_type": "markdown",
   "metadata": {},
   "source": [
    "## Тестирование модели"
   ]
  },
  {
   "cell_type": "markdown",
   "metadata": {},
   "source": [
    "Для тестирпования возьмем модель \"Случайный лес\" с учетом результатов, полученных на предыдущем шаге. \n",
    "Дополнительно построим ROC-кривую и рассчитаем значение AUC-ROC."
   ]
  },
  {
   "cell_type": "code",
   "execution_count": 75,
   "metadata": {},
   "outputs": [],
   "source": [
    "target_train_full = pd.concat([target_train, target_valid])\n",
    "features_train_full = pd.concat([features_train, features_valid])"
   ]
  },
  {
   "cell_type": "code",
   "execution_count": 76,
   "metadata": {},
   "outputs": [
    {
     "name": "stdout",
     "output_type": "stream",
     "text": [
      "Порог = 0.30 | Точность = 0.618, Полнота = 0.565, F1-мера = 0.591, AUC-ROC= 0.825\n"
     ]
    }
   ],
   "source": [
    "model_2=RandomForestClassifier(random_state=12345)\n",
    "model_2.fit(features_train_full, target_train_full)\n",
    "probabilities_test = model_2.predict_proba(features_test)\n",
    "probabilities_one_test = probabilities_test[:, 1]\n",
    "predicted_test = probabilities_one_test > 0.30\n",
    "precision = precision_score(target_test, predicted_test)\n",
    "recall = recall_score(target_test, predicted_test)\n",
    "f1 = f1_score(target_test, predicted_test)\n",
    "auc_roc = roc_auc_score(target_test, probabilities_one_test)\n",
    "\n",
    "print(\"Порог = 0.30 | Точность = {:.3f}, Полнота = {:.3f}, F1-мера = {:.3f}, AUC-ROC= {:.3f}\".format(precision, recall, f1, auc_roc))"
   ]
  },
  {
   "cell_type": "code",
   "execution_count": 77,
   "metadata": {},
   "outputs": [
    {
     "data": {
      "image/png": "[encoded data removed]",
      "text/plain": [
       "<Figure size 432x288 with 1 Axes>"
      ]
     },
     "metadata": {
      "needs_background": "light"
     },
     "output_type": "display_data"
    }
   ],
   "source": [
    "fpr, tpr, thresholds = roc_curve(target_test, probabilities_one_test)\n",
    "\n",
    "plt.figure()\n",
    "\n",
    "plt.plot(fpr, tpr)\n",
    "plt.xlim([0.0, 1.0])\n",
    "plt.ylim([0.0, 1.0])\n",
    "plt.xlabel('False Positive Rate')\n",
    "plt.ylabel('True Positive Rate')\n",
    "plt.title('ROC-кривая')\n",
    "\n",
    "plt.show()"
   ]
  },
  {
   "cell_type": "markdown",
   "metadata": {},
   "source": [
    "### Заключение по результатам тестирования модели"
   ]
  },
  {
   "cell_type": "markdown",
   "metadata": {},
   "source": [
    "По результатам рассмотрения графика и значения AUC-ROC (0.83) можно заключить, что график используемой модели (а, следовательно, и предсказания) качественнее, чем у модели, которая всегда отвечает случайно. "
   ]
  },
  {
   "cell_type": "markdown",
   "metadata": {},
   "source": [
    "## Заключение по результатам исследования"
   ]
  },
  {
   "cell_type": "markdown",
   "metadata": {},
   "source": [
    "По результатам выполненной работы были выполнены следующие действия. \n",
    "\n",
    "<b>Подготовка данных</b>\n",
    "1. Предварительно рассмотрены содержащиеся в исходном датасете данные, включая тип, наличие пропусков и их колическтво, а также воззможная корреляция между признаками. \n",
    "2. Категориальные признаки заменены на количественные при помощи прямого кодирования. \n",
    "3. Выполнено масштабирование признаков. \n",
    "4. Данные разделены на обучающую и валидационную выборку, определен целевой признак - столбец `Exited`, показывающий, отказался ли пользователь от услуг провайдера или нет. \n",
    "\n",
    "<b>Исследование задачи</b>\n",
    "1. Наиболшее значение F1-меры наблюдается для модели \"Решающее дерево\" (0.548), при этом наибоьшее значение метрики AUC-ROC у модели \"Случайный лес\" (0.846). \n",
    "2. Значение метрики F1-мера для модели \"Логистическая регрессия\" установилось на значении 0.\n",
    "3. Значение метрики F1-мера для всех трех моделей ниже требуемого по заданию (0.59)\n",
    "\n",
    "<b>Борьба с дисбалансом</b>\n",
    "По результатам борбы с дисбалансом можно заключить, что наибольшее значение метрики f1-мера достигуто при изменении порога классификации для модели \"Случайный лес\" (0.637). \n",
    "При этом изменение порога классификации не сказалось на той же метрике для моделей \"Решающее дерево\" и \"Логистическая регрессия\". \n",
    "\n",
    "<b>Тестирование модели</b>\n",
    "По результатам рассмотрения графика и значения AUC-ROC(0.83) можно заключить, что график используемой модели (а, следовательно, и предсказания) качественнее, чем у модели, которая всегда отвечает случайно. "
   ]
  },
  {
   "cell_type": "markdown",
   "metadata": {},
   "source": [
    "Ссылка на репозиторий: https://github.com/EvgeniiSapozhnikov/Project.git "
   ]
  }
 ],
 "metadata": {
  "ExecuteTimeLog": [
   {
    "duration": 1771,
    "start_time": "2022-08-29T15:08:51.272Z"
   },
   {
    "duration": 177,
    "start_time": "2022-08-29T15:09:17.070Z"
   },
   {
    "duration": 1667,
    "start_time": "2022-08-30T09:33:37.248Z"
   },
   {
    "duration": 6,
    "start_time": "2022-08-30T09:33:38.917Z"
   },
   {
    "duration": 120,
    "start_time": "2022-08-30T09:33:38.924Z"
   },
   {
    "duration": 1373,
    "start_time": "2022-08-30T09:36:48.724Z"
   },
   {
    "duration": 5,
    "start_time": "2022-08-30T09:36:50.099Z"
   },
   {
    "duration": 933,
    "start_time": "2022-08-30T09:36:50.106Z"
   },
   {
    "duration": 1408,
    "start_time": "2022-08-30T09:41:56.245Z"
   },
   {
    "duration": 5,
    "start_time": "2022-08-30T09:41:57.655Z"
   },
   {
    "duration": 939,
    "start_time": "2022-08-30T09:41:57.661Z"
   },
   {
    "duration": 1365,
    "start_time": "2022-08-30T09:44:45.823Z"
   },
   {
    "duration": 5,
    "start_time": "2022-08-30T09:44:47.190Z"
   },
   {
    "duration": 132,
    "start_time": "2022-08-30T09:44:47.197Z"
   },
   {
    "duration": 1366,
    "start_time": "2022-08-30T09:45:42.439Z"
   },
   {
    "duration": 5,
    "start_time": "2022-08-30T09:45:43.807Z"
   },
   {
    "duration": 143,
    "start_time": "2022-08-30T09:45:43.813Z"
   },
   {
    "duration": 1293,
    "start_time": "2022-08-30T09:46:07.443Z"
   },
   {
    "duration": 4,
    "start_time": "2022-08-30T09:46:08.738Z"
   },
   {
    "duration": 884,
    "start_time": "2022-08-30T09:46:08.743Z"
   },
   {
    "duration": 1350,
    "start_time": "2022-08-30T09:46:44.416Z"
   },
   {
    "duration": 5,
    "start_time": "2022-08-30T09:46:45.769Z"
   },
   {
    "duration": 948,
    "start_time": "2022-08-30T09:46:45.775Z"
   },
   {
    "duration": 1346,
    "start_time": "2022-08-30T09:47:28.934Z"
   },
   {
    "duration": 6,
    "start_time": "2022-08-30T09:47:30.281Z"
   },
   {
    "duration": 142,
    "start_time": "2022-08-30T09:47:30.288Z"
   },
   {
    "duration": 1350,
    "start_time": "2022-08-30T09:47:49.109Z"
   },
   {
    "duration": 5,
    "start_time": "2022-08-30T09:47:50.461Z"
   },
   {
    "duration": 963,
    "start_time": "2022-08-30T09:47:50.468Z"
   },
   {
    "duration": 1377,
    "start_time": "2022-08-30T09:48:36.318Z"
   },
   {
    "duration": 5,
    "start_time": "2022-08-30T09:48:37.697Z"
   },
   {
    "duration": 971,
    "start_time": "2022-08-30T09:48:37.704Z"
   },
   {
    "duration": 1428,
    "start_time": "2022-08-30T09:50:53.127Z"
   },
   {
    "duration": 5,
    "start_time": "2022-08-30T09:50:54.556Z"
   },
   {
    "duration": 972,
    "start_time": "2022-08-30T09:50:54.563Z"
   },
   {
    "duration": 1457,
    "start_time": "2022-08-30T09:55:46.064Z"
   },
   {
    "duration": 6,
    "start_time": "2022-08-30T09:55:47.523Z"
   },
   {
    "duration": 950,
    "start_time": "2022-08-30T09:55:47.533Z"
   },
   {
    "duration": 1269,
    "start_time": "2022-08-30T10:12:11.697Z"
   },
   {
    "duration": 0,
    "start_time": "2022-08-30T10:12:12.968Z"
   },
   {
    "duration": 0,
    "start_time": "2022-08-30T10:12:12.969Z"
   },
   {
    "duration": 11,
    "start_time": "2022-08-30T10:13:20.601Z"
   },
   {
    "duration": 1478,
    "start_time": "2022-08-30T10:13:30.880Z"
   },
   {
    "duration": 5,
    "start_time": "2022-08-30T10:13:32.360Z"
   },
   {
    "duration": 1060,
    "start_time": "2022-08-30T10:13:32.367Z"
   },
   {
    "duration": 216,
    "start_time": "2022-08-30T10:13:33.429Z"
   },
   {
    "duration": 1441,
    "start_time": "2022-08-30T10:15:33.118Z"
   },
   {
    "duration": 6,
    "start_time": "2022-08-30T10:15:34.561Z"
   },
   {
    "duration": 987,
    "start_time": "2022-08-30T10:15:34.568Z"
   },
   {
    "duration": 205,
    "start_time": "2022-08-30T10:15:35.557Z"
   },
   {
    "duration": 1361,
    "start_time": "2022-08-30T11:08:08.895Z"
   },
   {
    "duration": 5,
    "start_time": "2022-08-30T11:08:10.258Z"
   },
   {
    "duration": 918,
    "start_time": "2022-08-30T11:08:10.265Z"
   },
   {
    "duration": 207,
    "start_time": "2022-08-30T11:08:11.185Z"
   },
   {
    "duration": 1324,
    "start_time": "2022-08-30T11:11:16.188Z"
   },
   {
    "duration": 5,
    "start_time": "2022-08-30T11:11:17.514Z"
   },
   {
    "duration": 943,
    "start_time": "2022-08-30T11:11:17.520Z"
   },
   {
    "duration": 214,
    "start_time": "2022-08-30T11:11:18.466Z"
   },
   {
    "duration": 114,
    "start_time": "2022-08-30T11:11:18.684Z"
   },
   {
    "duration": 1341,
    "start_time": "2022-08-30T11:11:42.707Z"
   },
   {
    "duration": 5,
    "start_time": "2022-08-30T11:11:44.050Z"
   },
   {
    "duration": 998,
    "start_time": "2022-08-30T11:11:44.057Z"
   },
   {
    "duration": 200,
    "start_time": "2022-08-30T11:11:45.058Z"
   },
   {
    "duration": 142,
    "start_time": "2022-08-30T11:11:45.260Z"
   },
   {
    "duration": 17,
    "start_time": "2022-08-30T11:12:28.806Z"
   },
   {
    "duration": 1338,
    "start_time": "2022-08-30T11:20:45.627Z"
   },
   {
    "duration": 5,
    "start_time": "2022-08-30T11:20:46.967Z"
   },
   {
    "duration": 885,
    "start_time": "2022-08-30T11:20:46.974Z"
   },
   {
    "duration": 204,
    "start_time": "2022-08-30T11:20:47.861Z"
   },
   {
    "duration": 147,
    "start_time": "2022-08-30T11:20:48.067Z"
   },
   {
    "duration": 1670,
    "start_time": "2022-08-30T13:31:27.410Z"
   },
   {
    "duration": 6,
    "start_time": "2022-08-30T13:31:29.082Z"
   },
   {
    "duration": 864,
    "start_time": "2022-08-30T13:31:29.090Z"
   },
   {
    "duration": 221,
    "start_time": "2022-08-30T13:31:29.956Z"
   },
   {
    "duration": 174,
    "start_time": "2022-08-30T13:31:30.179Z"
   },
   {
    "duration": 1503,
    "start_time": "2022-08-30T13:32:23.430Z"
   },
   {
    "duration": 6,
    "start_time": "2022-08-30T13:32:24.935Z"
   },
   {
    "duration": 973,
    "start_time": "2022-08-30T13:32:24.942Z"
   },
   {
    "duration": 220,
    "start_time": "2022-08-30T13:32:25.917Z"
   },
   {
    "duration": 165,
    "start_time": "2022-08-30T13:32:26.138Z"
   },
   {
    "duration": 1378,
    "start_time": "2022-08-30T13:54:03.197Z"
   },
   {
    "duration": 5,
    "start_time": "2022-08-30T13:54:04.577Z"
   },
   {
    "duration": 950,
    "start_time": "2022-08-30T13:54:04.584Z"
   },
   {
    "duration": 211,
    "start_time": "2022-08-30T13:54:05.537Z"
   },
   {
    "duration": 156,
    "start_time": "2022-08-30T13:54:05.750Z"
   },
   {
    "duration": 274,
    "start_time": "2022-08-30T13:54:05.907Z"
   },
   {
    "duration": 0,
    "start_time": "2022-08-30T13:54:06.183Z"
   },
   {
    "duration": 0,
    "start_time": "2022-08-30T13:54:06.185Z"
   },
   {
    "duration": 1484,
    "start_time": "2022-08-30T13:59:49.314Z"
   },
   {
    "duration": 6,
    "start_time": "2022-08-30T13:59:50.800Z"
   },
   {
    "duration": 1078,
    "start_time": "2022-08-30T13:59:50.808Z"
   },
   {
    "duration": 23,
    "start_time": "2022-08-30T13:59:51.889Z"
   },
   {
    "duration": 229,
    "start_time": "2022-08-30T13:59:51.914Z"
   },
   {
    "duration": 152,
    "start_time": "2022-08-30T13:59:52.145Z"
   },
   {
    "duration": 259,
    "start_time": "2022-08-30T13:59:52.300Z"
   },
   {
    "duration": 0,
    "start_time": "2022-08-30T13:59:52.560Z"
   },
   {
    "duration": 0,
    "start_time": "2022-08-30T13:59:52.562Z"
   },
   {
    "duration": 14,
    "start_time": "2022-08-30T14:00:43.221Z"
   },
   {
    "duration": 1427,
    "start_time": "2022-08-30T14:00:58.746Z"
   },
   {
    "duration": 5,
    "start_time": "2022-08-30T14:01:00.175Z"
   },
   {
    "duration": 929,
    "start_time": "2022-08-30T14:01:00.181Z"
   },
   {
    "duration": 7,
    "start_time": "2022-08-30T14:01:01.112Z"
   },
   {
    "duration": 258,
    "start_time": "2022-08-30T14:01:01.121Z"
   },
   {
    "duration": 178,
    "start_time": "2022-08-30T14:01:01.381Z"
   },
   {
    "duration": 1271,
    "start_time": "2022-08-30T14:01:01.561Z"
   },
   {
    "duration": 237,
    "start_time": "2022-08-30T14:01:02.834Z"
   },
   {
    "duration": 73,
    "start_time": "2022-08-30T14:01:03.073Z"
   },
   {
    "duration": 1375,
    "start_time": "2022-08-30T14:03:53.132Z"
   },
   {
    "duration": 6,
    "start_time": "2022-08-30T14:03:54.509Z"
   },
   {
    "duration": 963,
    "start_time": "2022-08-30T14:03:54.516Z"
   },
   {
    "duration": 6,
    "start_time": "2022-08-30T14:03:55.481Z"
   },
   {
    "duration": 249,
    "start_time": "2022-08-30T14:03:55.490Z"
   },
   {
    "duration": 164,
    "start_time": "2022-08-30T14:03:55.741Z"
   },
   {
    "duration": 1277,
    "start_time": "2022-08-30T14:03:55.907Z"
   },
   {
    "duration": 215,
    "start_time": "2022-08-30T14:03:57.185Z"
   },
   {
    "duration": 63,
    "start_time": "2022-08-30T14:03:57.401Z"
   },
   {
    "duration": 11081,
    "start_time": "2022-08-30T14:03:57.467Z"
   },
   {
    "duration": 412,
    "start_time": "2022-08-30T14:04:08.550Z"
   },
   {
    "duration": 275,
    "start_time": "2022-08-30T14:04:08.964Z"
   },
   {
    "duration": 1475,
    "start_time": "2022-08-30T14:06:06.783Z"
   },
   {
    "duration": 7,
    "start_time": "2022-08-30T14:06:08.260Z"
   },
   {
    "duration": 970,
    "start_time": "2022-08-30T14:06:08.268Z"
   },
   {
    "duration": 7,
    "start_time": "2022-08-30T14:06:09.241Z"
   },
   {
    "duration": 230,
    "start_time": "2022-08-30T14:06:09.250Z"
   },
   {
    "duration": 159,
    "start_time": "2022-08-30T14:06:09.481Z"
   },
   {
    "duration": 1193,
    "start_time": "2022-08-30T14:06:09.642Z"
   },
   {
    "duration": 229,
    "start_time": "2022-08-30T14:06:10.837Z"
   },
   {
    "duration": 74,
    "start_time": "2022-08-30T14:06:11.068Z"
   },
   {
    "duration": 10680,
    "start_time": "2022-08-30T14:06:11.144Z"
   },
   {
    "duration": 477,
    "start_time": "2022-08-30T14:06:21.825Z"
   },
   {
    "duration": 253,
    "start_time": "2022-08-30T14:06:22.304Z"
   },
   {
    "duration": 471,
    "start_time": "2022-08-30T14:06:22.559Z"
   },
   {
    "duration": 344,
    "start_time": "2022-08-30T14:06:23.032Z"
   },
   {
    "duration": 241,
    "start_time": "2022-08-30T14:06:23.378Z"
   },
   {
    "duration": 106,
    "start_time": "2022-08-30T14:07:03.498Z"
   },
   {
    "duration": 1375,
    "start_time": "2022-08-30T14:24:54.601Z"
   },
   {
    "duration": 6,
    "start_time": "2022-08-30T14:24:55.978Z"
   },
   {
    "duration": 885,
    "start_time": "2022-08-30T14:24:55.985Z"
   },
   {
    "duration": 7,
    "start_time": "2022-08-30T14:24:56.873Z"
   },
   {
    "duration": 230,
    "start_time": "2022-08-30T14:24:56.882Z"
   },
   {
    "duration": 154,
    "start_time": "2022-08-30T14:24:57.114Z"
   },
   {
    "duration": 1107,
    "start_time": "2022-08-30T14:24:57.269Z"
   },
   {
    "duration": 209,
    "start_time": "2022-08-30T14:24:58.377Z"
   },
   {
    "duration": 67,
    "start_time": "2022-08-30T14:24:58.588Z"
   },
   {
    "duration": 10621,
    "start_time": "2022-08-30T14:24:58.656Z"
   },
   {
    "duration": 377,
    "start_time": "2022-08-30T14:25:09.279Z"
   },
   {
    "duration": 226,
    "start_time": "2022-08-30T14:25:09.657Z"
   },
   {
    "duration": 444,
    "start_time": "2022-08-30T14:25:09.885Z"
   },
   {
    "duration": 371,
    "start_time": "2022-08-30T14:25:10.332Z"
   },
   {
    "duration": 101,
    "start_time": "2022-08-30T14:25:10.705Z"
   },
   {
    "duration": 709,
    "start_time": "2022-08-30T15:21:58.792Z"
   },
   {
    "duration": 57,
    "start_time": "2022-08-30T15:22:02.872Z"
   },
   {
    "duration": 10822,
    "start_time": "2022-08-30T15:28:04.735Z"
   },
   {
    "duration": 225,
    "start_time": "2022-08-30T15:28:28.200Z"
   },
   {
    "duration": 1416,
    "start_time": "2022-08-30T15:28:44.418Z"
   },
   {
    "duration": 7,
    "start_time": "2022-08-30T15:28:45.835Z"
   },
   {
    "duration": 923,
    "start_time": "2022-08-30T15:28:45.843Z"
   },
   {
    "duration": 8,
    "start_time": "2022-08-30T15:28:46.769Z"
   },
   {
    "duration": 219,
    "start_time": "2022-08-30T15:28:46.778Z"
   },
   {
    "duration": 165,
    "start_time": "2022-08-30T15:28:47.001Z"
   },
   {
    "duration": 1192,
    "start_time": "2022-08-30T15:28:47.168Z"
   },
   {
    "duration": 214,
    "start_time": "2022-08-30T15:28:48.362Z"
   },
   {
    "duration": 69,
    "start_time": "2022-08-30T15:28:48.578Z"
   },
   {
    "duration": 10963,
    "start_time": "2022-08-30T15:28:48.649Z"
   },
   {
    "duration": 410,
    "start_time": "2022-08-30T15:28:59.613Z"
   },
   {
    "duration": 287,
    "start_time": "2022-08-30T15:29:00.026Z"
   },
   {
    "duration": 461,
    "start_time": "2022-08-30T15:29:00.315Z"
   },
   {
    "duration": 372,
    "start_time": "2022-08-30T15:29:00.778Z"
   },
   {
    "duration": 149,
    "start_time": "2022-08-30T15:29:01.152Z"
   },
   {
    "duration": 923,
    "start_time": "2022-08-30T15:29:01.303Z"
   },
   {
    "duration": 57,
    "start_time": "2022-08-30T15:29:02.227Z"
   },
   {
    "duration": 10942,
    "start_time": "2022-08-30T15:29:02.286Z"
   },
   {
    "duration": 296,
    "start_time": "2022-08-30T15:29:13.230Z"
   },
   {
    "duration": 494,
    "start_time": "2022-08-30T15:32:49.112Z"
   },
   {
    "duration": 120,
    "start_time": "2022-08-30T15:32:54.787Z"
   },
   {
    "duration": 4,
    "start_time": "2022-08-30T15:41:26.610Z"
   },
   {
    "duration": 192,
    "start_time": "2022-08-30T15:43:25.972Z"
   },
   {
    "duration": 1598,
    "start_time": "2022-08-30T15:43:59.785Z"
   },
   {
    "duration": 6,
    "start_time": "2022-08-30T15:44:01.386Z"
   },
   {
    "duration": 1238,
    "start_time": "2022-08-30T15:44:01.393Z"
   },
   {
    "duration": 7,
    "start_time": "2022-08-30T15:44:02.633Z"
   },
   {
    "duration": 245,
    "start_time": "2022-08-30T15:44:02.642Z"
   },
   {
    "duration": 175,
    "start_time": "2022-08-30T15:44:02.889Z"
   },
   {
    "duration": 1500,
    "start_time": "2022-08-30T15:44:03.066Z"
   },
   {
    "duration": 246,
    "start_time": "2022-08-30T15:44:04.567Z"
   },
   {
    "duration": 68,
    "start_time": "2022-08-30T15:44:04.815Z"
   },
   {
    "duration": 12039,
    "start_time": "2022-08-30T15:44:04.901Z"
   },
   {
    "duration": 457,
    "start_time": "2022-08-30T15:44:16.942Z"
   },
   {
    "duration": 286,
    "start_time": "2022-08-30T15:44:17.402Z"
   },
   {
    "duration": 481,
    "start_time": "2022-08-30T15:44:17.690Z"
   },
   {
    "duration": 522,
    "start_time": "2022-08-30T15:44:18.173Z"
   },
   {
    "duration": 207,
    "start_time": "2022-08-30T15:44:18.697Z"
   },
   {
    "duration": 863,
    "start_time": "2022-08-30T15:44:18.906Z"
   },
   {
    "duration": 77,
    "start_time": "2022-08-30T15:44:19.772Z"
   },
   {
    "duration": 11731,
    "start_time": "2022-08-30T15:44:19.851Z"
   },
   {
    "duration": 332,
    "start_time": "2022-08-30T15:44:31.584Z"
   },
   {
    "duration": 533,
    "start_time": "2022-08-30T15:44:31.918Z"
   },
   {
    "duration": 70,
    "start_time": "2022-08-30T15:44:32.453Z"
   },
   {
    "duration": 6,
    "start_time": "2022-08-30T15:44:32.601Z"
   },
   {
    "duration": 328,
    "start_time": "2022-08-30T15:44:32.611Z"
   },
   {
    "duration": 2119,
    "start_time": "2022-08-30T15:47:15.835Z"
   },
   {
    "duration": 61,
    "start_time": "2022-08-30T15:47:32.859Z"
   },
   {
    "duration": 404,
    "start_time": "2022-08-30T15:48:02.828Z"
   },
   {
    "duration": 1505,
    "start_time": "2022-08-30T15:49:35.237Z"
   },
   {
    "duration": 6,
    "start_time": "2022-08-30T15:49:36.744Z"
   },
   {
    "duration": 986,
    "start_time": "2022-08-30T15:49:36.752Z"
   },
   {
    "duration": 9,
    "start_time": "2022-08-30T15:49:37.741Z"
   },
   {
    "duration": 237,
    "start_time": "2022-08-30T15:49:37.752Z"
   },
   {
    "duration": 161,
    "start_time": "2022-08-30T15:49:37.992Z"
   },
   {
    "duration": 1285,
    "start_time": "2022-08-30T15:49:38.155Z"
   },
   {
    "duration": 210,
    "start_time": "2022-08-30T15:49:39.442Z"
   },
   {
    "duration": 71,
    "start_time": "2022-08-30T15:49:39.654Z"
   },
   {
    "duration": 10912,
    "start_time": "2022-08-30T15:49:39.727Z"
   },
   {
    "duration": 412,
    "start_time": "2022-08-30T15:49:50.641Z"
   },
   {
    "duration": 254,
    "start_time": "2022-08-30T15:49:51.055Z"
   },
   {
    "duration": 498,
    "start_time": "2022-08-30T15:49:51.311Z"
   },
   {
    "duration": 453,
    "start_time": "2022-08-30T15:49:51.811Z"
   },
   {
    "duration": 135,
    "start_time": "2022-08-30T15:49:52.266Z"
   },
   {
    "duration": 846,
    "start_time": "2022-08-30T15:49:52.403Z"
   },
   {
    "duration": 62,
    "start_time": "2022-08-30T15:49:53.251Z"
   },
   {
    "duration": 10824,
    "start_time": "2022-08-30T15:49:53.315Z"
   },
   {
    "duration": 256,
    "start_time": "2022-08-30T15:50:04.141Z"
   },
   {
    "duration": 496,
    "start_time": "2022-08-30T15:50:04.399Z"
   },
   {
    "duration": 109,
    "start_time": "2022-08-30T15:50:04.899Z"
   },
   {
    "duration": 5,
    "start_time": "2022-08-30T15:50:05.009Z"
   },
   {
    "duration": 315,
    "start_time": "2022-08-30T15:50:05.016Z"
   },
   {
    "duration": 2133,
    "start_time": "2022-08-30T15:50:05.332Z"
   },
   {
    "duration": 415,
    "start_time": "2022-08-30T15:50:07.466Z"
   },
   {
    "duration": 106,
    "start_time": "2022-08-30T15:50:07.884Z"
   },
   {
    "duration": 10,
    "start_time": "2022-08-30T15:50:18.524Z"
   },
   {
    "duration": 75,
    "start_time": "2022-08-30T15:50:27.803Z"
   },
   {
    "duration": 60,
    "start_time": "2022-08-30T15:51:33.012Z"
   },
   {
    "duration": 31094,
    "start_time": "2022-08-30T15:56:54.379Z"
   },
   {
    "duration": 260,
    "start_time": "2022-08-30T15:57:32.930Z"
   },
   {
    "duration": 1446,
    "start_time": "2022-08-30T16:02:22.873Z"
   },
   {
    "duration": 173,
    "start_time": "2022-08-30T16:02:31.632Z"
   },
   {
    "duration": 1399,
    "start_time": "2022-08-30T16:04:12.208Z"
   },
   {
    "duration": 5,
    "start_time": "2022-08-30T16:04:13.609Z"
   },
   {
    "duration": 915,
    "start_time": "2022-08-30T16:04:13.615Z"
   },
   {
    "duration": 6,
    "start_time": "2022-08-30T16:04:14.532Z"
   },
   {
    "duration": 213,
    "start_time": "2022-08-30T16:04:14.540Z"
   },
   {
    "duration": 161,
    "start_time": "2022-08-30T16:04:14.755Z"
   },
   {
    "duration": 1174,
    "start_time": "2022-08-30T16:04:14.917Z"
   },
   {
    "duration": 218,
    "start_time": "2022-08-30T16:04:16.092Z"
   },
   {
    "duration": 61,
    "start_time": "2022-08-30T16:04:16.311Z"
   },
   {
    "duration": 10482,
    "start_time": "2022-08-30T16:04:16.373Z"
   },
   {
    "duration": 400,
    "start_time": "2022-08-30T16:04:26.857Z"
   },
   {
    "duration": 258,
    "start_time": "2022-08-30T16:04:27.258Z"
   },
   {
    "duration": 442,
    "start_time": "2022-08-30T16:04:27.518Z"
   },
   {
    "duration": 458,
    "start_time": "2022-08-30T16:04:27.963Z"
   },
   {
    "duration": 86,
    "start_time": "2022-08-30T16:04:28.422Z"
   },
   {
    "duration": 824,
    "start_time": "2022-08-30T16:04:28.510Z"
   },
   {
    "duration": 67,
    "start_time": "2022-08-30T16:04:29.335Z"
   },
   {
    "duration": 10346,
    "start_time": "2022-08-30T16:04:29.404Z"
   },
   {
    "duration": 218,
    "start_time": "2022-08-30T16:04:39.752Z"
   },
   {
    "duration": 486,
    "start_time": "2022-08-30T16:04:39.972Z"
   },
   {
    "duration": 142,
    "start_time": "2022-08-30T16:04:40.460Z"
   },
   {
    "duration": 5,
    "start_time": "2022-08-30T16:04:40.605Z"
   },
   {
    "duration": 218,
    "start_time": "2022-08-30T16:04:40.701Z"
   },
   {
    "duration": 2307,
    "start_time": "2022-08-30T16:04:40.921Z"
   },
   {
    "duration": 76,
    "start_time": "2022-08-30T16:04:43.230Z"
   },
   {
    "duration": 32106,
    "start_time": "2022-08-30T16:04:43.308Z"
   },
   {
    "duration": 292,
    "start_time": "2022-08-30T16:05:15.416Z"
   },
   {
    "duration": 1286,
    "start_time": "2022-08-30T16:05:15.710Z"
   },
   {
    "duration": 107,
    "start_time": "2022-08-30T16:05:17.001Z"
   },
   {
    "duration": 1491,
    "start_time": "2022-08-30T17:00:26.134Z"
   },
   {
    "duration": 6,
    "start_time": "2022-08-30T17:00:27.627Z"
   },
   {
    "duration": 1077,
    "start_time": "2022-08-30T17:00:27.634Z"
   },
   {
    "duration": 9,
    "start_time": "2022-08-30T17:00:28.713Z"
   },
   {
    "duration": 218,
    "start_time": "2022-08-30T17:00:28.723Z"
   },
   {
    "duration": 177,
    "start_time": "2022-08-30T17:00:28.942Z"
   },
   {
    "duration": 1363,
    "start_time": "2022-08-30T17:00:29.121Z"
   },
   {
    "duration": 237,
    "start_time": "2022-08-30T17:00:30.486Z"
   },
   {
    "duration": 99,
    "start_time": "2022-08-30T17:00:30.726Z"
   },
   {
    "duration": 11368,
    "start_time": "2022-08-30T17:00:30.829Z"
   },
   {
    "duration": 462,
    "start_time": "2022-08-30T17:00:42.200Z"
   },
   {
    "duration": 274,
    "start_time": "2022-08-30T17:00:42.664Z"
   },
   {
    "duration": 472,
    "start_time": "2022-08-30T17:00:42.940Z"
   },
   {
    "duration": 458,
    "start_time": "2022-08-30T17:00:43.414Z"
   },
   {
    "duration": 128,
    "start_time": "2022-08-30T17:00:43.874Z"
   },
   {
    "duration": 915,
    "start_time": "2022-08-30T17:00:44.007Z"
   },
   {
    "duration": 63,
    "start_time": "2022-08-30T17:00:44.924Z"
   },
   {
    "duration": 11190,
    "start_time": "2022-08-30T17:00:44.999Z"
   },
   {
    "duration": 256,
    "start_time": "2022-08-30T17:00:56.191Z"
   },
   {
    "duration": 505,
    "start_time": "2022-08-30T17:00:56.449Z"
   },
   {
    "duration": 245,
    "start_time": "2022-08-30T17:00:56.956Z"
   },
   {
    "duration": 4,
    "start_time": "2022-08-30T17:00:57.203Z"
   },
   {
    "duration": 233,
    "start_time": "2022-08-30T17:00:57.209Z"
   },
   {
    "duration": 2191,
    "start_time": "2022-08-30T17:00:57.445Z"
   },
   {
    "duration": 74,
    "start_time": "2022-08-30T17:00:59.638Z"
   },
   {
    "duration": 32565,
    "start_time": "2022-08-30T17:00:59.714Z"
   },
   {
    "duration": 288,
    "start_time": "2022-08-30T17:01:32.281Z"
   },
   {
    "duration": 1343,
    "start_time": "2022-08-30T17:01:32.573Z"
   },
   {
    "duration": 92,
    "start_time": "2022-08-30T17:01:33.918Z"
   },
   {
    "duration": 104,
    "start_time": "2022-08-30T17:03:28.806Z"
   },
   {
    "duration": 1275,
    "start_time": "2022-08-30T17:04:37.710Z"
   },
   {
    "duration": 1253,
    "start_time": "2022-08-30T17:04:53.868Z"
   },
   {
    "duration": 1383,
    "start_time": "2022-08-30T17:05:08.902Z"
   },
   {
    "duration": 1192,
    "start_time": "2022-08-30T17:05:28.334Z"
   },
   {
    "duration": 1289,
    "start_time": "2022-08-30T17:05:54.089Z"
   },
   {
    "duration": 10937,
    "start_time": "2022-08-30T17:09:02.857Z"
   },
   {
    "duration": 744,
    "start_time": "2022-08-30T17:15:43.256Z"
   },
   {
    "duration": 1397,
    "start_time": "2022-08-30T17:30:38.691Z"
   },
   {
    "duration": 6,
    "start_time": "2022-08-30T17:30:40.091Z"
   },
   {
    "duration": 1028,
    "start_time": "2022-08-30T17:30:40.098Z"
   },
   {
    "duration": 7,
    "start_time": "2022-08-30T17:30:41.128Z"
   },
   {
    "duration": 228,
    "start_time": "2022-08-30T17:30:41.138Z"
   },
   {
    "duration": 175,
    "start_time": "2022-08-30T17:30:41.368Z"
   },
   {
    "duration": 1156,
    "start_time": "2022-08-30T17:30:41.545Z"
   },
   {
    "duration": 214,
    "start_time": "2022-08-30T17:30:42.702Z"
   },
   {
    "duration": 61,
    "start_time": "2022-08-30T17:30:42.917Z"
   },
   {
    "duration": 10619,
    "start_time": "2022-08-30T17:30:42.980Z"
   },
   {
    "duration": 408,
    "start_time": "2022-08-30T17:30:53.601Z"
   },
   {
    "duration": 237,
    "start_time": "2022-08-30T17:30:54.011Z"
   },
   {
    "duration": 459,
    "start_time": "2022-08-30T17:30:54.250Z"
   },
   {
    "duration": 481,
    "start_time": "2022-08-30T17:30:54.712Z"
   },
   {
    "duration": 108,
    "start_time": "2022-08-30T17:30:55.195Z"
   },
   {
    "duration": 805,
    "start_time": "2022-08-30T17:30:55.305Z"
   },
   {
    "duration": 53,
    "start_time": "2022-08-30T17:30:56.112Z"
   },
   {
    "duration": 10392,
    "start_time": "2022-08-30T17:30:56.166Z"
   },
   {
    "duration": 230,
    "start_time": "2022-08-30T17:31:06.560Z"
   },
   {
    "duration": 488,
    "start_time": "2022-08-30T17:31:06.791Z"
   },
   {
    "duration": 126,
    "start_time": "2022-08-30T17:31:07.281Z"
   },
   {
    "duration": 92,
    "start_time": "2022-08-30T17:31:07.408Z"
   },
   {
    "duration": 224,
    "start_time": "2022-08-30T17:31:07.502Z"
   },
   {
    "duration": 2142,
    "start_time": "2022-08-30T17:31:07.727Z"
   },
   {
    "duration": 67,
    "start_time": "2022-08-30T17:31:09.871Z"
   },
   {
    "duration": 30591,
    "start_time": "2022-08-30T17:31:09.940Z"
   },
   {
    "duration": 253,
    "start_time": "2022-08-30T17:31:40.532Z"
   },
   {
    "duration": 1283,
    "start_time": "2022-08-30T17:31:40.786Z"
   },
   {
    "duration": 131,
    "start_time": "2022-08-30T17:31:42.070Z"
   },
   {
    "duration": 1328,
    "start_time": "2022-08-30T17:31:42.202Z"
   },
   {
    "duration": 11095,
    "start_time": "2022-08-30T17:31:43.531Z"
   },
   {
    "duration": 778,
    "start_time": "2022-08-30T17:31:54.628Z"
   },
   {
    "duration": 10688,
    "start_time": "2022-08-30T17:49:09.081Z"
   },
   {
    "duration": 109,
    "start_time": "2022-08-30T17:53:17.642Z"
   },
   {
    "duration": 7,
    "start_time": "2022-08-30T17:55:01.057Z"
   },
   {
    "duration": 1441,
    "start_time": "2022-08-30T18:45:53.478Z"
   },
   {
    "duration": 6,
    "start_time": "2022-08-30T18:45:54.921Z"
   },
   {
    "duration": 929,
    "start_time": "2022-08-30T18:45:54.929Z"
   },
   {
    "duration": 7,
    "start_time": "2022-08-30T18:45:55.860Z"
   },
   {
    "duration": 208,
    "start_time": "2022-08-30T18:45:55.869Z"
   },
   {
    "duration": 160,
    "start_time": "2022-08-30T18:45:56.079Z"
   },
   {
    "duration": 1165,
    "start_time": "2022-08-30T18:45:56.241Z"
   },
   {
    "duration": 208,
    "start_time": "2022-08-30T18:45:57.407Z"
   },
   {
    "duration": 59,
    "start_time": "2022-08-30T18:45:57.617Z"
   },
   {
    "duration": 10783,
    "start_time": "2022-08-30T18:45:57.677Z"
   },
   {
    "duration": 417,
    "start_time": "2022-08-30T18:46:08.462Z"
   },
   {
    "duration": 293,
    "start_time": "2022-08-30T18:46:08.881Z"
   },
   {
    "duration": 485,
    "start_time": "2022-08-30T18:46:09.175Z"
   },
   {
    "duration": 481,
    "start_time": "2022-08-30T18:46:09.663Z"
   },
   {
    "duration": 154,
    "start_time": "2022-08-30T18:46:10.146Z"
   },
   {
    "duration": 875,
    "start_time": "2022-08-30T18:46:10.303Z"
   },
   {
    "duration": 63,
    "start_time": "2022-08-30T18:46:11.180Z"
   },
   {
    "duration": 10966,
    "start_time": "2022-08-30T18:46:11.244Z"
   },
   {
    "duration": 230,
    "start_time": "2022-08-30T18:46:22.213Z"
   },
   {
    "duration": 508,
    "start_time": "2022-08-30T18:46:22.445Z"
   },
   {
    "duration": 150,
    "start_time": "2022-08-30T18:46:22.954Z"
   },
   {
    "duration": 5,
    "start_time": "2022-08-30T18:46:23.110Z"
   },
   {
    "duration": 301,
    "start_time": "2022-08-30T18:46:23.119Z"
   },
   {
    "duration": 2191,
    "start_time": "2022-08-30T18:46:23.422Z"
   },
   {
    "duration": 63,
    "start_time": "2022-08-30T18:46:25.615Z"
   },
   {
    "duration": 31492,
    "start_time": "2022-08-30T18:46:25.679Z"
   },
   {
    "duration": 236,
    "start_time": "2022-08-30T18:46:57.172Z"
   },
   {
    "duration": 1260,
    "start_time": "2022-08-30T18:46:57.410Z"
   },
   {
    "duration": 130,
    "start_time": "2022-08-30T18:46:58.672Z"
   },
   {
    "duration": 1355,
    "start_time": "2022-08-30T18:46:58.803Z"
   },
   {
    "duration": 11075,
    "start_time": "2022-08-30T18:47:00.160Z"
   },
   {
    "duration": 772,
    "start_time": "2022-08-30T18:47:11.237Z"
   },
   {
    "duration": 10543,
    "start_time": "2022-08-30T18:47:12.010Z"
   },
   {
    "duration": 118,
    "start_time": "2022-08-30T18:47:22.554Z"
   },
   {
    "duration": 6,
    "start_time": "2022-08-30T18:47:22.673Z"
   },
   {
    "duration": 1757,
    "start_time": "2022-08-30T19:03:54.047Z"
   },
   {
    "duration": 6,
    "start_time": "2022-08-30T19:03:55.806Z"
   },
   {
    "duration": 1017,
    "start_time": "2022-08-30T19:03:55.814Z"
   },
   {
    "duration": 7,
    "start_time": "2022-08-30T19:03:56.833Z"
   },
   {
    "duration": 219,
    "start_time": "2022-08-30T19:03:56.842Z"
   },
   {
    "duration": 161,
    "start_time": "2022-08-30T19:03:57.063Z"
   },
   {
    "duration": 1284,
    "start_time": "2022-08-30T19:03:57.226Z"
   },
   {
    "duration": 224,
    "start_time": "2022-08-30T19:03:58.512Z"
   },
   {
    "duration": 79,
    "start_time": "2022-08-30T19:03:58.738Z"
   },
   {
    "duration": 12383,
    "start_time": "2022-08-30T19:03:58.820Z"
   },
   {
    "duration": 398,
    "start_time": "2022-08-30T19:04:11.205Z"
   },
   {
    "duration": 268,
    "start_time": "2022-08-30T19:04:11.604Z"
   },
   {
    "duration": 458,
    "start_time": "2022-08-30T19:04:11.874Z"
   },
   {
    "duration": 483,
    "start_time": "2022-08-30T19:04:12.334Z"
   },
   {
    "duration": 168,
    "start_time": "2022-08-30T19:04:12.818Z"
   },
   {
    "duration": 844,
    "start_time": "2022-08-30T19:04:12.987Z"
   },
   {
    "duration": 65,
    "start_time": "2022-08-30T19:04:13.833Z"
   },
   {
    "duration": 9703,
    "start_time": "2022-08-30T19:04:13.900Z"
   },
   {
    "duration": 238,
    "start_time": "2022-08-30T19:04:23.605Z"
   },
   {
    "duration": 494,
    "start_time": "2022-08-30T19:04:23.845Z"
   },
   {
    "duration": 145,
    "start_time": "2022-08-30T19:04:24.341Z"
   },
   {
    "duration": 11,
    "start_time": "2022-08-30T19:04:24.487Z"
   },
   {
    "duration": 311,
    "start_time": "2022-08-30T19:04:24.500Z"
   },
   {
    "duration": 2043,
    "start_time": "2022-08-30T19:04:24.813Z"
   },
   {
    "duration": 67,
    "start_time": "2022-08-30T19:04:26.858Z"
   },
   {
    "duration": 28567,
    "start_time": "2022-08-30T19:04:26.927Z"
   },
   {
    "duration": 263,
    "start_time": "2022-08-30T19:04:55.496Z"
   },
   {
    "duration": 1267,
    "start_time": "2022-08-30T19:04:55.762Z"
   },
   {
    "duration": 156,
    "start_time": "2022-08-30T19:04:57.031Z"
   },
   {
    "duration": 1466,
    "start_time": "2022-08-30T19:04:57.191Z"
   },
   {
    "duration": 10497,
    "start_time": "2022-08-30T19:04:58.659Z"
   },
   {
    "duration": 796,
    "start_time": "2022-08-30T19:05:09.158Z"
   },
   {
    "duration": 10266,
    "start_time": "2022-08-30T19:05:09.956Z"
   },
   {
    "duration": 291,
    "start_time": "2022-08-30T19:05:20.224Z"
   },
   {
    "duration": 7,
    "start_time": "2022-08-30T19:05:20.517Z"
   },
   {
    "duration": 2239,
    "start_time": "2022-08-30T19:15:43.580Z"
   },
   {
    "duration": 0,
    "start_time": "2022-08-31T07:12:31.176Z"
   },
   {
    "duration": 0,
    "start_time": "2022-08-31T07:12:31.177Z"
   },
   {
    "duration": 0,
    "start_time": "2022-08-31T07:12:31.178Z"
   },
   {
    "duration": 0,
    "start_time": "2022-08-31T07:12:31.179Z"
   },
   {
    "duration": 0,
    "start_time": "2022-08-31T07:12:31.180Z"
   },
   {
    "duration": 0,
    "start_time": "2022-08-31T07:12:31.181Z"
   },
   {
    "duration": 0,
    "start_time": "2022-08-31T07:12:31.182Z"
   },
   {
    "duration": 0,
    "start_time": "2022-08-31T07:12:31.183Z"
   },
   {
    "duration": 0,
    "start_time": "2022-08-31T07:12:31.184Z"
   },
   {
    "duration": 0,
    "start_time": "2022-08-31T07:12:31.185Z"
   },
   {
    "duration": 0,
    "start_time": "2022-08-31T07:12:31.186Z"
   },
   {
    "duration": 0,
    "start_time": "2022-08-31T07:12:31.187Z"
   },
   {
    "duration": 0,
    "start_time": "2022-08-31T07:12:31.188Z"
   },
   {
    "duration": 0,
    "start_time": "2022-08-31T07:12:31.189Z"
   },
   {
    "duration": 0,
    "start_time": "2022-08-31T07:12:31.190Z"
   },
   {
    "duration": 0,
    "start_time": "2022-08-31T07:12:31.191Z"
   },
   {
    "duration": 0,
    "start_time": "2022-08-31T07:12:31.194Z"
   },
   {
    "duration": 1,
    "start_time": "2022-08-31T07:12:31.194Z"
   },
   {
    "duration": 0,
    "start_time": "2022-08-31T07:12:31.195Z"
   },
   {
    "duration": 0,
    "start_time": "2022-08-31T07:12:31.197Z"
   },
   {
    "duration": 0,
    "start_time": "2022-08-31T07:12:31.198Z"
   },
   {
    "duration": 0,
    "start_time": "2022-08-31T07:12:31.199Z"
   },
   {
    "duration": 0,
    "start_time": "2022-08-31T07:12:31.200Z"
   },
   {
    "duration": 0,
    "start_time": "2022-08-31T07:12:31.201Z"
   },
   {
    "duration": 0,
    "start_time": "2022-08-31T07:12:31.202Z"
   },
   {
    "duration": 0,
    "start_time": "2022-08-31T07:12:31.203Z"
   },
   {
    "duration": 0,
    "start_time": "2022-08-31T07:12:31.204Z"
   },
   {
    "duration": 0,
    "start_time": "2022-08-31T07:12:31.205Z"
   },
   {
    "duration": 0,
    "start_time": "2022-08-31T07:12:31.268Z"
   },
   {
    "duration": 0,
    "start_time": "2022-08-31T07:12:31.269Z"
   },
   {
    "duration": 1,
    "start_time": "2022-08-31T07:12:31.270Z"
   },
   {
    "duration": 0,
    "start_time": "2022-08-31T07:12:31.272Z"
   },
   {
    "duration": 0,
    "start_time": "2022-08-31T07:12:31.273Z"
   },
   {
    "duration": 0,
    "start_time": "2022-08-31T07:12:31.274Z"
   },
   {
    "duration": 0,
    "start_time": "2022-08-31T07:12:31.275Z"
   },
   {
    "duration": 1372,
    "start_time": "2022-08-31T07:12:49.473Z"
   },
   {
    "duration": 5,
    "start_time": "2022-08-31T07:12:50.847Z"
   },
   {
    "duration": 979,
    "start_time": "2022-08-31T07:12:50.854Z"
   },
   {
    "duration": 8,
    "start_time": "2022-08-31T07:12:51.835Z"
   },
   {
    "duration": 203,
    "start_time": "2022-08-31T07:12:51.845Z"
   },
   {
    "duration": 235,
    "start_time": "2022-08-31T07:12:52.050Z"
   },
   {
    "duration": 0,
    "start_time": "2022-08-31T07:12:52.287Z"
   },
   {
    "duration": 0,
    "start_time": "2022-08-31T07:12:52.288Z"
   },
   {
    "duration": 0,
    "start_time": "2022-08-31T07:12:52.289Z"
   },
   {
    "duration": 0,
    "start_time": "2022-08-31T07:12:52.290Z"
   },
   {
    "duration": 0,
    "start_time": "2022-08-31T07:12:52.291Z"
   },
   {
    "duration": 0,
    "start_time": "2022-08-31T07:12:52.292Z"
   },
   {
    "duration": 0,
    "start_time": "2022-08-31T07:12:52.293Z"
   },
   {
    "duration": 0,
    "start_time": "2022-08-31T07:12:52.294Z"
   },
   {
    "duration": 0,
    "start_time": "2022-08-31T07:12:52.295Z"
   },
   {
    "duration": 0,
    "start_time": "2022-08-31T07:12:52.296Z"
   },
   {
    "duration": 0,
    "start_time": "2022-08-31T07:12:52.297Z"
   },
   {
    "duration": 0,
    "start_time": "2022-08-31T07:12:52.298Z"
   },
   {
    "duration": 0,
    "start_time": "2022-08-31T07:12:52.298Z"
   },
   {
    "duration": 0,
    "start_time": "2022-08-31T07:12:52.300Z"
   },
   {
    "duration": 0,
    "start_time": "2022-08-31T07:12:52.301Z"
   },
   {
    "duration": 0,
    "start_time": "2022-08-31T07:12:52.302Z"
   },
   {
    "duration": 0,
    "start_time": "2022-08-31T07:12:52.303Z"
   },
   {
    "duration": 1,
    "start_time": "2022-08-31T07:12:52.303Z"
   },
   {
    "duration": 0,
    "start_time": "2022-08-31T07:12:52.304Z"
   },
   {
    "duration": 0,
    "start_time": "2022-08-31T07:12:52.306Z"
   },
   {
    "duration": 0,
    "start_time": "2022-08-31T07:12:52.307Z"
   },
   {
    "duration": 0,
    "start_time": "2022-08-31T07:12:52.308Z"
   },
   {
    "duration": 0,
    "start_time": "2022-08-31T07:12:52.309Z"
   },
   {
    "duration": 0,
    "start_time": "2022-08-31T07:12:52.310Z"
   },
   {
    "duration": 0,
    "start_time": "2022-08-31T07:12:52.311Z"
   },
   {
    "duration": 0,
    "start_time": "2022-08-31T07:12:52.312Z"
   },
   {
    "duration": 0,
    "start_time": "2022-08-31T07:12:52.313Z"
   },
   {
    "duration": 0,
    "start_time": "2022-08-31T07:12:52.313Z"
   },
   {
    "duration": 0,
    "start_time": "2022-08-31T07:12:52.314Z"
   },
   {
    "duration": 1517,
    "start_time": "2022-08-31T07:14:10.015Z"
   },
   {
    "duration": 9,
    "start_time": "2022-08-31T07:14:11.535Z"
   },
   {
    "duration": 1055,
    "start_time": "2022-08-31T07:14:11.546Z"
   },
   {
    "duration": 10,
    "start_time": "2022-08-31T07:14:12.605Z"
   },
   {
    "duration": 216,
    "start_time": "2022-08-31T07:14:12.618Z"
   },
   {
    "duration": 267,
    "start_time": "2022-08-31T07:14:12.836Z"
   },
   {
    "duration": 0,
    "start_time": "2022-08-31T07:14:13.106Z"
   },
   {
    "duration": 0,
    "start_time": "2022-08-31T07:14:13.108Z"
   },
   {
    "duration": 0,
    "start_time": "2022-08-31T07:14:13.110Z"
   },
   {
    "duration": 0,
    "start_time": "2022-08-31T07:14:13.111Z"
   },
   {
    "duration": 0,
    "start_time": "2022-08-31T07:14:13.113Z"
   },
   {
    "duration": 0,
    "start_time": "2022-08-31T07:14:13.114Z"
   },
   {
    "duration": 0,
    "start_time": "2022-08-31T07:14:13.116Z"
   },
   {
    "duration": 0,
    "start_time": "2022-08-31T07:14:13.117Z"
   },
   {
    "duration": 0,
    "start_time": "2022-08-31T07:14:13.118Z"
   },
   {
    "duration": 0,
    "start_time": "2022-08-31T07:14:13.120Z"
   },
   {
    "duration": 0,
    "start_time": "2022-08-31T07:14:13.121Z"
   },
   {
    "duration": 0,
    "start_time": "2022-08-31T07:14:13.122Z"
   },
   {
    "duration": 0,
    "start_time": "2022-08-31T07:14:13.124Z"
   },
   {
    "duration": 0,
    "start_time": "2022-08-31T07:14:13.126Z"
   },
   {
    "duration": 0,
    "start_time": "2022-08-31T07:14:13.127Z"
   },
   {
    "duration": 0,
    "start_time": "2022-08-31T07:14:13.128Z"
   },
   {
    "duration": 0,
    "start_time": "2022-08-31T07:14:13.129Z"
   },
   {
    "duration": 0,
    "start_time": "2022-08-31T07:14:13.131Z"
   },
   {
    "duration": 0,
    "start_time": "2022-08-31T07:14:13.132Z"
   },
   {
    "duration": 0,
    "start_time": "2022-08-31T07:14:13.133Z"
   },
   {
    "duration": 0,
    "start_time": "2022-08-31T07:14:13.168Z"
   },
   {
    "duration": 0,
    "start_time": "2022-08-31T07:14:13.170Z"
   },
   {
    "duration": 0,
    "start_time": "2022-08-31T07:14:13.172Z"
   },
   {
    "duration": 0,
    "start_time": "2022-08-31T07:14:13.174Z"
   },
   {
    "duration": 0,
    "start_time": "2022-08-31T07:14:13.175Z"
   },
   {
    "duration": 0,
    "start_time": "2022-08-31T07:14:13.177Z"
   },
   {
    "duration": 0,
    "start_time": "2022-08-31T07:14:13.179Z"
   },
   {
    "duration": 0,
    "start_time": "2022-08-31T07:14:13.180Z"
   },
   {
    "duration": 0,
    "start_time": "2022-08-31T07:14:13.182Z"
   },
   {
    "duration": 1330,
    "start_time": "2022-08-31T07:15:23.512Z"
   },
   {
    "duration": 6,
    "start_time": "2022-08-31T07:15:24.844Z"
   },
   {
    "duration": 922,
    "start_time": "2022-08-31T07:15:24.851Z"
   },
   {
    "duration": 6,
    "start_time": "2022-08-31T07:15:25.776Z"
   },
   {
    "duration": 210,
    "start_time": "2022-08-31T07:15:25.784Z"
   },
   {
    "duration": 1140,
    "start_time": "2022-08-31T07:15:25.995Z"
   },
   {
    "duration": 0,
    "start_time": "2022-08-31T07:15:27.137Z"
   },
   {
    "duration": 0,
    "start_time": "2022-08-31T07:15:27.138Z"
   },
   {
    "duration": 0,
    "start_time": "2022-08-31T07:15:27.139Z"
   },
   {
    "duration": 0,
    "start_time": "2022-08-31T07:15:27.140Z"
   },
   {
    "duration": 0,
    "start_time": "2022-08-31T07:15:27.141Z"
   },
   {
    "duration": 0,
    "start_time": "2022-08-31T07:15:27.142Z"
   },
   {
    "duration": 0,
    "start_time": "2022-08-31T07:15:27.143Z"
   },
   {
    "duration": 0,
    "start_time": "2022-08-31T07:15:27.144Z"
   },
   {
    "duration": 0,
    "start_time": "2022-08-31T07:15:27.145Z"
   },
   {
    "duration": 0,
    "start_time": "2022-08-31T07:15:27.146Z"
   },
   {
    "duration": 0,
    "start_time": "2022-08-31T07:15:27.147Z"
   },
   {
    "duration": 1,
    "start_time": "2022-08-31T07:15:27.147Z"
   },
   {
    "duration": 0,
    "start_time": "2022-08-31T07:15:27.148Z"
   },
   {
    "duration": 1,
    "start_time": "2022-08-31T07:15:27.149Z"
   },
   {
    "duration": 0,
    "start_time": "2022-08-31T07:15:27.150Z"
   },
   {
    "duration": 0,
    "start_time": "2022-08-31T07:15:27.151Z"
   },
   {
    "duration": 0,
    "start_time": "2022-08-31T07:15:27.152Z"
   },
   {
    "duration": 0,
    "start_time": "2022-08-31T07:15:27.153Z"
   },
   {
    "duration": 1,
    "start_time": "2022-08-31T07:15:27.153Z"
   },
   {
    "duration": 0,
    "start_time": "2022-08-31T07:15:27.154Z"
   },
   {
    "duration": 0,
    "start_time": "2022-08-31T07:15:27.155Z"
   },
   {
    "duration": 0,
    "start_time": "2022-08-31T07:15:27.156Z"
   },
   {
    "duration": 0,
    "start_time": "2022-08-31T07:15:27.157Z"
   },
   {
    "duration": 0,
    "start_time": "2022-08-31T07:15:27.158Z"
   },
   {
    "duration": 0,
    "start_time": "2022-08-31T07:15:27.159Z"
   },
   {
    "duration": 0,
    "start_time": "2022-08-31T07:15:27.160Z"
   },
   {
    "duration": 0,
    "start_time": "2022-08-31T07:15:27.161Z"
   },
   {
    "duration": 0,
    "start_time": "2022-08-31T07:15:27.161Z"
   },
   {
    "duration": 0,
    "start_time": "2022-08-31T07:15:27.162Z"
   },
   {
    "duration": 134,
    "start_time": "2022-08-31T07:15:41.384Z"
   },
   {
    "duration": 1463,
    "start_time": "2022-08-31T07:15:48.887Z"
   },
   {
    "duration": 5,
    "start_time": "2022-08-31T07:15:50.352Z"
   },
   {
    "duration": 966,
    "start_time": "2022-08-31T07:15:50.359Z"
   },
   {
    "duration": 7,
    "start_time": "2022-08-31T07:15:51.328Z"
   },
   {
    "duration": 219,
    "start_time": "2022-08-31T07:15:51.336Z"
   },
   {
    "duration": 175,
    "start_time": "2022-08-31T07:15:51.557Z"
   },
   {
    "duration": 686,
    "start_time": "2022-08-31T07:15:51.733Z"
   },
   {
    "duration": 190,
    "start_time": "2022-08-31T07:15:52.420Z"
   },
   {
    "duration": 58,
    "start_time": "2022-08-31T07:15:52.611Z"
   },
   {
    "duration": 6747,
    "start_time": "2022-08-31T07:15:52.672Z"
   },
   {
    "duration": 314,
    "start_time": "2022-08-31T07:15:59.421Z"
   },
   {
    "duration": 164,
    "start_time": "2022-08-31T07:15:59.737Z"
   },
   {
    "duration": 374,
    "start_time": "2022-08-31T07:15:59.902Z"
   },
   {
    "duration": 415,
    "start_time": "2022-08-31T07:16:00.278Z"
   },
   {
    "duration": 77,
    "start_time": "2022-08-31T07:16:00.695Z"
   },
   {
    "duration": 615,
    "start_time": "2022-08-31T07:16:00.774Z"
   },
   {
    "duration": 48,
    "start_time": "2022-08-31T07:16:01.390Z"
   },
   {
    "duration": 6684,
    "start_time": "2022-08-31T07:16:01.440Z"
   },
   {
    "duration": 167,
    "start_time": "2022-08-31T07:16:08.125Z"
   },
   {
    "duration": 366,
    "start_time": "2022-08-31T07:16:08.293Z"
   },
   {
    "duration": 112,
    "start_time": "2022-08-31T07:16:08.661Z"
   },
   {
    "duration": 94,
    "start_time": "2022-08-31T07:16:08.775Z"
   },
   {
    "duration": 167,
    "start_time": "2022-08-31T07:16:08.870Z"
   },
   {
    "duration": 1230,
    "start_time": "2022-08-31T07:16:09.039Z"
   },
   {
    "duration": 52,
    "start_time": "2022-08-31T07:16:10.270Z"
   },
   {
    "duration": 19669,
    "start_time": "2022-08-31T07:16:10.324Z"
   },
   {
    "duration": 198,
    "start_time": "2022-08-31T07:16:29.995Z"
   },
   {
    "duration": 983,
    "start_time": "2022-08-31T07:16:30.196Z"
   },
   {
    "duration": 189,
    "start_time": "2022-08-31T07:16:31.180Z"
   },
   {
    "duration": 926,
    "start_time": "2022-08-31T07:16:31.371Z"
   },
   {
    "duration": 6917,
    "start_time": "2022-08-31T07:16:32.298Z"
   },
   {
    "duration": 624,
    "start_time": "2022-08-31T07:16:39.217Z"
   },
   {
    "duration": 6889,
    "start_time": "2022-08-31T07:16:39.842Z"
   },
   {
    "duration": 119,
    "start_time": "2022-08-31T07:16:46.733Z"
   },
   {
    "duration": 13,
    "start_time": "2022-08-31T07:16:46.854Z"
   },
   {
    "duration": 1393,
    "start_time": "2022-08-31T07:23:31.029Z"
   },
   {
    "duration": 6,
    "start_time": "2022-08-31T07:23:32.424Z"
   },
   {
    "duration": 982,
    "start_time": "2022-08-31T07:23:32.431Z"
   },
   {
    "duration": 7,
    "start_time": "2022-08-31T07:23:33.414Z"
   },
   {
    "duration": 224,
    "start_time": "2022-08-31T07:23:33.423Z"
   },
   {
    "duration": 177,
    "start_time": "2022-08-31T07:23:33.649Z"
   },
   {
    "duration": 738,
    "start_time": "2022-08-31T07:23:33.827Z"
   },
   {
    "duration": 202,
    "start_time": "2022-08-31T07:23:34.568Z"
   },
   {
    "duration": 104,
    "start_time": "2022-08-31T07:23:34.772Z"
   },
   {
    "duration": 0,
    "start_time": "2022-08-31T07:23:34.879Z"
   },
   {
    "duration": 0,
    "start_time": "2022-08-31T07:23:34.880Z"
   },
   {
    "duration": 0,
    "start_time": "2022-08-31T07:23:34.882Z"
   },
   {
    "duration": 0,
    "start_time": "2022-08-31T07:23:34.883Z"
   },
   {
    "duration": 0,
    "start_time": "2022-08-31T07:23:34.885Z"
   },
   {
    "duration": 0,
    "start_time": "2022-08-31T07:23:34.886Z"
   },
   {
    "duration": 0,
    "start_time": "2022-08-31T07:23:34.888Z"
   },
   {
    "duration": 0,
    "start_time": "2022-08-31T07:23:34.889Z"
   },
   {
    "duration": 0,
    "start_time": "2022-08-31T07:23:34.891Z"
   },
   {
    "duration": 0,
    "start_time": "2022-08-31T07:23:34.892Z"
   },
   {
    "duration": 0,
    "start_time": "2022-08-31T07:23:34.894Z"
   },
   {
    "duration": 0,
    "start_time": "2022-08-31T07:23:34.895Z"
   },
   {
    "duration": 1,
    "start_time": "2022-08-31T07:23:34.896Z"
   },
   {
    "duration": 0,
    "start_time": "2022-08-31T07:23:34.898Z"
   },
   {
    "duration": 1,
    "start_time": "2022-08-31T07:23:34.899Z"
   },
   {
    "duration": 0,
    "start_time": "2022-08-31T07:23:34.901Z"
   },
   {
    "duration": 0,
    "start_time": "2022-08-31T07:23:34.902Z"
   },
   {
    "duration": 0,
    "start_time": "2022-08-31T07:23:34.903Z"
   },
   {
    "duration": 0,
    "start_time": "2022-08-31T07:23:34.905Z"
   },
   {
    "duration": 0,
    "start_time": "2022-08-31T07:23:34.906Z"
   },
   {
    "duration": 0,
    "start_time": "2022-08-31T07:23:34.907Z"
   },
   {
    "duration": 0,
    "start_time": "2022-08-31T07:23:34.909Z"
   },
   {
    "duration": 0,
    "start_time": "2022-08-31T07:23:34.909Z"
   },
   {
    "duration": 0,
    "start_time": "2022-08-31T07:23:34.910Z"
   },
   {
    "duration": 0,
    "start_time": "2022-08-31T07:23:34.911Z"
   },
   {
    "duration": 0,
    "start_time": "2022-08-31T07:23:34.913Z"
   },
   {
    "duration": 83,
    "start_time": "2022-08-31T07:26:15.864Z"
   },
   {
    "duration": 1445,
    "start_time": "2022-08-31T07:26:57.153Z"
   },
   {
    "duration": 6,
    "start_time": "2022-08-31T07:26:58.600Z"
   },
   {
    "duration": 966,
    "start_time": "2022-08-31T07:26:58.607Z"
   },
   {
    "duration": 7,
    "start_time": "2022-08-31T07:26:59.575Z"
   },
   {
    "duration": 219,
    "start_time": "2022-08-31T07:26:59.583Z"
   },
   {
    "duration": 176,
    "start_time": "2022-08-31T07:26:59.804Z"
   },
   {
    "duration": 812,
    "start_time": "2022-08-31T07:26:59.981Z"
   },
   {
    "duration": 215,
    "start_time": "2022-08-31T07:27:00.794Z"
   },
   {
    "duration": 96,
    "start_time": "2022-08-31T07:27:01.011Z"
   },
   {
    "duration": 7025,
    "start_time": "2022-08-31T07:27:01.110Z"
   },
   {
    "duration": 332,
    "start_time": "2022-08-31T07:27:08.136Z"
   },
   {
    "duration": 331,
    "start_time": "2022-08-31T07:27:08.470Z"
   },
   {
    "duration": 371,
    "start_time": "2022-08-31T07:27:08.803Z"
   },
   {
    "duration": 429,
    "start_time": "2022-08-31T07:27:09.175Z"
   },
   {
    "duration": 190,
    "start_time": "2022-08-31T07:27:09.606Z"
   },
   {
    "duration": 657,
    "start_time": "2022-08-31T07:27:09.869Z"
   },
   {
    "duration": 61,
    "start_time": "2022-08-31T07:27:10.527Z"
   },
   {
    "duration": 7206,
    "start_time": "2022-08-31T07:27:10.589Z"
   },
   {
    "duration": 169,
    "start_time": "2022-08-31T07:27:17.797Z"
   },
   {
    "duration": 384,
    "start_time": "2022-08-31T07:27:17.968Z"
   },
   {
    "duration": 116,
    "start_time": "2022-08-31T07:27:18.353Z"
   },
   {
    "duration": 5,
    "start_time": "2022-08-31T07:27:18.471Z"
   },
   {
    "duration": 270,
    "start_time": "2022-08-31T07:27:18.477Z"
   },
   {
    "duration": 1276,
    "start_time": "2022-08-31T07:27:18.749Z"
   },
   {
    "duration": 67,
    "start_time": "2022-08-31T07:27:20.028Z"
   },
   {
    "duration": 19881,
    "start_time": "2022-08-31T07:27:20.097Z"
   },
   {
    "duration": 172,
    "start_time": "2022-08-31T07:27:39.979Z"
   },
   {
    "duration": 980,
    "start_time": "2022-08-31T07:27:40.154Z"
   },
   {
    "duration": 132,
    "start_time": "2022-08-31T07:27:41.135Z"
   },
   {
    "duration": 978,
    "start_time": "2022-08-31T07:27:41.269Z"
   },
   {
    "duration": 6918,
    "start_time": "2022-08-31T07:27:42.249Z"
   },
   {
    "duration": 666,
    "start_time": "2022-08-31T07:27:49.169Z"
   },
   {
    "duration": 6969,
    "start_time": "2022-08-31T07:27:49.837Z"
   },
   {
    "duration": 119,
    "start_time": "2022-08-31T07:27:56.808Z"
   },
   {
    "duration": 5,
    "start_time": "2022-08-31T07:27:56.928Z"
   },
   {
    "duration": 1484,
    "start_time": "2022-08-31T07:42:14.472Z"
   },
   {
    "duration": 5,
    "start_time": "2022-08-31T07:42:15.958Z"
   },
   {
    "duration": 1061,
    "start_time": "2022-08-31T07:42:15.964Z"
   },
   {
    "duration": 9,
    "start_time": "2022-08-31T07:42:17.028Z"
   },
   {
    "duration": 210,
    "start_time": "2022-08-31T07:42:17.039Z"
   },
   {
    "duration": 174,
    "start_time": "2022-08-31T07:42:17.251Z"
   },
   {
    "duration": 740,
    "start_time": "2022-08-31T07:42:17.426Z"
   },
   {
    "duration": 214,
    "start_time": "2022-08-31T07:42:18.168Z"
   },
   {
    "duration": 98,
    "start_time": "2022-08-31T07:42:18.384Z"
   },
   {
    "duration": 6806,
    "start_time": "2022-08-31T07:42:18.485Z"
   },
   {
    "duration": 303,
    "start_time": "2022-08-31T07:42:25.293Z"
   },
   {
    "duration": 320,
    "start_time": "2022-08-31T07:42:25.598Z"
   },
   {
    "duration": 371,
    "start_time": "2022-08-31T07:42:25.919Z"
   },
   {
    "duration": 467,
    "start_time": "2022-08-31T07:42:26.291Z"
   },
   {
    "duration": 309,
    "start_time": "2022-08-31T07:42:26.759Z"
   },
   {
    "duration": 641,
    "start_time": "2022-08-31T07:42:27.070Z"
   },
   {
    "duration": 99,
    "start_time": "2022-08-31T07:42:27.713Z"
   },
   {
    "duration": 7095,
    "start_time": "2022-08-31T07:42:27.814Z"
   },
   {
    "duration": 308,
    "start_time": "2022-08-31T07:42:34.910Z"
   },
   {
    "duration": 373,
    "start_time": "2022-08-31T07:42:35.220Z"
   },
   {
    "duration": 275,
    "start_time": "2022-08-31T07:42:35.594Z"
   },
   {
    "duration": 5,
    "start_time": "2022-08-31T07:42:35.870Z"
   },
   {
    "duration": 272,
    "start_time": "2022-08-31T07:42:35.877Z"
   },
   {
    "duration": 1312,
    "start_time": "2022-08-31T07:42:36.152Z"
   },
   {
    "duration": 89,
    "start_time": "2022-08-31T07:42:37.466Z"
   },
   {
    "duration": 19968,
    "start_time": "2022-08-31T07:42:37.557Z"
   },
   {
    "duration": 362,
    "start_time": "2022-08-31T07:42:57.527Z"
   },
   {
    "duration": 988,
    "start_time": "2022-08-31T07:42:57.892Z"
   },
   {
    "duration": 294,
    "start_time": "2022-08-31T07:42:58.882Z"
   },
   {
    "duration": 1036,
    "start_time": "2022-08-31T07:42:59.178Z"
   },
   {
    "duration": 7283,
    "start_time": "2022-08-31T07:43:00.216Z"
   },
   {
    "duration": 652,
    "start_time": "2022-08-31T07:43:07.500Z"
   },
   {
    "duration": 6868,
    "start_time": "2022-08-31T07:43:08.154Z"
   },
   {
    "duration": 128,
    "start_time": "2022-08-31T07:43:15.024Z"
   },
   {
    "duration": 13,
    "start_time": "2022-08-31T07:43:15.155Z"
   },
   {
    "duration": 1417,
    "start_time": "2022-08-31T07:57:39.342Z"
   },
   {
    "duration": 5,
    "start_time": "2022-08-31T07:57:40.760Z"
   },
   {
    "duration": 945,
    "start_time": "2022-08-31T07:57:40.767Z"
   },
   {
    "duration": 8,
    "start_time": "2022-08-31T07:57:41.716Z"
   },
   {
    "duration": 219,
    "start_time": "2022-08-31T07:57:41.725Z"
   },
   {
    "duration": 175,
    "start_time": "2022-08-31T07:57:41.946Z"
   },
   {
    "duration": 762,
    "start_time": "2022-08-31T07:57:42.123Z"
   },
   {
    "duration": 205,
    "start_time": "2022-08-31T07:57:42.886Z"
   },
   {
    "duration": 94,
    "start_time": "2022-08-31T07:57:43.093Z"
   },
   {
    "duration": 6900,
    "start_time": "2022-08-31T07:57:43.190Z"
   },
   {
    "duration": 312,
    "start_time": "2022-08-31T07:57:50.091Z"
   },
   {
    "duration": 328,
    "start_time": "2022-08-31T07:57:50.405Z"
   },
   {
    "duration": 378,
    "start_time": "2022-08-31T07:57:50.734Z"
   },
   {
    "duration": 475,
    "start_time": "2022-08-31T07:57:51.114Z"
   },
   {
    "duration": 206,
    "start_time": "2022-08-31T07:57:51.591Z"
   },
   {
    "duration": 188,
    "start_time": "2022-08-31T07:57:51.799Z"
   },
   {
    "duration": 3,
    "start_time": "2022-08-31T07:57:51.989Z"
   },
   {
    "duration": 492,
    "start_time": "2022-08-31T07:57:51.994Z"
   },
   {
    "duration": 96,
    "start_time": "2022-08-31T07:57:52.488Z"
   },
   {
    "duration": 6824,
    "start_time": "2022-08-31T07:57:52.586Z"
   },
   {
    "duration": 335,
    "start_time": "2022-08-31T07:57:59.412Z"
   },
   {
    "duration": 391,
    "start_time": "2022-08-31T07:57:59.748Z"
   },
   {
    "duration": 241,
    "start_time": "2022-08-31T07:58:00.141Z"
   },
   {
    "duration": 84,
    "start_time": "2022-08-31T07:58:00.385Z"
   },
   {
    "duration": 266,
    "start_time": "2022-08-31T07:58:00.471Z"
   },
   {
    "duration": 1418,
    "start_time": "2022-08-31T07:58:00.739Z"
   },
   {
    "duration": 95,
    "start_time": "2022-08-31T07:58:02.159Z"
   },
   {
    "duration": 20244,
    "start_time": "2022-08-31T07:58:02.256Z"
   },
   {
    "duration": 344,
    "start_time": "2022-08-31T07:58:22.502Z"
   },
   {
    "duration": 999,
    "start_time": "2022-08-31T07:58:22.849Z"
   },
   {
    "duration": 243,
    "start_time": "2022-08-31T07:58:23.850Z"
   },
   {
    "duration": 1058,
    "start_time": "2022-08-31T07:58:24.094Z"
   },
   {
    "duration": 7860,
    "start_time": "2022-08-31T07:58:25.153Z"
   },
   {
    "duration": 659,
    "start_time": "2022-08-31T07:58:33.014Z"
   },
   {
    "duration": 7082,
    "start_time": "2022-08-31T07:58:33.675Z"
   },
   {
    "duration": 117,
    "start_time": "2022-08-31T07:58:40.759Z"
   },
   {
    "duration": 6,
    "start_time": "2022-08-31T07:58:40.877Z"
   },
   {
    "duration": 33539,
    "start_time": "2022-08-31T08:03:33.717Z"
   },
   {
    "duration": 12,
    "start_time": "2022-08-31T08:04:35.871Z"
   },
   {
    "duration": 121,
    "start_time": "2022-08-31T08:04:47.307Z"
   },
   {
    "duration": 8,
    "start_time": "2022-08-31T08:05:11.541Z"
   },
   {
    "duration": 162,
    "start_time": "2022-08-31T08:05:20.875Z"
   },
   {
    "duration": 207,
    "start_time": "2022-08-31T08:05:50.171Z"
   },
   {
    "duration": 195,
    "start_time": "2022-08-31T08:06:02.911Z"
   },
   {
    "duration": 4,
    "start_time": "2022-08-31T08:07:53.083Z"
   },
   {
    "duration": 1462,
    "start_time": "2022-08-31T08:08:56.530Z"
   },
   {
    "duration": 6,
    "start_time": "2022-08-31T08:08:57.993Z"
   },
   {
    "duration": 957,
    "start_time": "2022-08-31T08:08:58.000Z"
   },
   {
    "duration": 8,
    "start_time": "2022-08-31T08:08:58.959Z"
   },
   {
    "duration": 209,
    "start_time": "2022-08-31T08:08:58.970Z"
   },
   {
    "duration": 168,
    "start_time": "2022-08-31T08:08:59.180Z"
   },
   {
    "duration": 704,
    "start_time": "2022-08-31T08:08:59.350Z"
   },
   {
    "duration": 204,
    "start_time": "2022-08-31T08:09:00.056Z"
   },
   {
    "duration": 89,
    "start_time": "2022-08-31T08:09:00.262Z"
   },
   {
    "duration": 6839,
    "start_time": "2022-08-31T08:09:00.352Z"
   },
   {
    "duration": 308,
    "start_time": "2022-08-31T08:09:07.193Z"
   },
   {
    "duration": 306,
    "start_time": "2022-08-31T08:09:07.503Z"
   },
   {
    "duration": 369,
    "start_time": "2022-08-31T08:09:07.811Z"
   },
   {
    "duration": 387,
    "start_time": "2022-08-31T08:09:08.183Z"
   },
   {
    "duration": 221,
    "start_time": "2022-08-31T08:09:08.571Z"
   },
   {
    "duration": 221,
    "start_time": "2022-08-31T08:09:08.793Z"
   },
   {
    "duration": 5,
    "start_time": "2022-08-31T08:09:09.016Z"
   },
   {
    "duration": 209,
    "start_time": "2022-08-31T08:09:09.023Z"
   },
   {
    "duration": 0,
    "start_time": "2022-08-31T08:09:09.233Z"
   },
   {
    "duration": 0,
    "start_time": "2022-08-31T08:09:09.235Z"
   },
   {
    "duration": 0,
    "start_time": "2022-08-31T08:09:09.236Z"
   },
   {
    "duration": 0,
    "start_time": "2022-08-31T08:09:09.238Z"
   },
   {
    "duration": 0,
    "start_time": "2022-08-31T08:09:09.239Z"
   },
   {
    "duration": 0,
    "start_time": "2022-08-31T08:09:09.240Z"
   },
   {
    "duration": 0,
    "start_time": "2022-08-31T08:09:09.241Z"
   },
   {
    "duration": 0,
    "start_time": "2022-08-31T08:09:09.243Z"
   },
   {
    "duration": 0,
    "start_time": "2022-08-31T08:09:09.244Z"
   },
   {
    "duration": 0,
    "start_time": "2022-08-31T08:09:09.245Z"
   },
   {
    "duration": 0,
    "start_time": "2022-08-31T08:09:09.246Z"
   },
   {
    "duration": 0,
    "start_time": "2022-08-31T08:09:09.267Z"
   },
   {
    "duration": 0,
    "start_time": "2022-08-31T08:09:09.269Z"
   },
   {
    "duration": 0,
    "start_time": "2022-08-31T08:09:09.270Z"
   },
   {
    "duration": 0,
    "start_time": "2022-08-31T08:09:09.271Z"
   },
   {
    "duration": 0,
    "start_time": "2022-08-31T08:09:09.273Z"
   },
   {
    "duration": 0,
    "start_time": "2022-08-31T08:09:09.274Z"
   },
   {
    "duration": 0,
    "start_time": "2022-08-31T08:09:09.275Z"
   },
   {
    "duration": 0,
    "start_time": "2022-08-31T08:09:09.276Z"
   },
   {
    "duration": 0,
    "start_time": "2022-08-31T08:09:09.277Z"
   },
   {
    "duration": 33,
    "start_time": "2022-08-31T08:10:01.852Z"
   },
   {
    "duration": 14,
    "start_time": "2022-08-31T08:10:06.172Z"
   },
   {
    "duration": 10,
    "start_time": "2022-08-31T08:10:26.018Z"
   },
   {
    "duration": 12,
    "start_time": "2022-08-31T08:10:46.271Z"
   },
   {
    "duration": 4,
    "start_time": "2022-08-31T08:10:59.200Z"
   },
   {
    "duration": 885,
    "start_time": "2022-08-31T08:11:03.856Z"
   },
   {
    "duration": 160,
    "start_time": "2022-08-31T08:11:22.281Z"
   },
   {
    "duration": 160,
    "start_time": "2022-08-31T08:11:35.557Z"
   },
   {
    "duration": 110,
    "start_time": "2022-08-31T08:12:59.586Z"
   },
   {
    "duration": 161,
    "start_time": "2022-08-31T08:13:11.182Z"
   },
   {
    "duration": 4,
    "start_time": "2022-08-31T08:16:35.285Z"
   },
   {
    "duration": 1676,
    "start_time": "2022-08-31T08:16:52.337Z"
   },
   {
    "duration": 5,
    "start_time": "2022-08-31T08:17:10.723Z"
   },
   {
    "duration": 6,
    "start_time": "2022-08-31T08:17:22.620Z"
   },
   {
    "duration": 4,
    "start_time": "2022-08-31T08:17:34.525Z"
   },
   {
    "duration": 125,
    "start_time": "2022-08-31T08:17:55.766Z"
   },
   {
    "duration": 4,
    "start_time": "2022-08-31T08:18:45.997Z"
   },
   {
    "duration": 4,
    "start_time": "2022-08-31T08:18:54.202Z"
   },
   {
    "duration": 126,
    "start_time": "2022-08-31T08:18:56.927Z"
   },
   {
    "duration": 136,
    "start_time": "2022-08-31T08:19:07.789Z"
   },
   {
    "duration": 151,
    "start_time": "2022-08-31T08:19:36.197Z"
   },
   {
    "duration": 234,
    "start_time": "2022-08-31T08:20:34.991Z"
   },
   {
    "duration": 4,
    "start_time": "2022-08-31T08:20:59.924Z"
   },
   {
    "duration": 12,
    "start_time": "2022-08-31T08:21:02.247Z"
   },
   {
    "duration": 119,
    "start_time": "2022-08-31T08:21:17.017Z"
   },
   {
    "duration": 12,
    "start_time": "2022-08-31T08:23:34.149Z"
   },
   {
    "duration": 14,
    "start_time": "2022-08-31T08:26:12.004Z"
   },
   {
    "duration": 7,
    "start_time": "2022-08-31T08:26:43.713Z"
   },
   {
    "duration": 184,
    "start_time": "2022-08-31T08:27:00.629Z"
   },
   {
    "duration": 153,
    "start_time": "2022-08-31T08:29:01.359Z"
   },
   {
    "duration": 9,
    "start_time": "2022-08-31T08:29:21.535Z"
   },
   {
    "duration": 9,
    "start_time": "2022-08-31T08:29:44.866Z"
   },
   {
    "duration": 164,
    "start_time": "2022-08-31T08:30:00.235Z"
   },
   {
    "duration": 14,
    "start_time": "2022-08-31T08:30:18.213Z"
   },
   {
    "duration": 7,
    "start_time": "2022-08-31T08:30:31.498Z"
   },
   {
    "duration": 6,
    "start_time": "2022-08-31T08:31:13.792Z"
   },
   {
    "duration": 261,
    "start_time": "2022-08-31T08:31:28.115Z"
   },
   {
    "duration": 17,
    "start_time": "2022-08-31T08:31:51.484Z"
   },
   {
    "duration": 13,
    "start_time": "2022-08-31T08:32:32.295Z"
   },
   {
    "duration": 10,
    "start_time": "2022-08-31T08:32:42.807Z"
   },
   {
    "duration": 131,
    "start_time": "2022-08-31T08:32:48.043Z"
   },
   {
    "duration": 8,
    "start_time": "2022-08-31T08:33:15.072Z"
   },
   {
    "duration": 11,
    "start_time": "2022-08-31T08:37:13.253Z"
   },
   {
    "duration": 135,
    "start_time": "2022-08-31T08:37:56.513Z"
   },
   {
    "duration": 89,
    "start_time": "2022-08-31T08:38:16.249Z"
   },
   {
    "duration": 81,
    "start_time": "2022-08-31T08:38:28.007Z"
   },
   {
    "duration": 1597,
    "start_time": "2022-08-31T08:39:41.165Z"
   },
   {
    "duration": 6,
    "start_time": "2022-08-31T08:39:42.764Z"
   },
   {
    "duration": 966,
    "start_time": "2022-08-31T08:39:42.771Z"
   },
   {
    "duration": 8,
    "start_time": "2022-08-31T08:39:43.739Z"
   },
   {
    "duration": 212,
    "start_time": "2022-08-31T08:39:43.748Z"
   },
   {
    "duration": 180,
    "start_time": "2022-08-31T08:39:43.961Z"
   },
   {
    "duration": 699,
    "start_time": "2022-08-31T08:39:44.142Z"
   },
   {
    "duration": 200,
    "start_time": "2022-08-31T08:39:44.843Z"
   },
   {
    "duration": 91,
    "start_time": "2022-08-31T08:39:45.044Z"
   },
   {
    "duration": 6783,
    "start_time": "2022-08-31T08:39:45.138Z"
   },
   {
    "duration": 308,
    "start_time": "2022-08-31T08:39:51.923Z"
   },
   {
    "duration": 320,
    "start_time": "2022-08-31T08:39:52.233Z"
   },
   {
    "duration": 358,
    "start_time": "2022-08-31T08:39:52.555Z"
   },
   {
    "duration": 436,
    "start_time": "2022-08-31T08:39:52.915Z"
   },
   {
    "duration": 236,
    "start_time": "2022-08-31T08:39:53.353Z"
   },
   {
    "duration": 194,
    "start_time": "2022-08-31T08:39:53.590Z"
   },
   {
    "duration": 4,
    "start_time": "2022-08-31T08:39:53.786Z"
   },
   {
    "duration": 187,
    "start_time": "2022-08-31T08:39:53.792Z"
   },
   {
    "duration": 503,
    "start_time": "2022-08-31T08:39:53.981Z"
   },
   {
    "duration": 102,
    "start_time": "2022-08-31T08:39:54.486Z"
   },
   {
    "duration": 6980,
    "start_time": "2022-08-31T08:39:54.590Z"
   },
   {
    "duration": 346,
    "start_time": "2022-08-31T08:40:01.571Z"
   },
   {
    "duration": 393,
    "start_time": "2022-08-31T08:40:01.918Z"
   },
   {
    "duration": 271,
    "start_time": "2022-08-31T08:40:02.313Z"
   },
   {
    "duration": 5,
    "start_time": "2022-08-31T08:40:02.669Z"
   },
   {
    "duration": 209,
    "start_time": "2022-08-31T08:40:02.677Z"
   },
   {
    "duration": 753,
    "start_time": "2022-08-31T08:40:02.888Z"
   },
   {
    "duration": 92,
    "start_time": "2022-08-31T08:40:03.644Z"
   },
   {
    "duration": 11410,
    "start_time": "2022-08-31T08:40:03.738Z"
   },
   {
    "duration": 325,
    "start_time": "2022-08-31T08:40:15.150Z"
   },
   {
    "duration": 537,
    "start_time": "2022-08-31T08:40:15.477Z"
   },
   {
    "duration": 261,
    "start_time": "2022-08-31T08:40:16.016Z"
   },
   {
    "duration": 1050,
    "start_time": "2022-08-31T08:40:16.279Z"
   },
   {
    "duration": 7345,
    "start_time": "2022-08-31T08:40:17.331Z"
   },
   {
    "duration": 673,
    "start_time": "2022-08-31T08:40:24.678Z"
   },
   {
    "duration": 7203,
    "start_time": "2022-08-31T08:40:25.352Z"
   },
   {
    "duration": 122,
    "start_time": "2022-08-31T08:40:32.556Z"
   },
   {
    "duration": 6,
    "start_time": "2022-08-31T08:40:32.679Z"
   },
   {
    "duration": 95,
    "start_time": "2022-08-31T08:40:33.485Z"
   },
   {
    "duration": 1448,
    "start_time": "2022-08-31T08:48:11.120Z"
   },
   {
    "duration": 5,
    "start_time": "2022-08-31T08:48:12.570Z"
   },
   {
    "duration": 968,
    "start_time": "2022-08-31T08:48:12.577Z"
   },
   {
    "duration": 10,
    "start_time": "2022-08-31T08:48:13.548Z"
   },
   {
    "duration": 225,
    "start_time": "2022-08-31T08:48:13.560Z"
   },
   {
    "duration": 181,
    "start_time": "2022-08-31T08:48:13.787Z"
   },
   {
    "duration": 743,
    "start_time": "2022-08-31T08:48:13.969Z"
   },
   {
    "duration": 203,
    "start_time": "2022-08-31T08:48:14.713Z"
   },
   {
    "duration": 95,
    "start_time": "2022-08-31T08:48:14.918Z"
   },
   {
    "duration": 7007,
    "start_time": "2022-08-31T08:48:15.016Z"
   },
   {
    "duration": 330,
    "start_time": "2022-08-31T08:48:22.024Z"
   },
   {
    "duration": 344,
    "start_time": "2022-08-31T08:48:22.356Z"
   },
   {
    "duration": 377,
    "start_time": "2022-08-31T08:48:22.702Z"
   },
   {
    "duration": 414,
    "start_time": "2022-08-31T08:48:23.081Z"
   },
   {
    "duration": 272,
    "start_time": "2022-08-31T08:48:23.497Z"
   },
   {
    "duration": 123,
    "start_time": "2022-08-31T08:48:23.770Z"
   },
   {
    "duration": 3,
    "start_time": "2022-08-31T08:48:23.895Z"
   },
   {
    "duration": 109,
    "start_time": "2022-08-31T08:48:23.900Z"
   },
   {
    "duration": 520,
    "start_time": "2022-08-31T08:48:24.011Z"
   },
   {
    "duration": 104,
    "start_time": "2022-08-31T08:48:24.533Z"
   },
   {
    "duration": 7061,
    "start_time": "2022-08-31T08:48:24.639Z"
   },
   {
    "duration": 344,
    "start_time": "2022-08-31T08:48:31.703Z"
   },
   {
    "duration": 386,
    "start_time": "2022-08-31T08:48:32.048Z"
   },
   {
    "duration": 243,
    "start_time": "2022-08-31T08:48:32.436Z"
   },
   {
    "duration": 89,
    "start_time": "2022-08-31T08:48:32.681Z"
   },
   {
    "duration": 208,
    "start_time": "2022-08-31T08:48:32.772Z"
   },
   {
    "duration": 744,
    "start_time": "2022-08-31T08:48:32.981Z"
   },
   {
    "duration": 91,
    "start_time": "2022-08-31T08:48:33.728Z"
   },
   {
    "duration": 11338,
    "start_time": "2022-08-31T08:48:33.821Z"
   },
   {
    "duration": 326,
    "start_time": "2022-08-31T08:48:45.161Z"
   },
   {
    "duration": 539,
    "start_time": "2022-08-31T08:48:45.489Z"
   },
   {
    "duration": 338,
    "start_time": "2022-08-31T08:48:46.029Z"
   },
   {
    "duration": 997,
    "start_time": "2022-08-31T08:48:46.370Z"
   },
   {
    "duration": 7108,
    "start_time": "2022-08-31T08:48:47.369Z"
   },
   {
    "duration": 665,
    "start_time": "2022-08-31T08:48:54.478Z"
   },
   {
    "duration": 7250,
    "start_time": "2022-08-31T08:48:55.145Z"
   },
   {
    "duration": 120,
    "start_time": "2022-08-31T08:49:02.397Z"
   },
   {
    "duration": 6,
    "start_time": "2022-08-31T08:49:02.519Z"
   },
   {
    "duration": 477,
    "start_time": "2022-08-31T08:57:05.197Z"
   },
   {
    "duration": 370,
    "start_time": "2022-08-31T08:57:24.444Z"
   },
   {
    "duration": 438,
    "start_time": "2022-08-31T08:57:58.545Z"
   },
   {
    "duration": 455,
    "start_time": "2022-08-31T08:58:15.162Z"
   },
   {
    "duration": 1551,
    "start_time": "2022-08-31T08:58:22.647Z"
   },
   {
    "duration": 6,
    "start_time": "2022-08-31T08:58:24.202Z"
   },
   {
    "duration": 1007,
    "start_time": "2022-08-31T08:58:24.210Z"
   },
   {
    "duration": 8,
    "start_time": "2022-08-31T08:58:25.220Z"
   },
   {
    "duration": 223,
    "start_time": "2022-08-31T08:58:25.230Z"
   },
   {
    "duration": 194,
    "start_time": "2022-08-31T08:58:25.456Z"
   },
   {
    "duration": 795,
    "start_time": "2022-08-31T08:58:25.652Z"
   },
   {
    "duration": 243,
    "start_time": "2022-08-31T08:58:26.451Z"
   },
   {
    "duration": 109,
    "start_time": "2022-08-31T08:58:26.695Z"
   },
   {
    "duration": 7382,
    "start_time": "2022-08-31T08:58:26.808Z"
   },
   {
    "duration": 373,
    "start_time": "2022-08-31T08:58:34.191Z"
   },
   {
    "duration": 350,
    "start_time": "2022-08-31T08:58:34.567Z"
   },
   {
    "duration": 386,
    "start_time": "2022-08-31T08:58:34.918Z"
   },
   {
    "duration": 481,
    "start_time": "2022-08-31T08:58:35.306Z"
   },
   {
    "duration": 286,
    "start_time": "2022-08-31T08:58:35.789Z"
   },
   {
    "duration": 125,
    "start_time": "2022-08-31T08:58:36.076Z"
   },
   {
    "duration": 4,
    "start_time": "2022-08-31T08:58:36.203Z"
   },
   {
    "duration": 153,
    "start_time": "2022-08-31T08:58:36.209Z"
   },
   {
    "duration": 602,
    "start_time": "2022-08-31T08:58:36.367Z"
   },
   {
    "duration": 107,
    "start_time": "2022-08-31T08:58:36.970Z"
   },
   {
    "duration": 7205,
    "start_time": "2022-08-31T08:58:37.079Z"
   },
   {
    "duration": 345,
    "start_time": "2022-08-31T08:58:44.286Z"
   },
   {
    "duration": 434,
    "start_time": "2022-08-31T08:58:44.634Z"
   },
   {
    "duration": 227,
    "start_time": "2022-08-31T08:58:45.070Z"
   },
   {
    "duration": 6,
    "start_time": "2022-08-31T08:58:45.368Z"
   },
   {
    "duration": 228,
    "start_time": "2022-08-31T08:58:45.377Z"
   },
   {
    "duration": 756,
    "start_time": "2022-08-31T08:58:45.607Z"
   },
   {
    "duration": 88,
    "start_time": "2022-08-31T08:58:46.370Z"
   },
   {
    "duration": 11659,
    "start_time": "2022-08-31T08:58:46.469Z"
   },
   {
    "duration": 344,
    "start_time": "2022-08-31T08:58:58.130Z"
   },
   {
    "duration": 550,
    "start_time": "2022-08-31T08:58:58.476Z"
   },
   {
    "duration": 255,
    "start_time": "2022-08-31T08:58:59.028Z"
   },
   {
    "duration": 1070,
    "start_time": "2022-08-31T08:58:59.285Z"
   },
   {
    "duration": 7245,
    "start_time": "2022-08-31T08:59:00.357Z"
   },
   {
    "duration": 650,
    "start_time": "2022-08-31T08:59:07.604Z"
   },
   {
    "duration": 383,
    "start_time": "2022-08-31T08:59:08.268Z"
   },
   {
    "duration": 375,
    "start_time": "2022-08-31T08:59:08.653Z"
   },
   {
    "duration": 0,
    "start_time": "2022-08-31T08:59:09.030Z"
   },
   {
    "duration": 1,
    "start_time": "2022-08-31T08:59:09.031Z"
   },
   {
    "duration": 308,
    "start_time": "2022-08-31T08:59:52.965Z"
   },
   {
    "duration": 536,
    "start_time": "2022-08-31T09:00:33.961Z"
   },
   {
    "duration": 697,
    "start_time": "2022-08-31T09:00:43.010Z"
   },
   {
    "duration": 454,
    "start_time": "2022-08-31T09:00:57.381Z"
   },
   {
    "duration": 265,
    "start_time": "2022-08-31T09:02:06.844Z"
   },
   {
    "duration": 6,
    "start_time": "2022-08-31T09:02:32.890Z"
   },
   {
    "duration": 117,
    "start_time": "2022-08-31T09:03:43.487Z"
   },
   {
    "duration": 6,
    "start_time": "2022-08-31T09:03:45.657Z"
   },
   {
    "duration": 1306,
    "start_time": "2022-08-31T09:04:05.273Z"
   },
   {
    "duration": 5,
    "start_time": "2022-08-31T09:04:08.747Z"
   },
   {
    "duration": 1450,
    "start_time": "2022-08-31T09:04:17.280Z"
   },
   {
    "duration": 5,
    "start_time": "2022-08-31T09:04:18.731Z"
   },
   {
    "duration": 1002,
    "start_time": "2022-08-31T09:04:18.739Z"
   },
   {
    "duration": 8,
    "start_time": "2022-08-31T09:04:19.744Z"
   },
   {
    "duration": 241,
    "start_time": "2022-08-31T09:04:19.754Z"
   },
   {
    "duration": 185,
    "start_time": "2022-08-31T09:04:19.998Z"
   },
   {
    "duration": 756,
    "start_time": "2022-08-31T09:04:20.185Z"
   },
   {
    "duration": 211,
    "start_time": "2022-08-31T09:04:20.944Z"
   },
   {
    "duration": 100,
    "start_time": "2022-08-31T09:04:21.157Z"
   },
   {
    "duration": 7173,
    "start_time": "2022-08-31T09:04:21.270Z"
   },
   {
    "duration": 325,
    "start_time": "2022-08-31T09:04:28.445Z"
   },
   {
    "duration": 332,
    "start_time": "2022-08-31T09:04:28.772Z"
   },
   {
    "duration": 367,
    "start_time": "2022-08-31T09:04:29.106Z"
   },
   {
    "duration": 411,
    "start_time": "2022-08-31T09:04:29.474Z"
   },
   {
    "duration": 292,
    "start_time": "2022-08-31T09:04:29.887Z"
   },
   {
    "duration": 113,
    "start_time": "2022-08-31T09:04:30.180Z"
   },
   {
    "duration": 4,
    "start_time": "2022-08-31T09:04:30.295Z"
   },
   {
    "duration": 168,
    "start_time": "2022-08-31T09:04:30.301Z"
   },
   {
    "duration": 526,
    "start_time": "2022-08-31T09:04:30.472Z"
   },
   {
    "duration": 111,
    "start_time": "2022-08-31T09:04:31.000Z"
   },
   {
    "duration": 7143,
    "start_time": "2022-08-31T09:04:31.113Z"
   },
   {
    "duration": 342,
    "start_time": "2022-08-31T09:04:38.257Z"
   },
   {
    "duration": 379,
    "start_time": "2022-08-31T09:04:38.600Z"
   },
   {
    "duration": 204,
    "start_time": "2022-08-31T09:04:38.982Z"
   },
   {
    "duration": 80,
    "start_time": "2022-08-31T09:04:39.188Z"
   },
   {
    "duration": 198,
    "start_time": "2022-08-31T09:04:39.279Z"
   },
   {
    "duration": 772,
    "start_time": "2022-08-31T09:04:39.479Z"
   },
   {
    "duration": 102,
    "start_time": "2022-08-31T09:04:40.255Z"
   },
   {
    "duration": 11624,
    "start_time": "2022-08-31T09:04:40.367Z"
   },
   {
    "duration": 351,
    "start_time": "2022-08-31T09:04:51.993Z"
   },
   {
    "duration": 561,
    "start_time": "2022-08-31T09:04:52.345Z"
   },
   {
    "duration": 365,
    "start_time": "2022-08-31T09:04:52.908Z"
   },
   {
    "duration": 1019,
    "start_time": "2022-08-31T09:04:53.275Z"
   },
   {
    "duration": 7502,
    "start_time": "2022-08-31T09:04:54.297Z"
   },
   {
    "duration": 717,
    "start_time": "2022-08-31T09:05:01.801Z"
   },
   {
    "duration": 645,
    "start_time": "2022-08-31T09:05:02.519Z"
   },
   {
    "duration": 6,
    "start_time": "2022-08-31T09:05:03.167Z"
   },
   {
    "duration": 225,
    "start_time": "2022-08-31T09:05:03.174Z"
   },
   {
    "duration": 0,
    "start_time": "2022-08-31T09:05:03.401Z"
   },
   {
    "duration": 0,
    "start_time": "2022-08-31T09:05:03.401Z"
   },
   {
    "duration": 1717,
    "start_time": "2022-08-31T09:06:34.178Z"
   },
   {
    "duration": 6,
    "start_time": "2022-08-31T09:06:37.793Z"
   },
   {
    "duration": 2294,
    "start_time": "2022-08-31T09:06:49.428Z"
   },
   {
    "duration": 7,
    "start_time": "2022-08-31T09:06:51.724Z"
   },
   {
    "duration": 992,
    "start_time": "2022-08-31T09:06:51.733Z"
   },
   {
    "duration": 7,
    "start_time": "2022-08-31T09:06:52.728Z"
   },
   {
    "duration": 209,
    "start_time": "2022-08-31T09:06:52.737Z"
   },
   {
    "duration": 182,
    "start_time": "2022-08-31T09:06:52.948Z"
   },
   {
    "duration": 766,
    "start_time": "2022-08-31T09:06:53.132Z"
   },
   {
    "duration": 207,
    "start_time": "2022-08-31T09:06:53.900Z"
   },
   {
    "duration": 92,
    "start_time": "2022-08-31T09:06:54.108Z"
   },
   {
    "duration": 7203,
    "start_time": "2022-08-31T09:06:54.203Z"
   },
   {
    "duration": 377,
    "start_time": "2022-08-31T09:07:01.408Z"
   },
   {
    "duration": 354,
    "start_time": "2022-08-31T09:07:01.787Z"
   },
   {
    "duration": 377,
    "start_time": "2022-08-31T09:07:02.143Z"
   },
   {
    "duration": 455,
    "start_time": "2022-08-31T09:07:02.522Z"
   },
   {
    "duration": 216,
    "start_time": "2022-08-31T09:07:02.978Z"
   },
   {
    "duration": 186,
    "start_time": "2022-08-31T09:07:03.196Z"
   },
   {
    "duration": 4,
    "start_time": "2022-08-31T09:07:03.383Z"
   },
   {
    "duration": 107,
    "start_time": "2022-08-31T09:07:03.388Z"
   },
   {
    "duration": 496,
    "start_time": "2022-08-31T09:07:03.497Z"
   },
   {
    "duration": 99,
    "start_time": "2022-08-31T09:07:03.994Z"
   },
   {
    "duration": 7049,
    "start_time": "2022-08-31T09:07:04.095Z"
   },
   {
    "duration": 326,
    "start_time": "2022-08-31T09:07:11.145Z"
   },
   {
    "duration": 395,
    "start_time": "2022-08-31T09:07:11.473Z"
   },
   {
    "duration": 301,
    "start_time": "2022-08-31T09:07:11.871Z"
   },
   {
    "duration": 7,
    "start_time": "2022-08-31T09:07:12.174Z"
   },
   {
    "duration": 123,
    "start_time": "2022-08-31T09:07:12.269Z"
   },
   {
    "duration": 818,
    "start_time": "2022-08-31T09:07:12.394Z"
   },
   {
    "duration": 103,
    "start_time": "2022-08-31T09:07:13.216Z"
   },
   {
    "duration": 11574,
    "start_time": "2022-08-31T09:07:13.321Z"
   },
   {
    "duration": 352,
    "start_time": "2022-08-31T09:07:24.896Z"
   },
   {
    "duration": 563,
    "start_time": "2022-08-31T09:07:25.250Z"
   },
   {
    "duration": 265,
    "start_time": "2022-08-31T09:07:25.815Z"
   },
   {
    "duration": 1165,
    "start_time": "2022-08-31T09:07:26.081Z"
   },
   {
    "duration": 7339,
    "start_time": "2022-08-31T09:07:27.248Z"
   },
   {
    "duration": 659,
    "start_time": "2022-08-31T09:07:34.589Z"
   },
   {
    "duration": 641,
    "start_time": "2022-08-31T09:07:35.250Z"
   },
   {
    "duration": 5,
    "start_time": "2022-08-31T09:07:35.893Z"
   },
   {
    "duration": 229,
    "start_time": "2022-08-31T09:07:35.900Z"
   },
   {
    "duration": 0,
    "start_time": "2022-08-31T09:07:36.130Z"
   },
   {
    "duration": 0,
    "start_time": "2022-08-31T09:07:36.132Z"
   },
   {
    "duration": 552,
    "start_time": "2022-08-31T09:09:16.077Z"
   },
   {
    "duration": 5,
    "start_time": "2022-08-31T09:09:18.376Z"
   },
   {
    "duration": 592,
    "start_time": "2022-08-31T09:09:38.333Z"
   },
   {
    "duration": 6,
    "start_time": "2022-08-31T09:09:40.611Z"
   },
   {
    "duration": 2053,
    "start_time": "2022-08-31T09:09:56.209Z"
   },
   {
    "duration": 5,
    "start_time": "2022-08-31T09:09:58.264Z"
   },
   {
    "duration": 1042,
    "start_time": "2022-08-31T09:09:58.271Z"
   },
   {
    "duration": 9,
    "start_time": "2022-08-31T09:09:59.316Z"
   },
   {
    "duration": 278,
    "start_time": "2022-08-31T09:09:59.327Z"
   },
   {
    "duration": 197,
    "start_time": "2022-08-31T09:09:59.607Z"
   },
   {
    "duration": 838,
    "start_time": "2022-08-31T09:09:59.807Z"
   },
   {
    "duration": 224,
    "start_time": "2022-08-31T09:10:00.647Z"
   },
   {
    "duration": 112,
    "start_time": "2022-08-31T09:10:00.873Z"
   },
   {
    "duration": 7370,
    "start_time": "2022-08-31T09:10:00.989Z"
   },
   {
    "duration": 327,
    "start_time": "2022-08-31T09:10:08.361Z"
   },
   {
    "duration": 348,
    "start_time": "2022-08-31T09:10:08.690Z"
   },
   {
    "duration": 376,
    "start_time": "2022-08-31T09:10:09.040Z"
   },
   {
    "duration": 444,
    "start_time": "2022-08-31T09:10:09.419Z"
   },
   {
    "duration": 229,
    "start_time": "2022-08-31T09:10:09.867Z"
   },
   {
    "duration": 192,
    "start_time": "2022-08-31T09:10:10.097Z"
   },
   {
    "duration": 6,
    "start_time": "2022-08-31T09:10:10.291Z"
   },
   {
    "duration": 125,
    "start_time": "2022-08-31T09:10:10.299Z"
   },
   {
    "duration": 518,
    "start_time": "2022-08-31T09:10:10.427Z"
   },
   {
    "duration": 102,
    "start_time": "2022-08-31T09:10:10.948Z"
   },
   {
    "duration": 7106,
    "start_time": "2022-08-31T09:10:11.052Z"
   },
   {
    "duration": 329,
    "start_time": "2022-08-31T09:10:18.160Z"
   },
   {
    "duration": 392,
    "start_time": "2022-08-31T09:10:18.491Z"
   },
   {
    "duration": 207,
    "start_time": "2022-08-31T09:10:18.885Z"
   },
   {
    "duration": 74,
    "start_time": "2022-08-31T09:10:19.094Z"
   },
   {
    "duration": 211,
    "start_time": "2022-08-31T09:10:19.170Z"
   },
   {
    "duration": 762,
    "start_time": "2022-08-31T09:10:19.383Z"
   },
   {
    "duration": 89,
    "start_time": "2022-08-31T09:10:20.148Z"
   },
   {
    "duration": 11697,
    "start_time": "2022-08-31T09:10:20.238Z"
   },
   {
    "duration": 352,
    "start_time": "2022-08-31T09:10:31.937Z"
   },
   {
    "duration": 570,
    "start_time": "2022-08-31T09:10:32.291Z"
   },
   {
    "duration": 316,
    "start_time": "2022-08-31T09:10:32.862Z"
   },
   {
    "duration": 1052,
    "start_time": "2022-08-31T09:10:33.180Z"
   },
   {
    "duration": 7418,
    "start_time": "2022-08-31T09:10:34.234Z"
   },
   {
    "duration": 692,
    "start_time": "2022-08-31T09:10:41.653Z"
   },
   {
    "duration": 22,
    "start_time": "2022-08-31T09:10:42.347Z"
   },
   {
    "duration": 7100,
    "start_time": "2022-08-31T09:10:42.371Z"
   },
   {
    "duration": 132,
    "start_time": "2022-08-31T09:10:49.473Z"
   },
   {
    "duration": 7,
    "start_time": "2022-08-31T09:10:49.608Z"
   },
   {
    "duration": 6961,
    "start_time": "2022-08-31T09:12:08.319Z"
   },
   {
    "duration": 7244,
    "start_time": "2022-08-31T09:12:25.860Z"
   },
   {
    "duration": 128,
    "start_time": "2022-08-31T09:15:12.278Z"
   },
   {
    "duration": 150,
    "start_time": "2022-08-31T09:15:25.338Z"
   },
   {
    "duration": 7237,
    "start_time": "2022-08-31T09:15:32.036Z"
   },
   {
    "duration": 8,
    "start_time": "2022-08-31T09:17:38.781Z"
   },
   {
    "duration": 6966,
    "start_time": "2022-08-31T09:18:35.386Z"
   },
   {
    "duration": 7,
    "start_time": "2022-08-31T09:18:42.354Z"
   },
   {
    "duration": 1385,
    "start_time": "2022-08-31T09:18:42.364Z"
   },
   {
    "duration": 8,
    "start_time": "2022-08-31T09:18:43.752Z"
   },
   {
    "duration": 308,
    "start_time": "2022-08-31T09:18:43.762Z"
   },
   {
    "duration": 491,
    "start_time": "2022-08-31T09:18:44.072Z"
   },
   {
    "duration": 1221,
    "start_time": "2022-08-31T09:18:44.567Z"
   },
   {
    "duration": 404,
    "start_time": "2022-08-31T09:18:45.791Z"
   },
   {
    "duration": 101,
    "start_time": "2022-08-31T09:18:46.197Z"
   },
   {
    "duration": 8049,
    "start_time": "2022-08-31T09:18:46.301Z"
   },
   {
    "duration": 411,
    "start_time": "2022-08-31T09:18:54.353Z"
   },
   {
    "duration": 1032,
    "start_time": "2022-08-31T09:18:54.766Z"
   },
   {
    "duration": 1629,
    "start_time": "2022-08-31T09:18:55.800Z"
   },
   {
    "duration": 541,
    "start_time": "2022-08-31T09:18:57.432Z"
   },
   {
    "duration": 295,
    "start_time": "2022-08-31T09:18:57.976Z"
   },
   {
    "duration": 125,
    "start_time": "2022-08-31T09:18:58.275Z"
   },
   {
    "duration": 7,
    "start_time": "2022-08-31T09:18:58.402Z"
   },
   {
    "duration": 165,
    "start_time": "2022-08-31T09:18:58.411Z"
   },
   {
    "duration": 790,
    "start_time": "2022-08-31T09:18:58.579Z"
   },
   {
    "duration": 106,
    "start_time": "2022-08-31T09:18:59.370Z"
   },
   {
    "duration": 8128,
    "start_time": "2022-08-31T09:18:59.478Z"
   },
   {
    "duration": 542,
    "start_time": "2022-08-31T09:19:07.608Z"
   },
   {
    "duration": 896,
    "start_time": "2022-08-31T09:19:08.152Z"
   },
   {
    "duration": 419,
    "start_time": "2022-08-31T09:19:09.050Z"
   },
   {
    "duration": 4,
    "start_time": "2022-08-31T09:19:09.471Z"
   },
   {
    "duration": 296,
    "start_time": "2022-08-31T09:19:09.477Z"
   },
   {
    "duration": 1083,
    "start_time": "2022-08-31T09:19:09.775Z"
   },
   {
    "duration": 120,
    "start_time": "2022-08-31T09:19:10.867Z"
   },
   {
    "duration": 13540,
    "start_time": "2022-08-31T09:19:10.990Z"
   },
   {
    "duration": 583,
    "start_time": "2022-08-31T09:19:24.532Z"
   },
   {
    "duration": 1019,
    "start_time": "2022-08-31T09:19:25.117Z"
   },
   {
    "duration": 333,
    "start_time": "2022-08-31T09:19:26.138Z"
   },
   {
    "duration": 1498,
    "start_time": "2022-08-31T09:19:26.483Z"
   },
   {
    "duration": 8723,
    "start_time": "2022-08-31T09:19:27.982Z"
   },
   {
    "duration": 889,
    "start_time": "2022-08-31T09:19:36.707Z"
   },
   {
    "duration": 14,
    "start_time": "2022-08-31T09:19:37.598Z"
   },
   {
    "duration": 13927,
    "start_time": "2022-08-31T09:19:37.615Z"
   },
   {
    "duration": 127,
    "start_time": "2022-08-31T09:19:51.544Z"
   },
   {
    "duration": 12343,
    "start_time": "2022-08-31T09:20:48.165Z"
   },
   {
    "duration": 12613,
    "start_time": "2022-08-31T09:21:07.551Z"
   },
   {
    "duration": 13736,
    "start_time": "2022-08-31T09:21:27.474Z"
   },
   {
    "duration": 14052,
    "start_time": "2022-08-31T09:21:49.203Z"
   },
   {
    "duration": 13684,
    "start_time": "2022-08-31T09:22:08.814Z"
   },
   {
    "duration": 13189,
    "start_time": "2022-08-31T09:23:08.800Z"
   },
   {
    "duration": 12457,
    "start_time": "2022-08-31T09:23:29.097Z"
   },
   {
    "duration": 1649,
    "start_time": "2022-08-31T09:27:41.694Z"
   },
   {
    "duration": 6,
    "start_time": "2022-08-31T09:27:43.345Z"
   },
   {
    "duration": 984,
    "start_time": "2022-08-31T09:27:43.353Z"
   },
   {
    "duration": 7,
    "start_time": "2022-08-31T09:27:44.339Z"
   },
   {
    "duration": 229,
    "start_time": "2022-08-31T09:27:44.348Z"
   },
   {
    "duration": 184,
    "start_time": "2022-08-31T09:27:44.579Z"
   },
   {
    "duration": 868,
    "start_time": "2022-08-31T09:27:44.767Z"
   },
   {
    "duration": 208,
    "start_time": "2022-08-31T09:27:45.637Z"
   },
   {
    "duration": 92,
    "start_time": "2022-08-31T09:27:45.846Z"
   },
   {
    "duration": 7024,
    "start_time": "2022-08-31T09:27:45.941Z"
   },
   {
    "duration": 338,
    "start_time": "2022-08-31T09:27:52.968Z"
   },
   {
    "duration": 332,
    "start_time": "2022-08-31T09:27:53.308Z"
   },
   {
    "duration": 436,
    "start_time": "2022-08-31T09:27:53.642Z"
   },
   {
    "duration": 465,
    "start_time": "2022-08-31T09:27:54.080Z"
   },
   {
    "duration": 244,
    "start_time": "2022-08-31T09:27:54.547Z"
   },
   {
    "duration": 196,
    "start_time": "2022-08-31T09:27:54.792Z"
   },
   {
    "duration": 4,
    "start_time": "2022-08-31T09:27:54.991Z"
   },
   {
    "duration": 117,
    "start_time": "2022-08-31T09:27:54.996Z"
   },
   {
    "duration": 520,
    "start_time": "2022-08-31T09:27:55.115Z"
   },
   {
    "duration": 100,
    "start_time": "2022-08-31T09:27:55.637Z"
   },
   {
    "duration": 7155,
    "start_time": "2022-08-31T09:27:55.738Z"
   },
   {
    "duration": 429,
    "start_time": "2022-08-31T09:28:02.895Z"
   },
   {
    "duration": 468,
    "start_time": "2022-08-31T09:28:03.327Z"
   },
   {
    "duration": 280,
    "start_time": "2022-08-31T09:28:03.797Z"
   },
   {
    "duration": 8,
    "start_time": "2022-08-31T09:28:04.079Z"
   },
   {
    "duration": 165,
    "start_time": "2022-08-31T09:28:04.169Z"
   },
   {
    "duration": 919,
    "start_time": "2022-08-31T09:28:04.336Z"
   },
   {
    "duration": 91,
    "start_time": "2022-08-31T09:28:05.258Z"
   },
   {
    "duration": 11847,
    "start_time": "2022-08-31T09:28:05.350Z"
   },
   {
    "duration": 350,
    "start_time": "2022-08-31T09:28:17.199Z"
   },
   {
    "duration": 649,
    "start_time": "2022-08-31T09:28:17.551Z"
   },
   {
    "duration": 273,
    "start_time": "2022-08-31T09:28:18.202Z"
   },
   {
    "duration": 1027,
    "start_time": "2022-08-31T09:28:18.477Z"
   },
   {
    "duration": 7410,
    "start_time": "2022-08-31T09:28:19.506Z"
   },
   {
    "duration": 702,
    "start_time": "2022-08-31T09:28:26.918Z"
   },
   {
    "duration": 15,
    "start_time": "2022-08-31T09:28:27.622Z"
   },
   {
    "duration": 10612,
    "start_time": "2022-08-31T09:28:27.639Z"
   },
   {
    "duration": 125,
    "start_time": "2022-08-31T09:28:38.253Z"
   },
   {
    "duration": 1739,
    "start_time": "2022-08-31T14:25:45.679Z"
   },
   {
    "duration": 5,
    "start_time": "2022-08-31T14:25:47.420Z"
   },
   {
    "duration": 937,
    "start_time": "2022-08-31T14:25:47.427Z"
   },
   {
    "duration": 7,
    "start_time": "2022-08-31T14:25:48.366Z"
   },
   {
    "duration": 269,
    "start_time": "2022-08-31T14:25:48.374Z"
   },
   {
    "duration": 176,
    "start_time": "2022-08-31T14:25:48.645Z"
   },
   {
    "duration": 705,
    "start_time": "2022-08-31T14:25:48.822Z"
   },
   {
    "duration": 218,
    "start_time": "2022-08-31T14:25:49.529Z"
   },
   {
    "duration": 97,
    "start_time": "2022-08-31T14:25:49.748Z"
   },
   {
    "duration": 6809,
    "start_time": "2022-08-31T14:25:49.848Z"
   },
   {
    "duration": 340,
    "start_time": "2022-08-31T14:25:56.659Z"
   },
   {
    "duration": 350,
    "start_time": "2022-08-31T14:25:57.001Z"
   },
   {
    "duration": 391,
    "start_time": "2022-08-31T14:25:57.353Z"
   },
   {
    "duration": 408,
    "start_time": "2022-08-31T14:25:57.747Z"
   },
   {
    "duration": 277,
    "start_time": "2022-08-31T14:25:58.156Z"
   },
   {
    "duration": 182,
    "start_time": "2022-08-31T14:25:58.435Z"
   },
   {
    "duration": 4,
    "start_time": "2022-08-31T14:25:58.618Z"
   },
   {
    "duration": 119,
    "start_time": "2022-08-31T14:25:58.623Z"
   },
   {
    "duration": 497,
    "start_time": "2022-08-31T14:25:58.744Z"
   },
   {
    "duration": 101,
    "start_time": "2022-08-31T14:25:59.242Z"
   },
   {
    "duration": 6897,
    "start_time": "2022-08-31T14:25:59.345Z"
   },
   {
    "duration": 339,
    "start_time": "2022-08-31T14:26:06.243Z"
   },
   {
    "duration": 387,
    "start_time": "2022-08-31T14:26:06.583Z"
   },
   {
    "duration": 335,
    "start_time": "2022-08-31T14:26:06.971Z"
   },
   {
    "duration": 5,
    "start_time": "2022-08-31T14:26:07.307Z"
   },
   {
    "duration": 220,
    "start_time": "2022-08-31T14:26:07.313Z"
   },
   {
    "duration": 763,
    "start_time": "2022-08-31T14:26:07.535Z"
   },
   {
    "duration": 87,
    "start_time": "2022-08-31T14:26:08.301Z"
   },
   {
    "duration": 11387,
    "start_time": "2022-08-31T14:26:08.389Z"
   },
   {
    "duration": 335,
    "start_time": "2022-08-31T14:26:19.778Z"
   },
   {
    "duration": 550,
    "start_time": "2022-08-31T14:26:20.114Z"
   },
   {
    "duration": 267,
    "start_time": "2022-08-31T14:26:20.665Z"
   },
   {
    "duration": 1018,
    "start_time": "2022-08-31T14:26:20.934Z"
   },
   {
    "duration": 7093,
    "start_time": "2022-08-31T14:26:21.953Z"
   },
   {
    "duration": 639,
    "start_time": "2022-08-31T14:26:29.048Z"
   },
   {
    "duration": 26,
    "start_time": "2022-08-31T14:26:29.690Z"
   },
   {
    "duration": 10447,
    "start_time": "2022-08-31T14:26:29.718Z"
   },
   {
    "duration": 10361,
    "start_time": "2022-08-31T14:26:40.167Z"
   },
   {
    "duration": 126,
    "start_time": "2022-08-31T14:26:50.529Z"
   },
   {
    "duration": 1674,
    "start_time": "2022-08-31T19:47:27.382Z"
   },
   {
    "duration": 5,
    "start_time": "2022-08-31T19:47:29.058Z"
   },
   {
    "duration": 921,
    "start_time": "2022-08-31T19:47:29.065Z"
   },
   {
    "duration": 9,
    "start_time": "2022-08-31T19:47:29.989Z"
   },
   {
    "duration": 253,
    "start_time": "2022-08-31T19:47:29.999Z"
   },
   {
    "duration": 176,
    "start_time": "2022-08-31T19:47:30.253Z"
   },
   {
    "duration": 718,
    "start_time": "2022-08-31T19:47:30.431Z"
   },
   {
    "duration": 193,
    "start_time": "2022-08-31T19:47:31.150Z"
   },
   {
    "duration": 87,
    "start_time": "2022-08-31T19:47:31.345Z"
   },
   {
    "duration": 6576,
    "start_time": "2022-08-31T19:47:31.435Z"
   },
   {
    "duration": 304,
    "start_time": "2022-08-31T19:47:38.012Z"
   },
   {
    "duration": 306,
    "start_time": "2022-08-31T19:47:38.319Z"
   },
   {
    "duration": 371,
    "start_time": "2022-08-31T19:47:38.627Z"
   },
   {
    "duration": 335,
    "start_time": "2022-08-31T19:47:39.000Z"
   },
   {
    "duration": 351,
    "start_time": "2022-08-31T19:47:39.337Z"
   },
   {
    "duration": 123,
    "start_time": "2022-08-31T19:47:39.690Z"
   },
   {
    "duration": 3,
    "start_time": "2022-08-31T19:47:39.814Z"
   },
   {
    "duration": 102,
    "start_time": "2022-08-31T19:47:39.819Z"
   },
   {
    "duration": 579,
    "start_time": "2022-08-31T19:47:39.923Z"
   },
   {
    "duration": 91,
    "start_time": "2022-08-31T19:47:40.504Z"
   },
   {
    "duration": 6499,
    "start_time": "2022-08-31T19:47:40.597Z"
   },
   {
    "duration": 310,
    "start_time": "2022-08-31T19:47:47.098Z"
   },
   {
    "duration": 374,
    "start_time": "2022-08-31T19:47:47.410Z"
   },
   {
    "duration": 301,
    "start_time": "2022-08-31T19:47:47.787Z"
   },
   {
    "duration": 6,
    "start_time": "2022-08-31T19:47:48.090Z"
   },
   {
    "duration": 117,
    "start_time": "2022-08-31T19:47:48.186Z"
   },
   {
    "duration": 853,
    "start_time": "2022-08-31T19:47:48.305Z"
   },
   {
    "duration": 95,
    "start_time": "2022-08-31T19:47:49.162Z"
   },
   {
    "duration": 10954,
    "start_time": "2022-08-31T19:47:49.258Z"
   },
   {
    "duration": 318,
    "start_time": "2022-08-31T19:48:00.213Z"
   },
   {
    "duration": 567,
    "start_time": "2022-08-31T19:48:00.534Z"
   },
   {
    "duration": 289,
    "start_time": "2022-08-31T19:48:01.103Z"
   },
   {
    "duration": 999,
    "start_time": "2022-08-31T19:48:01.394Z"
   },
   {
    "duration": 7109,
    "start_time": "2022-08-31T19:48:02.395Z"
   },
   {
    "duration": 681,
    "start_time": "2022-08-31T19:48:09.506Z"
   },
   {
    "duration": 13,
    "start_time": "2022-08-31T19:48:10.189Z"
   },
   {
    "duration": 9883,
    "start_time": "2022-08-31T19:48:10.204Z"
   },
   {
    "duration": 9702,
    "start_time": "2022-08-31T19:48:20.089Z"
   },
   {
    "duration": 114,
    "start_time": "2022-08-31T19:48:29.793Z"
   },
   {
    "duration": 1406,
    "start_time": "2022-08-31T19:54:46.371Z"
   },
   {
    "duration": 5,
    "start_time": "2022-08-31T19:54:47.778Z"
   },
   {
    "duration": 921,
    "start_time": "2022-08-31T19:54:47.785Z"
   },
   {
    "duration": 7,
    "start_time": "2022-08-31T19:54:48.708Z"
   },
   {
    "duration": 206,
    "start_time": "2022-08-31T19:54:48.716Z"
   },
   {
    "duration": 180,
    "start_time": "2022-08-31T19:54:48.923Z"
   },
   {
    "duration": 663,
    "start_time": "2022-08-31T19:54:49.105Z"
   },
   {
    "duration": 190,
    "start_time": "2022-08-31T19:54:49.770Z"
   },
   {
    "duration": 98,
    "start_time": "2022-08-31T19:54:49.962Z"
   },
   {
    "duration": 6623,
    "start_time": "2022-08-31T19:54:50.062Z"
   },
   {
    "duration": 291,
    "start_time": "2022-08-31T19:54:56.687Z"
   },
   {
    "duration": 304,
    "start_time": "2022-08-31T19:54:56.980Z"
   },
   {
    "duration": 365,
    "start_time": "2022-08-31T19:54:57.286Z"
   },
   {
    "duration": 384,
    "start_time": "2022-08-31T19:54:57.653Z"
   },
   {
    "duration": 350,
    "start_time": "2022-08-31T19:54:58.039Z"
   },
   {
    "duration": 122,
    "start_time": "2022-08-31T19:54:58.392Z"
   },
   {
    "duration": 4,
    "start_time": "2022-08-31T19:54:58.516Z"
   },
   {
    "duration": 103,
    "start_time": "2022-08-31T19:54:58.521Z"
   },
   {
    "duration": 548,
    "start_time": "2022-08-31T19:54:58.627Z"
   },
   {
    "duration": 87,
    "start_time": "2022-08-31T19:54:59.176Z"
   },
   {
    "duration": 6574,
    "start_time": "2022-08-31T19:54:59.265Z"
   },
   {
    "duration": 314,
    "start_time": "2022-08-31T19:55:05.841Z"
   },
   {
    "duration": 399,
    "start_time": "2022-08-31T19:55:06.157Z"
   },
   {
    "duration": 331,
    "start_time": "2022-08-31T19:55:06.558Z"
   },
   {
    "duration": 6,
    "start_time": "2022-08-31T19:55:06.891Z"
   },
   {
    "duration": 119,
    "start_time": "2022-08-31T19:55:06.988Z"
   },
   {
    "duration": 816,
    "start_time": "2022-08-31T19:55:07.109Z"
   },
   {
    "duration": 94,
    "start_time": "2022-08-31T19:55:07.928Z"
   },
   {
    "duration": 11110,
    "start_time": "2022-08-31T19:55:08.024Z"
   },
   {
    "duration": 308,
    "start_time": "2022-08-31T19:55:19.135Z"
   },
   {
    "duration": 572,
    "start_time": "2022-08-31T19:55:19.445Z"
   },
   {
    "duration": 270,
    "start_time": "2022-08-31T19:55:20.018Z"
   },
   {
    "duration": 935,
    "start_time": "2022-08-31T19:55:20.290Z"
   },
   {
    "duration": 6840,
    "start_time": "2022-08-31T19:55:21.226Z"
   },
   {
    "duration": 607,
    "start_time": "2022-08-31T19:55:28.067Z"
   },
   {
    "duration": 12,
    "start_time": "2022-08-31T19:55:28.686Z"
   },
   {
    "duration": 9665,
    "start_time": "2022-08-31T19:55:28.699Z"
   },
   {
    "duration": 111,
    "start_time": "2022-08-31T19:55:38.366Z"
   },
   {
    "duration": 1392,
    "start_time": "2022-08-31T19:59:39.581Z"
   },
   {
    "duration": 5,
    "start_time": "2022-08-31T19:59:40.974Z"
   },
   {
    "duration": 885,
    "start_time": "2022-08-31T19:59:40.981Z"
   },
   {
    "duration": 7,
    "start_time": "2022-08-31T19:59:41.868Z"
   },
   {
    "duration": 213,
    "start_time": "2022-08-31T19:59:41.877Z"
   },
   {
    "duration": 170,
    "start_time": "2022-08-31T19:59:42.092Z"
   },
   {
    "duration": 731,
    "start_time": "2022-08-31T19:59:42.264Z"
   },
   {
    "duration": 203,
    "start_time": "2022-08-31T19:59:42.997Z"
   },
   {
    "duration": 92,
    "start_time": "2022-08-31T19:59:43.202Z"
   },
   {
    "duration": 6710,
    "start_time": "2022-08-31T19:59:43.296Z"
   },
   {
    "duration": 311,
    "start_time": "2022-08-31T19:59:50.008Z"
   },
   {
    "duration": 307,
    "start_time": "2022-08-31T19:59:50.320Z"
   },
   {
    "duration": 354,
    "start_time": "2022-08-31T19:59:50.628Z"
   },
   {
    "duration": 343,
    "start_time": "2022-08-31T19:59:50.984Z"
   },
   {
    "duration": 259,
    "start_time": "2022-08-31T19:59:51.329Z"
   },
   {
    "duration": 123,
    "start_time": "2022-08-31T19:59:51.590Z"
   },
   {
    "duration": 4,
    "start_time": "2022-08-31T19:59:51.714Z"
   },
   {
    "duration": 99,
    "start_time": "2022-08-31T19:59:51.719Z"
   },
   {
    "duration": 543,
    "start_time": "2022-08-31T19:59:51.820Z"
   },
   {
    "duration": 92,
    "start_time": "2022-08-31T19:59:52.364Z"
   },
   {
    "duration": 6420,
    "start_time": "2022-08-31T19:59:52.458Z"
   },
   {
    "duration": 318,
    "start_time": "2022-08-31T19:59:58.880Z"
   },
   {
    "duration": 368,
    "start_time": "2022-08-31T19:59:59.200Z"
   },
   {
    "duration": 318,
    "start_time": "2022-08-31T19:59:59.570Z"
   },
   {
    "duration": 5,
    "start_time": "2022-08-31T19:59:59.891Z"
   },
   {
    "duration": 157,
    "start_time": "2022-08-31T19:59:59.987Z"
   },
   {
    "duration": 805,
    "start_time": "2022-08-31T20:00:00.146Z"
   },
   {
    "duration": 89,
    "start_time": "2022-08-31T20:00:00.953Z"
   },
   {
    "duration": 11198,
    "start_time": "2022-08-31T20:00:01.043Z"
   },
   {
    "duration": 317,
    "start_time": "2022-08-31T20:00:12.243Z"
   },
   {
    "duration": 580,
    "start_time": "2022-08-31T20:00:12.562Z"
   },
   {
    "duration": 274,
    "start_time": "2022-08-31T20:00:13.143Z"
   },
   {
    "duration": 956,
    "start_time": "2022-08-31T20:00:13.489Z"
   },
   {
    "duration": 6911,
    "start_time": "2022-08-31T20:00:14.446Z"
   },
   {
    "duration": 628,
    "start_time": "2022-08-31T20:00:21.359Z"
   },
   {
    "duration": 13,
    "start_time": "2022-08-31T20:00:21.988Z"
   },
   {
    "duration": 10008,
    "start_time": "2022-08-31T20:00:22.002Z"
   },
   {
    "duration": 117,
    "start_time": "2022-08-31T20:00:32.012Z"
   }
  ],
  "kernelspec": {
   "display_name": "Python 3 (ipykernel)",
   "language": "python",
   "name": "python3"
  },
  "language_info": {
   "codemirror_mode": {
    "name": "ipython",
    "version": 3
   },
   "file_extension": ".py",
   "mimetype": "text/x-python",
   "name": "python",
   "nbconvert_exporter": "python",
   "pygments_lexer": "ipython3",
   "version": "3.10.3"
  },
  "toc": {
   "base_numbering": 1,
   "nav_menu": {},
   "number_sections": true,
   "sideBar": true,
   "skip_h1_title": true,
   "title_cell": "Содержание",
   "title_sidebar": "Contents",
   "toc_cell": true,
   "toc_position": {
    "height": "calc(100% - 180px)",
    "left": "10px",
    "top": "150px",
    "width": "270.188px"
   },
   "toc_section_display": true,
   "toc_window_display": true
  }
 },
 "nbformat": 4,
 "nbformat_minor": 2
}
